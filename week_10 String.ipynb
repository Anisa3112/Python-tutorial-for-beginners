{
 "cells": [
  {
   "cell_type": "markdown",
   "metadata": {},
   "source": [
    "# String\n",
    "\n",
    "Pada sesi ini, diperkenalkan beberapa contoh manipulasi string."
   ]
  },
  {
   "cell_type": "markdown",
   "metadata": {},
   "source": [
    "## Fungsi len \n",
    "\n",
    "Digunakan untuk menghitung panjang karakter suatu string. Perhatikan contoh di bawah ini."
   ]
  },
  {
   "cell_type": "code",
   "execution_count": 1,
   "metadata": {
    "scrolled": true
   },
   "outputs": [
    {
     "name": "stdout",
     "output_type": "stream",
     "text": [
      "8\n"
     ]
    }
   ],
   "source": [
    "bulan = \"Romadhon\"\n",
    "nchar = len(bulan)\n",
    "print(nchar)"
   ]
  },
  {
   "cell_type": "markdown",
   "metadata": {},
   "source": [
    "## Indeks Karakter suatu String\n",
    "\n",
    "String dalam bentuk kata atau kalimat adalah kumpulan karekter atau huruf. Sebagai sebuah kumpulan, kata atau kalimat tentu dapat dianalogikan dengan sebuah list, dimana setiap huruf dalam kata atau kalimat memiliki posisi atau indeks."
   ]
  },
  {
   "attachments": {},
   "cell_type": "markdown",
   "metadata": {},
   "source": [
    "<img src=\"images/w10stringindeks.JPG\">"
   ]
  },
  {
   "cell_type": "markdown",
   "metadata": {},
   "source": [
    "## Mengakses Karakter suatu String\n",
    "\n",
    "Mengakses karakter sebuah string dapat langsung dengan menentukan posisi atau indeks karakter tersebut sebagaimana mengakses isi sebuah list."
   ]
  },
  {
   "cell_type": "code",
   "execution_count": 2,
   "metadata": {},
   "outputs": [
    {
     "name": "stdout",
     "output_type": "stream",
     "text": [
      "d\n",
      "n\n"
     ]
    }
   ],
   "source": [
    "print(bulan[4])\n",
    "print(bulan[-1])"
   ]
  },
  {
   "cell_type": "code",
   "execution_count": 3,
   "metadata": {},
   "outputs": [
    {
     "name": "stdout",
     "output_type": "stream",
     "text": [
      "R\n",
      "o\n",
      "m\n",
      "a\n",
      "d\n",
      "h\n",
      "o\n",
      "n\n"
     ]
    }
   ],
   "source": [
    "for huruf in bulan:\n",
    "    print(huruf)\n",
    "    "
   ]
  },
  {
   "cell_type": "code",
   "execution_count": 6,
   "metadata": {},
   "outputs": [
    {
     "name": "stdout",
     "output_type": "stream",
     "text": [
      "R\n",
      "o\n",
      "m\n",
      "a\n",
      "d\n",
      "h\n",
      "o\n",
      "n\n"
     ]
    }
   ],
   "source": [
    "indek = 0\n",
    "while indek < len(bulan):\n",
    "    print(bulan[indek])\n",
    "    indek = indek + 1"
   ]
  },
  {
   "cell_type": "markdown",
   "metadata": {},
   "source": [
    "## Memotong Kata: Slice\n",
    "\n",
    "Konsep <i>slice</i> atau mengambil sebagian elemen dari sebuah kumpulan penting untuk dipahami, khususnya pada saat Anda berinteraksi dengan data analisis. \n",
    "\n",
    "Pada contoh sederhana kali ini, digunakan string kata sebagai ilustrasi sebuah list. String ini akan diambil sebagian huruf atau karakternya.\n",
    "\n",
    "Format pemotongan atau pengambilan data dalam sebuah list sebagai berikut."
   ]
  },
  {
   "attachments": {
    "image.png": {
     "image/png": "[encoded data removed]"
    }
   },
   "cell_type": "markdown",
   "metadata": {},
   "source": [
    "![image.png](attachment:image.png)"
   ]
  },
  {
   "cell_type": "code",
   "execution_count": 4,
   "metadata": {},
   "outputs": [],
   "source": [
    "namaBulan = 'JanFebMarAprMayJunJulAugSepOctNovDec'"
   ]
  },
  {
   "cell_type": "code",
   "execution_count": 5,
   "metadata": {},
   "outputs": [
    {
     "name": "stdout",
     "output_type": "stream",
     "text": [
      "Jan\n",
      "Feb\n"
     ]
    }
   ],
   "source": [
    "print(namaBulan[0:3]) #indek ke-0 s.d. sebelum indek ke-3\n",
    "print(namaBulan[3:6]) #indek ke-3 s.d. sebelum indek ke-6"
   ]
  },
  {
   "attachments": {},
   "cell_type": "markdown",
   "metadata": {},
   "source": [
    "<img src=\"images/w10stringbulan.JPG\">"
   ]
  },
  {
   "cell_type": "code",
   "execution_count": 6,
   "metadata": {},
   "outputs": [
    {
     "name": "stdout",
     "output_type": "stream",
     "text": [
      "Tampilkan bulan ke (1 s.d. 12): 3\n",
      "Mar\n"
     ]
    }
   ],
   "source": [
    "kbulan = int(input(\"Tampilkan bulan ke (1 s.d. 12): \"))\n",
    "awalIndek = (kbulan -1 ) * 3\n",
    "akhirIndek = awalIndek + 3\n",
    "print(namaBulan[awalIndek:akhirIndek])"
   ]
  },
  {
   "cell_type": "markdown",
   "metadata": {},
   "source": [
    "## Memotong Kalimat : Slice\n",
    "\n",
    "Masing menggunakan konsep yang sama dengan memotong kata, perhatikan ilustrasi berikut ini."
   ]
  },
  {
   "cell_type": "code",
   "execution_count": 29,
   "metadata": {},
   "outputs": [],
   "source": [
    "kalimat = 'Bulan yang penuh rahmat'"
   ]
  },
  {
   "cell_type": "code",
   "execution_count": 17,
   "metadata": {},
   "outputs": [
    {
     "name": "stdout",
     "output_type": "stream",
     "text": [
      " penuh rahmat\n"
     ]
    }
   ],
   "source": [
    "print(kalimat[10:])"
   ]
  },
  {
   "cell_type": "code",
   "execution_count": 18,
   "metadata": {},
   "outputs": [
    {
     "name": "stdout",
     "output_type": "stream",
     "text": [
      "Bulan yang penuh\n"
     ]
    }
   ],
   "source": [
    "print(kalimat[: 16])"
   ]
  },
  {
   "cell_type": "code",
   "execution_count": 19,
   "metadata": {},
   "outputs": [
    {
     "name": "stdout",
     "output_type": "stream",
     "text": [
      "Bulan yang penuh rahmat\n"
     ]
    }
   ],
   "source": [
    "print(kalimat[:])"
   ]
  },
  {
   "cell_type": "markdown",
   "metadata": {},
   "source": [
    "## Memotong Kalimat jadi Kata : split()\n",
    "\n",
    "Kalimat dapat dipecah menjadi kata dan disimpan menjadi list. "
   ]
  },
  {
   "cell_type": "code",
   "execution_count": 30,
   "metadata": {},
   "outputs": [
    {
     "name": "stdout",
     "output_type": "stream",
     "text": [
      "['Bulan', 'yang', 'penuh', 'rahmat']\n",
      "rahmat\n",
      "<class 'list'>\n"
     ]
    },
    {
     "data": {
      "text/plain": [
       "str"
      ]
     },
     "execution_count": 30,
     "metadata": {},
     "output_type": "execute_result"
    }
   ],
   "source": [
    "kata = kalimat.split()\n",
    "print(kata)\n",
    "print(kata[3])\n",
    "nilai = 9\n",
    "print(type(kata))\n",
    "type(kalimat)"
   ]
  },
  {
   "cell_type": "markdown",
   "metadata": {},
   "source": [
    "## Slice pada List\n",
    "\n",
    "Slicing juga dapat diterapkan pada list yang telah dipelajari sebelumnya. Perhatikan ilustrasi list dan slicing di bawah ini."
   ]
  },
  {
   "cell_type": "code",
   "execution_count": 20,
   "metadata": {},
   "outputs": [],
   "source": [
    "nims = ['I0319001', 'I0319004','I0319005', 'I0319007', 'I0319014' ]"
   ]
  },
  {
   "cell_type": "code",
   "execution_count": 21,
   "metadata": {
    "scrolled": true
   },
   "outputs": [
    {
     "name": "stdout",
     "output_type": "stream",
     "text": [
      "['I0319005', 'I0319007', 'I0319014']\n"
     ]
    }
   ],
   "source": [
    "nimLulus = nims[2:5]\n",
    "print(nimLulus)"
   ]
  },
  {
   "cell_type": "code",
   "execution_count": 23,
   "metadata": {},
   "outputs": [
    {
     "name": "stdout",
     "output_type": "stream",
     "text": [
      "['I0319001', 'I0319004', 'I0319006', 'I0319007', 'I0319014']\n"
     ]
    }
   ],
   "source": [
    "nims[2] = 'I0319006'\n",
    "print(nims)"
   ]
  },
  {
   "cell_type": "markdown",
   "metadata": {},
   "source": [
    "## String bersifat Immutable\n",
    "\n",
    "Tidak sebagaimana list yang isi elemen pada suatu indek tertentu dapat diganti, elemen karakter atau huruf dalam string <b>tidak dapat diganti (immutable)</b>"
   ]
  },
  {
   "cell_type": "code",
   "execution_count": 26,
   "metadata": {},
   "outputs": [
    {
     "name": "stdout",
     "output_type": "stream",
     "text": [
      "hurufdalanstring\n",
      "n\n"
     ]
    }
   ],
   "source": [
    "stringMisal = 'hurufdalanstring'\n",
    "print(stringMisal)\n",
    "print(stringMisal[9])"
   ]
  },
  {
   "cell_type": "code",
   "execution_count": 27,
   "metadata": {},
   "outputs": [
    {
     "ename": "TypeError",
     "evalue": "'str' object does not support item assignment",
     "output_type": "error",
     "traceback": [
      "\u001b[1;31m---------------------------------------------------------------------------\u001b[0m",
      "\u001b[1;31mTypeError\u001b[0m                                 Traceback (most recent call last)",
      "\u001b[1;32m<ipython-input-27-87f220e944fa>\u001b[0m in \u001b[0;36m<module>\u001b[1;34m()\u001b[0m\n\u001b[1;32m----> 1\u001b[1;33m \u001b[0mstringMisal\u001b[0m\u001b[1;33m[\u001b[0m\u001b[1;36m9\u001b[0m\u001b[1;33m]\u001b[0m \u001b[1;33m=\u001b[0m \u001b[1;34m'm'\u001b[0m \u001b[1;31m#Coba ganti n menjadi m\u001b[0m\u001b[1;33m\u001b[0m\u001b[0m\n\u001b[0m",
      "\u001b[1;31mTypeError\u001b[0m: 'str' object does not support item assignment"
     ]
    }
   ],
   "source": [
    "stringMisal[9] = 'm' #Coba ganti n menjadi m"
   ]
  },
  {
   "cell_type": "markdown",
   "metadata": {},
   "source": [
    "Dengan memahami konsep slice, dapat dilakukan modifikasi atas kesalahan ketik tersebut."
   ]
  },
  {
   "cell_type": "code",
   "execution_count": 28,
   "metadata": {},
   "outputs": [
    {
     "name": "stdout",
     "output_type": "stream",
     "text": [
      "hurufdalamstring\n"
     ]
    }
   ],
   "source": [
    "stringMisal = stringMisal[:9] + 'm' + stringMisal[10:]\n",
    "print(stringMisal)"
   ]
  },
  {
   "cell_type": "markdown",
   "metadata": {},
   "source": [
    "## Operasi-Operasi pada String\n",
    "\n",
    "Fungsi-fungsi yang terdapat pada sebuah string sebagai berikut."
   ]
  },
  {
   "cell_type": "markdown",
   "metadata": {},
   "source": [
    "<img src=\"images/w10StringOperasi.png\">"
   ]
  },
  {
   "cell_type": "code",
   "execution_count": 31,
   "metadata": {},
   "outputs": [
    {
     "name": "stdout",
     "output_type": "stream",
     "text": [
      "Bulan Yang Penuh Rahmat\n"
     ]
    }
   ],
   "source": [
    "print(kalimat.title())"
   ]
  },
  {
   "cell_type": "code",
   "execution_count": 32,
   "metadata": {},
   "outputs": [
    {
     "name": "stdout",
     "output_type": "stream",
     "text": [
      "BULAN YANG PENUH RAHMAT\n"
     ]
    }
   ],
   "source": [
    "print(kalimat.upper())"
   ]
  },
  {
   "cell_type": "code",
   "execution_count": 33,
   "metadata": {},
   "outputs": [
    {
     "name": "stdout",
     "output_type": "stream",
     "text": [
      "4\n"
     ]
    }
   ],
   "source": [
    "print(kalimat.count('a'))"
   ]
  },
  {
   "cell_type": "markdown",
   "metadata": {},
   "source": [
    "## Latihan Mandiri\n",
    "1. Lakukan proses operasi string pada teks di bawah ini:\n",
    "\n",
    "Kata algoritma berasal dari nama seorang ahli matematika dari Uzbekistan bernama Abu Abdullah Muhammad Ibn Musa al-Khwarizmi (770-840 M) yang menulis kitab Al Jabr wa ’Al-muqabala (rules of restoration and reduction) sekitar tahun 825 M. Di dalam literatur barat dia lebih terkenal dengan sebutan Algorizm. Panggilan inilah yang kemudian dipakai untuk menyebut konsep algoritma yang ditemukannya. \n",
    "\n",
    "2. Lakukan proses-proses string yang diperlukan, kemudian lakukan split pada teks di bawah ini dan simpanlah dalam listKata. Cobalah hitung ada berapa kata 'algoritma', 'yang', 'atau', 'sistematis', 'logis' dalam teks di bawah ini.\n",
    "\n",
    "Agoritma adalah prosedur sistematis untuk memecahkan masalah matematis dalam langkah-langkah terbatas; atau urutan logis pengambilan keputusan untuk pemecahan masalah. Sekumpulan langkah sistematis bermakna bahwa algoritma tersusun atas langkah-langkah yang mengikuti suatu urutan atau pola tertentu dan tidak melompat-lompat atau acak. Urutan pemecahan masalah yang dibuat oleh seseorang bisa berbeda dengan orang lain asalkan memenuhi prinsip kedua (logis) dan menghasilkan keluaran yang sama dalam penyelesaian suatu masalah. Logis bermakna bahwa algoritma tidak saja dapat dipahami oleh satu pihak (penyusun algoritma) melainkan juga dapat dipahami bahkan diuji kebenarannya oleh pihak lain. Dengan demikian, algoritma dapat dikatakan benar apabila ada pihak lain yang dapat membaca, menggunakan hingga menghasilkan suatu solusi yang sama dengan solusi yang dihasilkan oleh pembuat algoritma. \n",
    "Oleh karena sebuah algoritma harus dapat dipahami dan diuji oleh pihak lain, maka sebuah algoritma harus diwujudkan dalam bentuk tulisan (bukan hanya lisan atau dalam pemikiran seseorang saja) dan ditulis dengan sebuah aturan tertentu. Algoritma hanya untuk menyelesaikan suatu masalah tertentu yang berarti tidak semua masalah dapat diselesaikan dengan sebuah algoritma karena sebuah algoritma umumnya disusun untuk suatu masalah spesifik. Masalah lain dengan karakteristik yang sama dengan masalah awal saja yang dapat diselesaikan dengan sebuah algoritma. Namun demikian, algoritma yang bersifat umum, dapat diterapkan untuk berbagai kasus masalah dengan melakukan modifikasi."
   ]
  },
  {
   "cell_type": "code",
   "execution_count": null,
   "metadata": {},
   "outputs": [],
   "source": []
  }
 ],
 "metadata": {
  "kernelspec": {
   "display_name": "Python 3",
   "language": "python",
   "name": "python3"
  },
  "language_info": {
   "codemirror_mode": {
    "name": "ipython",
    "version": 3
   },
   "file_extension": ".py",
   "mimetype": "text/x-python",
   "name": "python",
   "nbconvert_exporter": "python",
   "pygments_lexer": "ipython3",
   "version": "3.6.5"
  }
 },
 "nbformat": 4,
 "nbformat_minor": 2
}
