{
 "cells": [
  {
   "cell_type": "markdown",
   "metadata": {},
   "source": [
    "# Data Structures"
   ]
  },
  {
   "cell_type": "markdown",
   "metadata": {},
   "source": [
    "__Struktur Data__ adalah kumpulan beragam data yang disusun sedemikian rupa sehingga dapat diakses secara efisien. \n",
    "\n",
    "Topik yang dibahas:\n",
    "* Tuples\n",
    "* Lists of lists\n",
    "* Representing a grid or a spreadsheet\n",
    "* Representing the world of an adventure game\n",
    "* Reading a comma-separated value (.csv) fie"
   ]
  },
  {
   "cell_type": "markdown",
   "metadata": {},
   "source": [
    "## Tuple\n",
    "\n",
    "Python memiliki salah satu struktur data yang disebut sebagai __tuple__. Tuple pada dasarnya adalah sebuah __list yang tidak dapat diubah__. \n",
    "\n",
    "Perhatikan kembali contoh sederhana list di bawah ini."
   ]
  },
  {
   "cell_type": "code",
   "execution_count": 11,
   "metadata": {},
   "outputs": [],
   "source": [
    "daftarMahasiswa = ['Andhika', 'Andru', 'Enggar', 'Joshua']"
   ]
  },
  {
   "cell_type": "code",
   "execution_count": 12,
   "metadata": {},
   "outputs": [
    {
     "name": "stdout",
     "output_type": "stream",
     "text": [
      "['Andhika', 'Andru', 'Enggar', 'Joshua']\n"
     ]
    }
   ],
   "source": [
    "print(daftarMahasiswa)"
   ]
  },
  {
   "cell_type": "code",
   "execution_count": 13,
   "metadata": {},
   "outputs": [
    {
     "name": "stdout",
     "output_type": "stream",
     "text": [
      "4\n"
     ]
    }
   ],
   "source": [
    "print(len(daftarMahasiswa))"
   ]
  },
  {
   "cell_type": "code",
   "execution_count": 14,
   "metadata": {},
   "outputs": [
    {
     "name": "stdout",
     "output_type": "stream",
     "text": [
      "Enggar\n"
     ]
    }
   ],
   "source": [
    "print(daftarMahasiswa[2])"
   ]
  },
  {
   "cell_type": "code",
   "execution_count": 15,
   "metadata": {},
   "outputs": [],
   "source": [
    "daftarMahasiswa[3] = 'Yoshua'"
   ]
  },
  {
   "cell_type": "code",
   "execution_count": 16,
   "metadata": {},
   "outputs": [
    {
     "name": "stdout",
     "output_type": "stream",
     "text": [
      "['Andhika', 'Andru', 'Enggar', 'Yoshua']\n"
     ]
    }
   ],
   "source": [
    "print(daftarMahasiswa)"
   ]
  },
  {
   "cell_type": "code",
   "execution_count": 17,
   "metadata": {},
   "outputs": [],
   "source": [
    "daftarMahasiswa.append('Ardan')"
   ]
  },
  {
   "cell_type": "code",
   "execution_count": 18,
   "metadata": {},
   "outputs": [
    {
     "name": "stdout",
     "output_type": "stream",
     "text": [
      "['Andhika', 'Andru', 'Enggar', 'Yoshua', 'Ardan']\n"
     ]
    }
   ],
   "source": [
    "print(daftarMahasiswa)"
   ]
  },
  {
   "cell_type": "markdown",
   "metadata": {},
   "source": [
    "Pada list, dapat dilakukan proses penambahan elemen atau item menggunakan _append()_. Berbeda dengan _tuple_, hal tersebut tidak dapat dilakukan.\n",
    "\n",
    "Proses assignment pada tuple mirip pada list, hanya saja menggunakan tanda ( ) sebagai pengganti [  ] pada list.\n",
    "<i>\n",
    "    \n",
    "    tuple_variabel = ( elemen1, elemen2, ... , elemenN )\n",
    "</i>\n"
   ]
  },
  {
   "cell_type": "code",
   "execution_count": 19,
   "metadata": {},
   "outputs": [],
   "source": [
    "tupleMahasiswa = ('Andhika', 'Andru', 'Enggar', 'Yoshua', 'Ardan')"
   ]
  },
  {
   "cell_type": "code",
   "execution_count": 20,
   "metadata": {},
   "outputs": [
    {
     "name": "stdout",
     "output_type": "stream",
     "text": [
      "('Andhika', 'Andru', 'Enggar', 'Yoshua', 'Ardan')\n"
     ]
    }
   ],
   "source": [
    "print(tupleMahasiswa)"
   ]
  },
  {
   "cell_type": "code",
   "execution_count": 21,
   "metadata": {},
   "outputs": [
    {
     "data": {
      "text/plain": [
       "tuple"
      ]
     },
     "execution_count": 21,
     "metadata": {},
     "output_type": "execute_result"
    }
   ],
   "source": [
    "type(tupleMahasiswa)"
   ]
  },
  {
   "cell_type": "markdown",
   "metadata": {},
   "source": [
    "Cara mengakses tuple sama seperti mengakses list."
   ]
  },
  {
   "cell_type": "code",
   "execution_count": 22,
   "metadata": {},
   "outputs": [
    {
     "name": "stdout",
     "output_type": "stream",
     "text": [
      "5\n"
     ]
    }
   ],
   "source": [
    "print(len(tupleMahasiswa))"
   ]
  },
  {
   "cell_type": "code",
   "execution_count": 24,
   "metadata": {
    "scrolled": true
   },
   "outputs": [
    {
     "name": "stdout",
     "output_type": "stream",
     "text": [
      "Ardan\n"
     ]
    }
   ],
   "source": [
    "print(tupleMahasiswa[4])"
   ]
  },
  {
   "cell_type": "markdown",
   "metadata": {},
   "source": [
    "Namun data pada tuple __tidak dapat diubah__ atau __ditambahkan__. "
   ]
  },
  {
   "cell_type": "code",
   "execution_count": 25,
   "metadata": {},
   "outputs": [
    {
     "ename": "TypeError",
     "evalue": "'tuple' object does not support item assignment",
     "output_type": "error",
     "traceback": [
      "\u001b[1;31m---------------------------------------------------------------------------\u001b[0m",
      "\u001b[1;31mTypeError\u001b[0m                                 Traceback (most recent call last)",
      "\u001b[1;32m<ipython-input-25-fcf6e870127c>\u001b[0m in \u001b[0;36m<module>\u001b[1;34m()\u001b[0m\n\u001b[1;32m----> 1\u001b[1;33m \u001b[0mtupleMahasiswa\u001b[0m\u001b[1;33m[\u001b[0m\u001b[1;36m4\u001b[0m\u001b[1;33m]\u001b[0m \u001b[1;33m=\u001b[0m \u001b[1;34m'Maulana'\u001b[0m\u001b[1;33m\u001b[0m\u001b[0m\n\u001b[0m",
      "\u001b[1;31mTypeError\u001b[0m: 'tuple' object does not support item assignment"
     ]
    }
   ],
   "source": [
    "tupleMahasiswa[4] = 'Maulana'"
   ]
  },
  {
   "cell_type": "code",
   "execution_count": 26,
   "metadata": {},
   "outputs": [
    {
     "ename": "AttributeError",
     "evalue": "'tuple' object has no attribute 'append'",
     "output_type": "error",
     "traceback": [
      "\u001b[1;31m---------------------------------------------------------------------------\u001b[0m",
      "\u001b[1;31mAttributeError\u001b[0m                            Traceback (most recent call last)",
      "\u001b[1;32m<ipython-input-26-9be6f526038d>\u001b[0m in \u001b[0;36m<module>\u001b[1;34m()\u001b[0m\n\u001b[1;32m----> 1\u001b[1;33m \u001b[0mtupleMahasiswa\u001b[0m\u001b[1;33m.\u001b[0m\u001b[0mappend\u001b[0m\u001b[1;33m(\u001b[0m\u001b[1;34m'Maulana'\u001b[0m\u001b[1;33m)\u001b[0m\u001b[1;33m\u001b[0m\u001b[0m\n\u001b[0m",
      "\u001b[1;31mAttributeError\u001b[0m: 'tuple' object has no attribute 'append'"
     ]
    }
   ],
   "source": [
    "tupleMahasiswa.append('Maulana')"
   ]
  },
  {
   "cell_type": "markdown",
   "metadata": {},
   "source": [
    "Apa manfaat menggunakan tuple ketika datanya ternyata tidak bisa diubah ? Salah satu keunggulan tuple dibanding list adalah __kecepatan akses__. Pada program yang dimaksudkan untuk mengolah struktur data (matriks) berukuran besar, tuple tentunya lebih disarankan untuk digunakan dibanding list.\n",
    "\n",
    "Oleh karena itu, terkadang seorang programmer melakukan perubahan atau pembentukan tuple dari list ketika bermaksud melakukan pengolahan terhadap struktur data berukuran besar. \n",
    "\n"
   ]
  },
  {
   "cell_type": "markdown",
   "metadata": {},
   "source": [
    "## List of List"
   ]
  },
  {
   "cell_type": "markdown",
   "metadata": {},
   "source": [
    "List dapat menampung beragam data, termasuk di dalam sebuah list bisa berisi list juga. List yang seperti ini biasa disebut juga list yang bersarang (_nested list_). Perhatikan ilustrasi di bawah ini.\n"
   ]
  },
  {
   "cell_type": "code",
   "execution_count": 27,
   "metadata": {},
   "outputs": [],
   "source": [
    "listofList = [4, -1 , [23, 45, 12], 87] "
   ]
  },
  {
   "cell_type": "code",
   "execution_count": 28,
   "metadata": {},
   "outputs": [
    {
     "name": "stdout",
     "output_type": "stream",
     "text": [
      "[4, -1, [23, 45, 12], 87]\n"
     ]
    }
   ],
   "source": [
    "print(listofList)"
   ]
  },
  {
   "cell_type": "code",
   "execution_count": 29,
   "metadata": {},
   "outputs": [
    {
     "name": "stdout",
     "output_type": "stream",
     "text": [
      "4\n"
     ]
    }
   ],
   "source": [
    "print(len(listofList))"
   ]
  },
  {
   "cell_type": "code",
   "execution_count": 30,
   "metadata": {},
   "outputs": [
    {
     "name": "stdout",
     "output_type": "stream",
     "text": [
      "[23, 45, 12]\n"
     ]
    }
   ],
   "source": [
    "print(listofList[2])"
   ]
  },
  {
   "cell_type": "markdown",
   "metadata": {},
   "source": [
    "Elemen ke-2 dari listofList juga berbentuk list. Adapun untuk mengakses elemen dari listofList bisa dengan cara \n",
    "\n",
    "1. menyimpannya dalam sebuah list baru kemudian mengakses menggunakan indeksnya.\n",
    "    "
   ]
  },
  {
   "cell_type": "code",
   "execution_count": 31,
   "metadata": {},
   "outputs": [
    {
     "name": "stdout",
     "output_type": "stream",
     "text": [
      "[23, 45, 12]\n"
     ]
    }
   ],
   "source": [
    "innerList = listofList[2]\n",
    "print(innerList)"
   ]
  },
  {
   "cell_type": "code",
   "execution_count": 32,
   "metadata": {},
   "outputs": [
    {
     "name": "stdout",
     "output_type": "stream",
     "text": [
      "45\n"
     ]
    }
   ],
   "source": [
    "print(innerList[1])"
   ]
  },
  {
   "cell_type": "markdown",
   "metadata": {},
   "source": [
    "2. Menggunakan sintak terstruktur seperti pola di bawah ini.\n",
    "\n",
    "<i>\n",
    "    \n",
    "    outerlist[ indeksOuterList ][ indeksInnerList ]\n",
    " </i>"
   ]
  },
  {
   "cell_type": "code",
   "execution_count": 33,
   "metadata": {},
   "outputs": [
    {
     "name": "stdout",
     "output_type": "stream",
     "text": [
      "45\n"
     ]
    }
   ],
   "source": [
    "print(listofList[2][1])"
   ]
  },
  {
   "cell_type": "markdown",
   "metadata": {},
   "source": [
    "## Representasi Grid / Spreadsheet sebuah List\n",
    "\n",
    "List dapat merepresentasikan sebuah __grid__, atau __spreadsheet__, atau __matriks__, yaitu sebuah kumpulan data yang terdiri dari __baris dan kolom__."
   ]
  },
  {
   "cell_type": "code",
   "execution_count": 34,
   "metadata": {},
   "outputs": [],
   "source": [
    "EMPTY = ''\n",
    "X = 'x'\n",
    "O = 'o'\n",
    "\n",
    "grid = [\\\n",
    "            [EMPTY, EMPTY, EMPTY], \\\n",
    "            [EMPTY, EMPTY, EMPTY], \\\n",
    "            [EMPTY, EMPTY, EMPTY] \\\n",
    "       ]"
   ]
  },
  {
   "cell_type": "code",
   "execution_count": 35,
   "metadata": {},
   "outputs": [
    {
     "name": "stdout",
     "output_type": "stream",
     "text": [
      "[['', '', ''], ['', '', ''], ['', '', '']]\n"
     ]
    }
   ],
   "source": [
    "print(grid)"
   ]
  },
  {
   "cell_type": "code",
   "execution_count": 36,
   "metadata": {},
   "outputs": [],
   "source": [
    "baris = 0\n",
    "kolom = 2\n",
    "grid[baris][kolom] = X"
   ]
  },
  {
   "cell_type": "code",
   "execution_count": 37,
   "metadata": {},
   "outputs": [
    {
     "name": "stdout",
     "output_type": "stream",
     "text": [
      "[['', '', 'x'], ['', '', ''], ['', '', '']]\n"
     ]
    }
   ],
   "source": [
    "print(grid)"
   ]
  },
  {
   "cell_type": "markdown",
   "metadata": {},
   "source": [
    "#### Latihan Mandiri\n",
    "Buatlah program sebagaimana dicontohkan pada halaman 307  hingga 309 buku irv kalb."
   ]
  },
  {
   "cell_type": "markdown",
   "metadata": {},
   "source": [
    "## Membaca File .csv"
   ]
  },
  {
   "cell_type": "markdown",
   "metadata": {},
   "source": [
    "Python memberikan kemudahan untuk membaca file .csv (Comma-Separated Value). File ini biasanya dibuat dari suatu spreadsheet dan disimpan menjadi format .csv untuk merepresentasikan kumpulan data berbentuk baris dan kolom. \n",
    "\n",
    "Agar dapat membaca file berekstensi .csv, diperlukan library atau package untuk membaca file. Gunakan perintah __import csv__ untuk memanggil library csv. Jika belum ada, maka lakukan proses instalasi library seperti dicontohkan pada sesi-sesi awal tutorial. "
   ]
  },
  {
   "attachments": {},
   "cell_type": "markdown",
   "metadata": {},
   "source": [
    "<img src=\"images/w12spreadsheet.JPG\">"
   ]
  },
  {
   "attachments": {},
   "cell_type": "markdown",
   "metadata": {},
   "source": [
    "<img src=\"images/w12spreadsheet_csv.JPG\">"
   ]
  },
  {
   "cell_type": "code",
   "execution_count": 2,
   "metadata": {},
   "outputs": [
    {
     "name": "stdout",
     "output_type": "stream",
     "text": [
      "Nama Kolom : ['NIM', 'NAMA MHS', 'UK1', 'UK2', 'UK3', 'UK4']\n",
      "['I0319003', 'Afra Galda', '84', '66', '76', '45']\n",
      "['I0319011', 'Amelia Rahma', '76', '78', '', '56']\n",
      "['I0319013', 'Anisa Agustina', '86', '57', '89', '78']\n",
      "['I0319015', 'Annafis Manaruzzaki', '54', '', '89', '45']\n",
      "['i0319017', 'Annisa Syahliantina', '87', '67', '67', '89']\n",
      "['I0319023', 'Calvin William ', '65', '67', '87', '67']\n",
      "['I0319025', 'Dicka Korintus', '46', '', '65', '67']\n",
      "['I0319029', 'Elsa Jubilia', '78', '85', '78', '87']\n",
      "['I0319031', 'Evonella Pangaribuan', '57', '87', '92', '78']\n",
      "['I0319059', 'Abyan Naufalÿ', '89', '84', '78', '84']\n",
      "['I0319061', 'Fiqran Alauddin', '54', '68', '89', '67']\n",
      "Total 12 baris\n"
     ]
    }
   ],
   "source": [
    "import csv\n",
    "\n",
    "DATA_FILE_NAME = 'nilaiKuliah.csv'\n",
    "\n",
    "with open(DATA_FILE_NAME) as csvfile:\n",
    "    # Melakukan parsing untuk pembacaan secara baris perbaris\n",
    "    readCSV = csv.reader(csvfile, delimiter=',')\n",
    "    line_count = 0\n",
    "    \n",
    "    for row in readCSV:\n",
    "        if line_count == 0:\n",
    "            print(f'Nama Kolom : {row}')\n",
    "            line_count += 1\n",
    "        else:\n",
    "            print(row)\n",
    "            line_count += 1\n",
    "    \n",
    "    print(f'Total {line_count} baris')\n",
    "\n",
    "csvfile.close()"
   ]
  },
  {
   "cell_type": "markdown",
   "metadata": {},
   "source": [
    "Perhatikan bahwa kode program di atas melakukan proses pencetakan baris perbaris isi file. Setiap baris data telah berbentk list. Selanjutnya, dengan memanfaatkan fungsi __.append()__ dapat dilakukan pembentukan struktur data list yang juga berisi list."
   ]
  },
  {
   "cell_type": "code",
   "execution_count": 7,
   "metadata": {},
   "outputs": [
    {
     "name": "stdout",
     "output_type": "stream",
     "text": [
      "Nama Kolom : ['NIM', 'NAMA MHS', 'UK1', 'UK2', 'UK3', 'UK4']\n",
      "['I0319003', 'Afra Galda', '84', '66', '76', '45']\n",
      "['I0319011', 'Amelia Rahma', '76', '78', '', '56']\n",
      "['I0319013', 'Anisa Agustina', '86', '57', '89', '78']\n",
      "['I0319015', 'Annafis Manaruzzaki', '54', '', '89', '45']\n",
      "['i0319017', 'Annisa Syahliantina', '87', '67', '67', '89']\n",
      "['I0319023', 'Calvin William ', '65', '67', '87', '67']\n",
      "['I0319025', 'Dicka Korintus', '46', '', '65', '67']\n",
      "['I0319029', 'Elsa Jubilia', '78', '85', '78', '87']\n",
      "['I0319031', 'Evonella Pangaribuan', '57', '87', '92', '78']\n",
      "['I0319059', 'Abyan Naufalÿ', '89', '84', '78', '84']\n",
      "['I0319061', 'Fiqran Alauddin', '54', '68', '89', '67']\n",
      "Total 12 baris\n",
      "\n",
      "[['NIM', 'NAMA MHS', 'UK1', 'UK2', 'UK3', 'UK4'], ['I0319003', 'Afra Galda', '84', '66', '76', '45'], ['I0319011', 'Amelia Rahma', '76', '78', '', '56'], ['I0319013', 'Anisa Agustina', '86', '57', '89', '78'], ['I0319015', 'Annafis Manaruzzaki', '54', '', '89', '45'], ['i0319017', 'Annisa Syahliantina', '87', '67', '67', '89'], ['I0319023', 'Calvin William ', '65', '67', '87', '67'], ['I0319025', 'Dicka Korintus', '46', '', '65', '67'], ['I0319029', 'Elsa Jubilia', '78', '85', '78', '87'], ['I0319031', 'Evonella Pangaribuan', '57', '87', '92', '78'], ['I0319059', 'Abyan Naufalÿ', '89', '84', '78', '84'], ['I0319061', 'Fiqran Alauddin', '54', '68', '89', '67']]\n"
     ]
    }
   ],
   "source": [
    "import csv\n",
    "\n",
    "DATA_FILE_NAME = 'nilaiKuliah.csv'\n",
    "listNilai = []\n",
    "\n",
    "with open(DATA_FILE_NAME) as csvfile:\n",
    "    # Melakukan parsing untuk pembacaan secara baris perbaris\n",
    "    readCSV = csv.reader(csvfile, delimiter=',')\n",
    "    line_count = 0\n",
    "    \n",
    "    for row in readCSV:\n",
    "        if line_count == 0:\n",
    "            print(f'Nama Kolom : {row}')\n",
    "            listNilai.append(row)\n",
    "            line_count += 1\n",
    "        else:\n",
    "            print(row)\n",
    "            listNilai.append(row)\n",
    "            line_count += 1\n",
    "    \n",
    "    print(f'Total {line_count} baris')\n",
    "\n",
    "csvfile.close()\n",
    "\n",
    "print()\n",
    "print(listNilai)"
   ]
  },
  {
   "cell_type": "code",
   "execution_count": 8,
   "metadata": {},
   "outputs": [
    {
     "data": {
      "text/plain": [
       "[['NIM', 'NAMA MHS', 'UK1', 'UK2', 'UK3', 'UK4'],\n",
       " ['I0319003', 'Afra Galda', '84', '66', '76', '45'],\n",
       " ['I0319011', 'Amelia Rahma', '76', '78', '', '56'],\n",
       " ['I0319013', 'Anisa Agustina', '86', '57', '89', '78'],\n",
       " ['I0319015', 'Annafis Manaruzzaki', '54', '', '89', '45'],\n",
       " ['i0319017', 'Annisa Syahliantina', '87', '67', '67', '89'],\n",
       " ['I0319023', 'Calvin William ', '65', '67', '87', '67'],\n",
       " ['I0319025', 'Dicka Korintus', '46', '', '65', '67'],\n",
       " ['I0319029', 'Elsa Jubilia', '78', '85', '78', '87'],\n",
       " ['I0319031', 'Evonella Pangaribuan', '57', '87', '92', '78'],\n",
       " ['I0319059', 'Abyan Naufalÿ', '89', '84', '78', '84'],\n",
       " ['I0319061', 'Fiqran Alauddin', '54', '68', '89', '67']]"
      ]
     },
     "execution_count": 8,
     "metadata": {},
     "output_type": "execute_result"
    }
   ],
   "source": [
    "listNilai"
   ]
  },
  {
   "cell_type": "markdown",
   "metadata": {},
   "source": [
    "#### Latihan Mandiri\n",
    "1. Buatlah proses untuk menentukan skorAkhir setiap mahasiswa. Bobot UK1, UK2, UK3, UK4 berturut-turut adalah 0.2, 0.25, 0.2, 0.35.  \n",
    "2. Tentukan berapa nilai rata-rata skor. \n",
    "3. Kembangkan program untuk menentukan apakah mahasiswa memperoleh A, A-, B dan seterusnya berdasarkan aturan penilaian yang berlaku."
   ]
  },
  {
   "cell_type": "code",
   "execution_count": null,
   "metadata": {},
   "outputs": [],
   "source": []
  }
 ],
 "metadata": {
  "kernelspec": {
   "display_name": "Python 3",
   "language": "python",
   "name": "python3"
  },
  "language_info": {
   "codemirror_mode": {
    "name": "ipython",
    "version": 3
   },
   "file_extension": ".py",
   "mimetype": "text/x-python",
   "name": "python",
   "nbconvert_exporter": "python",
   "pygments_lexer": "ipython3",
   "version": "3.6.5"
  }
 },
 "nbformat": 4,
 "nbformat_minor": 2
}
