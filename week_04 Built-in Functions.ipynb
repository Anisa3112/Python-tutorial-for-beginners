{
 "cells": [
  {
   "cell_type": "markdown",
   "metadata": {},
   "source": [
    "# Built-in Functions\n",
    "\n",
    "Pada sesi tutorial ini akan dibahas mengenai :\n",
    "* Penggunaan fungsi (function)\n",
    "* Arguments\n",
    "* Mengambil nilai dari sebuah function\n",
    "* Fungsi menerima nilai dari pengguna: <b>input</b>\n",
    "* Fungsi konversi: <b>int, flat, dan str</b>\n",
    "* Fungsi <b>type, dan help</b>\n",
    "* Fungsi penggabungan string"
   ]
  },
  {
   "cell_type": "markdown",
   "metadata": {},
   "source": [
    "<b>Fungsi</b> adalah sekumpulan perintah yang digunakan dengan memanggil nama dari fungsi tersebut. Pada diagram alir, fungsi dapat kita lihat seperti sebuah simbol prosedur (bentuknya persegi seperti simbol proses dengan dua garis pada sisi kanan dan kiri)\n",
    "\n",
    "Python memiliki banyak <b>fungsi siap pakai (built-in functions)</b>. Contoh sederhana fungsi siap pakai adalah fungsi memberi nilai mutlak (absolute) pada sebuah nilai.\n",
    "\n",
    "> abs(-9)\n",
    "\n",
    "> abs(3.3)\n",
    "\n",
    "Bentuk umum penggunaan function sebagai berikut\n",
    "\n",
    "> nama_function (arguments)\n",
    "\n",
    "<b>Argument</b> adalah sebuah ekspresi atau nilai yang diberikan ke dalam function. Pada contoh di atas, argument adalah -9.\n",
    "\n",
    "<b>Mengambil nilai atau hasil sebuah fungsi</b> adalah dengan menyimpannya ke dalam sebuah variabel. Bentuk umumnya seperti pada asignment nilai ke variable.\n",
    "\n",
    "> nama_variable = nama_function(argument)\n"
   ]
  },
  {
   "cell_type": "code",
   "execution_count": 3,
   "metadata": {},
   "outputs": [
    {
     "name": "stdout",
     "output_type": "stream",
     "text": [
      "8\n"
     ]
    }
   ],
   "source": [
    "suhu_siang = 3  # misal dalam celcius\n",
    "suhu_malam = -5\n",
    "selisih_suhu = abs(suhu_malam-suhu_siang)\n",
    "print(selisih_suhu)\n"
   ]
  },
  {
   "cell_type": "code",
   "execution_count": 5,
   "metadata": {},
   "outputs": [
    {
     "data": {
      "text/plain": [
       "256"
      ]
     },
     "execution_count": 5,
     "metadata": {},
     "output_type": "execute_result"
    }
   ],
   "source": [
    "# Pangkat --> Pow()\n",
    "# Akar kuadrat --> sqrt()\n",
    "# Membulatkan bilangan --> round()\n",
    "pow(2,8)\n",
    "# round(4.3)"
   ]
  },
  {
   "cell_type": "markdown",
   "metadata": {},
   "source": [
    "Beberapa fungsi matematik disimpan dalam class math sehingga untuk menggunakannya diperlukan proses import class math dan di dalam penggunaannya diperlukan memakai nama class diawal fungsinya."
   ]
  },
  {
   "cell_type": "code",
   "execution_count": null,
   "metadata": {},
   "outputs": [],
   "source": [
    "import math\n",
    "\n",
    "math.sqrt(9)"
   ]
  },
  {
   "cell_type": "markdown",
   "metadata": {},
   "source": [
    "## Fungsi Input"
   ]
  },
  {
   "cell_type": "markdown",
   "metadata": {},
   "source": [
    "Sebuah program sering berinteraksi dengan menerima input nilai dari pengguna program. \n",
    "\n",
    "Perhatikan blok program data pengguna komputer di bawah ini"
   ]
  },
  {
   "cell_type": "code",
   "execution_count": null,
   "metadata": {},
   "outputs": [],
   "source": [
    "# Bagian inisiasi variabel\n",
    "nama = \"\"\n",
    "username = \"\"\n",
    "password = \"\"\n",
    "\n",
    "# Bagian input\n",
    "nama = input(\"Nama :\")\n",
    "username = input(\"Username :\")\n",
    "password = input(\"Password :\")\n",
    "\n",
    "# Bagian Proses\n",
    "print(\"Terima kasih telah melakukan registrasi\")\n",
    "\n",
    "# Bagian Output\n",
    "print(\"Berikut ini adalah data Akun Anda\")\n",
    "print(\"Nama Lengkap : \", nama)\n",
    "print(\"Username : \", username)\n"
   ]
  },
  {
   "cell_type": "markdown",
   "metadata": {},
   "source": [
    "## Fungsi Konversi"
   ]
  },
  {
   "cell_type": "markdown",
   "metadata": {},
   "source": [
    "Beberapa fungsi konversi yang akan sering digunakan adalah Fungsi konversi seperti <b>int, float, dan str</b>"
   ]
  },
  {
   "cell_type": "code",
   "execution_count": 6,
   "metadata": {},
   "outputs": [
    {
     "data": {
      "text/plain": [
       "34"
      ]
     },
     "execution_count": 6,
     "metadata": {},
     "output_type": "execute_result"
    }
   ],
   "source": [
    "int(34.6)"
   ]
  },
  {
   "cell_type": "code",
   "execution_count": 7,
   "metadata": {},
   "outputs": [
    {
     "data": {
      "text/plain": [
       "-4"
      ]
     },
     "execution_count": 7,
     "metadata": {},
     "output_type": "execute_result"
    }
   ],
   "source": [
    "int(-4.3)"
   ]
  },
  {
   "cell_type": "code",
   "execution_count": 8,
   "metadata": {},
   "outputs": [
    {
     "data": {
      "text/plain": [
       "21.0"
      ]
     },
     "execution_count": 8,
     "metadata": {},
     "output_type": "execute_result"
    }
   ],
   "source": [
    "float(21)"
   ]
  },
  {
   "cell_type": "code",
   "execution_count": 9,
   "metadata": {},
   "outputs": [
    {
     "name": "stdout",
     "output_type": "stream",
     "text": [
      "Inputkan radius lingkaran : 21\n",
      "Luas lingkaran dengan radius  21.0  adalah  1384.74\n"
     ]
    }
   ],
   "source": [
    "pi = 3.14\n",
    "radius = 0.0\n",
    "luas_lingkaran = 0.0\n",
    "\n",
    "radius = float(input(\"Inputkan radius lingkaran : \"))\n",
    "\n",
    "luas_lingkaran = pi * pow(radius, 2)\n",
    "# luas_lingkaran = pi * (radius ** 2)\n",
    "\n",
    "print(\"Luas lingkaran dengan radius \", radius, \" adalah \", luas_lingkaran)"
   ]
  },
  {
   "cell_type": "markdown",
   "metadata": {},
   "source": [
    "## Fungsi Help dan Type"
   ]
  },
  {
   "cell_type": "code",
   "execution_count": 10,
   "metadata": {
    "scrolled": false
   },
   "outputs": [
    {
     "name": "stdout",
     "output_type": "stream",
     "text": [
      "Help on built-in function abs in module builtins:\n",
      "\n",
      "abs(x, /)\n",
      "    Return the absolute value of the argument.\n",
      "\n"
     ]
    }
   ],
   "source": [
    "help(abs)"
   ]
  },
  {
   "cell_type": "code",
   "execution_count": 13,
   "metadata": {},
   "outputs": [
    {
     "name": "stdout",
     "output_type": "stream",
     "text": [
      "Help on built-in function id in module builtins:\n",
      "\n",
      "id(obj, /)\n",
      "    Return the identity of an object.\n",
      "    \n",
      "    This is guaranteed to be unique among simultaneously existing objects.\n",
      "    (CPython uses the object's memory address.)\n",
      "\n"
     ]
    }
   ],
   "source": [
    "help(id)"
   ]
  },
  {
   "cell_type": "code",
   "execution_count": null,
   "metadata": {},
   "outputs": [],
   "source": [
    "nama =\"Yusuf\"\n",
    "tinggi = 167\n",
    "ukuran_kacamata = -1.25\n",
    "type(ukuran_kacamata)"
   ]
  },
  {
   "cell_type": "markdown",
   "metadata": {},
   "source": [
    "## Fungsi Concatenate atau penggabungan String"
   ]
  },
  {
   "cell_type": "code",
   "execution_count": 14,
   "metadata": {},
   "outputs": [
    {
     "name": "stdout",
     "output_type": "stream",
     "text": [
      "Nama Anda adalah  Yusuf Priyandari\n"
     ]
    }
   ],
   "source": [
    "first_name = \"Yusuf\"\n",
    "last_name = \"Priyandari\"\n",
    "full_name = first_name + \" \" + last_name\n",
    "\n",
    "print(\"Nama Anda adalah \", full_name)"
   ]
  },
  {
   "cell_type": "code",
   "execution_count": null,
   "metadata": {},
   "outputs": [],
   "source": []
  }
 ],
 "metadata": {
  "kernelspec": {
   "display_name": "Python 3",
   "language": "python",
   "name": "python3"
  },
  "language_info": {
   "codemirror_mode": {
    "name": "ipython",
    "version": 3
   },
   "file_extension": ".py",
   "mimetype": "text/x-python",
   "name": "python",
   "nbconvert_exporter": "python",
   "pygments_lexer": "ipython3",
   "version": "3.6.5"
  }
 },
 "nbformat": 4,
 "nbformat_minor": 2
}
