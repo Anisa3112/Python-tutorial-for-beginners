{
 "cells": [
  {
   "cell_type": "markdown",
   "metadata": {},
   "source": [
    "# 1. Percabangan IF, ELSE\n",
    "\n",
    "Perhatikan diagram alir percabangan di bawah ini."
   ]
  },
  {
   "cell_type": "markdown",
   "metadata": {},
   "source": [
    "<img src=\"images/w05DiagramPercabanganKeputusan.png\">"
   ]
  },
  {
   "cell_type": "markdown",
   "metadata": {},
   "source": [
    "1. Implementasi diagram pertama dalam blok program"
   ]
  },
  {
   "cell_type": "code",
   "execution_count": 4,
   "metadata": {},
   "outputs": [
    {
     "name": "stdout",
     "output_type": "stream",
     "text": [
      "Anda Lulus\n"
     ]
    }
   ],
   "source": [
    "nilai_akhir = 85\n",
    "\n",
    "if nilai_akhir >= 60:\n",
    "    print(\"Anda Lulus\")\n"
   ]
  },
  {
   "cell_type": "markdown",
   "metadata": {},
   "source": [
    "2. Implementasi diagram kedua dalam blok program"
   ]
  },
  {
   "cell_type": "code",
   "execution_count": 6,
   "metadata": {},
   "outputs": [
    {
     "name": "stdout",
     "output_type": "stream",
     "text": [
      "Anda Tidak Lulus\n"
     ]
    }
   ],
   "source": [
    "nilai_akhir = 55.9\n",
    "\n",
    "if nilai_akhir >= 60:\n",
    "    print(\"Anda Lulus\")\n",
    "else:\n",
    "    print(\"Anda Tidak Lulus\")\n"
   ]
  },
  {
   "cell_type": "markdown",
   "metadata": {},
   "source": [
    "<b>Diskusi !</b>\n",
    "\n",
    "Bagaimana hasil blok program di bawah ini ?\n"
   ]
  },
  {
   "cell_type": "code",
   "execution_count": 8,
   "metadata": {},
   "outputs": [
    {
     "name": "stdout",
     "output_type": "stream",
     "text": [
      "Anda Tidak Lulus\n"
     ]
    }
   ],
   "source": [
    "nilai_akhir = 55\n",
    "\n",
    "if nilai_akhir >= 60:\n",
    "    print(\"Anda Lulus\")\n",
    "    \n",
    "print(\"Anda Tidak Lulus\")"
   ]
  },
  {
   "cell_type": "code",
   "execution_count": 9,
   "metadata": {},
   "outputs": [
    {
     "name": "stdout",
     "output_type": "stream",
     "text": [
      "Bilangan GENAP\n"
     ]
    }
   ],
   "source": [
    "bilangan = 80\n",
    "\n",
    "pengecekan = bilangan % 2\n",
    "\n",
    "if pengecekan == 0:\n",
    "    print(\"Bilangan GENAP\")"
   ]
  },
  {
   "cell_type": "code",
   "execution_count": 10,
   "metadata": {},
   "outputs": [
    {
     "name": "stdout",
     "output_type": "stream",
     "text": [
      "Bilangan GANJIL\n"
     ]
    }
   ],
   "source": [
    "def cekGanjilGenap(bilangan_bulat):\n",
    "    pengecekan = bilangan_bulat % 2\n",
    "\n",
    "    if pengecekan == 0:\n",
    "        print(\"Bilangan GENAP\")\n",
    "    else:\n",
    "        print(\"Bilangan GANJIL\")\n",
    "\n",
    "bilangan = 87\n",
    "cekGanjilGenap(bilangan)"
   ]
  },
  {
   "cell_type": "markdown",
   "metadata": {},
   "source": [
    "# 2. Operator Pembanding"
   ]
  },
  {
   "cell_type": "markdown",
   "metadata": {},
   "source": [
    "<img src=\"images/w05OperatorPembanding.png\">"
   ]
  },
  {
   "cell_type": "code",
   "execution_count": 16,
   "metadata": {
    "scrolled": true
   },
   "outputs": [
    {
     "name": "stdout",
     "output_type": "stream",
     "text": [
      "Inputkan Nama (huruf kecil) :yusuf\n",
      "Selamat datang Yusuf\n"
     ]
    }
   ],
   "source": [
    "nama = input(\"Inputkan Nama (huruf kecil) :\")\n",
    "\n",
    "if nama == \"yusuf\":\n",
    "    print(\"Selamat datang Yusuf\")\n",
    "else:\n",
    "    print(\"Anda tidak dikenal\")"
   ]
  },
  {
   "cell_type": "code",
   "execution_count": 15,
   "metadata": {},
   "outputs": [
    {
     "name": "stdout",
     "output_type": "stream",
     "text": [
      "Apakah Anda akan melanjutkan program ? (y / n) : m\n",
      "Program Selesai\n"
     ]
    }
   ],
   "source": [
    "lanjut = input(\"Apakah Anda akan melanjutkan program ? (y / n) : \")\n",
    "\n",
    "if lanjut == \"y\":\n",
    "    print(\"Lanjutkan Program\")\n",
    "else:\n",
    "    print(\"Program Selesai\")"
   ]
  },
  {
   "cell_type": "markdown",
   "metadata": {},
   "source": [
    "# 3. Percabangan dengan ELIF\n",
    "\n",
    "Perhatikan aturan penilaian di bawah ini"
   ]
  },
  {
   "cell_type": "markdown",
   "metadata": {},
   "source": [
    "<img src=\"images/w05PercabanganElif.png\">"
   ]
  },
  {
   "cell_type": "markdown",
   "metadata": {},
   "source": [
    "<img src=\"images/w05PercabanganElifNilai.png\">"
   ]
  },
  {
   "cell_type": "code",
   "execution_count": 17,
   "metadata": {},
   "outputs": [
    {
     "name": "stdout",
     "output_type": "stream",
     "text": [
      "Input Nilai Akhir : 77.7\n",
      "Nilai B+\n"
     ]
    }
   ],
   "source": [
    "def cekSkorNilai(skor):\n",
    "    if skor >= 85:\n",
    "        print(\"Nilai A\")\n",
    "    elif skor >= 80:\n",
    "        print(\"Nilai A-\")\n",
    "    elif skor >= 75:\n",
    "        print(\"Nilai B+\")\n",
    "    elif skor >= 70:\n",
    "        print(\"Nilai B\")\n",
    "    elif skor >= 65:\n",
    "        print(\"Nilai C+\")\n",
    "    elif skor >= 60:\n",
    "        print(\"Nilai C\")\n",
    "    elif skor >= 55:\n",
    "        print(\"Nilai D\")\n",
    "    else:\n",
    "        print(\"Nilai E\")\n",
    "\n",
    "nilai_akhir = float(input(\"Input Nilai Akhir : \"))\n",
    "cekSkorNilai(nilai_akhir)"
   ]
  },
  {
   "cell_type": "markdown",
   "metadata": {},
   "source": [
    "## Latihan \n",
    "\n",
    "Buatlah program menggunakan fungsi dan menerapkan konsep percabangan:\n",
    "1. Menentukan apakah sebuah bilangan berupa negatif, nol, atau positif\n",
    "2. Menentukan apakah sebuah bangun tiga dimensi berupa balok atau kubus "
   ]
  },
  {
   "cell_type": "markdown",
   "metadata": {},
   "source": [
    "# 4. Penggunaan Operator: Not, And, Or"
   ]
  },
  {
   "cell_type": "code",
   "execution_count": 19,
   "metadata": {},
   "outputs": [
    {
     "name": "stdout",
     "output_type": "stream",
     "text": [
      "Toko TUTUP\n"
     ]
    }
   ],
   "source": [
    "buka = True\n",
    "\n",
    "# if buka == True:\n",
    "# if buka:\n",
    "if not buka:\n",
    "    print(\"Toko BUKA\")\n",
    "else:\n",
    "    print(\"Toko TUTUP\")"
   ]
  },
  {
   "cell_type": "code",
   "execution_count": 23,
   "metadata": {},
   "outputs": [
    {
     "name": "stdout",
     "output_type": "stream",
     "text": [
      "Kendaraan Anda Rusak Saja ? (y / n) : n\n",
      "Kendaraan BAIK\n"
     ]
    }
   ],
   "source": [
    "# status_kendaraan = True\n",
    "\n",
    "statKendaraan = input(\"Kendaraan Anda Rusak Saja ? (y / n) : \")\n",
    "\n",
    "if statKendaraan == \"y\":\n",
    "    status_kerusakan = True\n",
    "else:\n",
    "    status_kerusakan = False\n",
    "\n",
    "if not status_kerusakan:\n",
    "    print(\"Kendaraan BAIK\")\n",
    "else:\n",
    "    print(\"Kendaraan RUSAK\")"
   ]
  },
  {
   "cell_type": "code",
   "execution_count": 27,
   "metadata": {},
   "outputs": [
    {
     "name": "stdout",
     "output_type": "stream",
     "text": [
      "Bidang Persegi Panjang\n"
     ]
    }
   ],
   "source": [
    "panjang = 80\n",
    "lebar = 75\n",
    "\n",
    "if not(panjang == lebar):\n",
    "    print(\"Bidang Persegi Panjang\")\n",
    "else:\n",
    "    print(\"Bidang Persegi Sama Sisi\")"
   ]
  },
  {
   "cell_type": "code",
   "execution_count": 26,
   "metadata": {},
   "outputs": [
    {
     "name": "stdout",
     "output_type": "stream",
     "text": [
      "Wajib membuat KTP\n"
     ]
    }
   ],
   "source": [
    "usia = 16\n",
    "status_menikah = True\n",
    "if (usia >= 17) or (status_menikah):\n",
    "    print(\"Wajib membuat KTP\")\n",
    "else:\n",
    "    print(\"Belum memiliki KTP\")"
   ]
  },
  {
   "cell_type": "code",
   "execution_count": 25,
   "metadata": {},
   "outputs": [
    {
     "name": "stdout",
     "output_type": "stream",
     "text": [
      "x Tidak berada di antara 5 dan 10\n"
     ]
    }
   ],
   "source": [
    "x = 10\n",
    "\n",
    "if (x >= 5) and (x < 10):\n",
    "    print(\"x berada di antara 5 dan 10\")\n",
    "else:\n",
    "    print(\"x Tidak berada di antara 5 dan 10\")"
   ]
  },
  {
   "cell_type": "markdown",
   "metadata": {},
   "source": [
    "## Tugas\n",
    "\n",
    "Buatlah Program Sederhana berdasarkan algoritma-algoritma yang telah Anda susun pada Tugas week_02 Diagram Alir\n",
    "1. Tarif Parkir Kendaraan di Bandara\n",
    "2. Menghitung Penggajian\n",
    "3. Menghitung BBI dan Status Berat Badan\n",
    "4. Tarif Parkir Kendaraan di Stasiun\n",
    "5. Menentukan kebutuhan cairan pengganti bagi dehidrasi\n",
    "6. Menentukan Tarif Tol Kendaraan"
   ]
  },
  {
   "cell_type": "code",
   "execution_count": null,
   "metadata": {},
   "outputs": [],
   "source": []
  }
 ],
 "metadata": {
  "kernelspec": {
   "display_name": "Python 3",
   "language": "python",
   "name": "python3"
  },
  "language_info": {
   "codemirror_mode": {
    "name": "ipython",
    "version": 3
   },
   "file_extension": ".py",
   "mimetype": "text/x-python",
   "name": "python",
   "nbconvert_exporter": "python",
   "pygments_lexer": "ipython3",
   "version": "3.6.5"
  }
 },
 "nbformat": 4,
 "nbformat_minor": 2
}
