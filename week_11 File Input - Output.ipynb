{
 "cells": [
  {
   "cell_type": "markdown",
   "metadata": {},
   "source": [
    "## File Input - Output\n",
    "\n",
    "Topik yang dibawah pada sesi tutorial ini :\n",
    "* Saving files on a computer\n",
    "* Defiing a path to a fie\n",
    "* Reading from and writing to a fie\n",
    "* File handle\n",
    "* Th Python os package\n",
    "* Building reusable fie I/O functions\n",
    "* Example using our fie I/O functions\n",
    "* Importing our own modules\n",
    "* Saving data to a fie and reading it back\n",
    "* Building an adding game\n",
    "* Programming challenge 1"
   ]
  },
  {
   "cell_type": "markdown",
   "metadata": {},
   "source": [
    "## Path File\n",
    "\n",
    "Menyimpan atau membaca file perlu menentukan path (lokasi) suatu file. Perhatikan contoh di bawah ini:\n",
    "\n",
    "\n",
    "C:\\MyFolder\\MySubFolder\\MySubSubFolder\\MyFile.txt\n",
    "\n",
    "\n",
    "Macintosh HD/MyFolder/MySubFolder/MySubSubFolderMyFile/MyFile.txt"
   ]
  },
  {
   "cell_type": "markdown",
   "metadata": {},
   "source": [
    "## Membaca dan Menulis File\n",
    "\n",
    "Proses membaca suatu file teks ada tiga tahapan:\n",
    "1. Buka (Open) file untuk dibaca\n",
    "2. Baca (Read) file (biasanya disimpan sebagai variable string)\n",
    "3. Tutup (Close) file\n",
    "\n",
    "Menulis suatu file text juga ada tiga tahap:\n",
    "1. Buka (Open) file yang akan ditulis\n",
    "2. Tulis (Write) teks ke file \n",
    "3. Tutup (Close) file\n",
    "\n",
    "Proses membuka (open) file biasanya memerlukan suatu parameter, apakah file akan dibaca (read) atau akan ditulis (write)\n",
    "<i>\n",
    "    \n",
    "    fileHandle = open(filePath, 'r')  # r untuk read\n",
    "    data = fileHandle.read()  # read ke variable data\n",
    "    fileHandle.close()\n",
    "</i>\n",
    "\n",
    "Demikian halnya untuk proses menulis data\n",
    "<i>\n",
    "\n",
    "    fileHandle = open(filePath, 'w')  # w untuk write\n",
    "    fileHandle.write(teksDitulis)  # write variabel \n",
    "    fileHandle.close()\n",
    "</i>"
   ]
  },
  {
   "cell_type": "code",
   "execution_count": 2,
   "metadata": {},
   "outputs": [
    {
     "name": "stdout",
     "output_type": "stream",
     "text": [
      "Input nama file : w10_contohteksno\n",
      "\n",
      "Nama File : w10_contohteksno\n",
      "Ini adalah teks yang Saya tulis dalam file.\n",
      "Belajar program komputer rasanya menyenangkan.\n",
      "Tentunya dibutuhkan kesabaran dalam proses belajarnya.\n"
     ]
    }
   ],
   "source": [
    "namafile = input(\"Input nama file : \")\n",
    "teks = open(namafile, 'r')\n",
    "print()\n",
    "print(f\"Nama File : {namafile}\")\n",
    "print(teks.read())\n",
    "\n",
    "teks.close()"
   ]
  },
  {
   "cell_type": "markdown",
   "metadata": {},
   "source": [
    "#### Fungsi Berkaitan dengan Files\n",
    "\n",
    "Beberapa perintah berkaitan dengan files :\n",
    "\n",
    "* close  : menutup file \n",
    "* read : membaca isi file\n",
    "* readline : membaca hanya sebuah baris teks\n",
    "* truncate : menghapus isi sebuah file\n",
    "* write('teks') : menuliskan \"teks\" ke sebuah file\n",
    "* seek(0) : memindahkan posisi pembacaan/penulisan (read/write) ke posisi indeks di awal\n",
    "\n"
   ]
  },
  {
   "cell_type": "code",
   "execution_count": 3,
   "metadata": {},
   "outputs": [
    {
     "name": "stdout",
     "output_type": "stream",
     "text": [
      "Input nama file : w10_contohteks2.txt\n",
      "Membuka file . . . . .\n",
      "Tekan ENTER ..\n",
      "Menghapus isi file . . . . .\n",
      "Tekan ENTER ..\n",
      "Tuliskan 3 baris untuk isi file tersebut !\n",
      "baris 1 : Isi baris pertama\n",
      "baris 2 : kemudian baris kedua\n",
      "baris 3 : dan terakhir baris ketiga\n",
      "Menuliskan 3 baris ke file w10_contohteks2.txt\n",
      "Tekan ENTER ..\n",
      "Menyimpan file w10_contohteks2.txt\n",
      "Tekan ENTER ..\n",
      "Selesai ...\n"
     ]
    }
   ],
   "source": [
    "namafile = input(\"Input nama file : \")\n",
    "\n",
    "print(\"Membuka file . . . . .\")\n",
    "targetFile = open(namafile, 'w+')\n",
    "input(\"Tekan ENTER ..\")\n",
    "\n",
    "# print(\"Membaca isi file . . .\")\n",
    "# print(targetFile.read())\n",
    "# input(\"Tekan ENTER ..\")\n",
    "\n",
    "print(\"Menghapus isi file . . . . .\")\n",
    "targetFile.truncate()\n",
    "input(\"Tekan ENTER ..\")\n",
    "\n",
    "print(\"Tuliskan 3 baris untuk isi file tersebut !\")\n",
    "baris1 = input(\"baris 1 : \")\n",
    "baris2 = input(\"baris 2 : \")\n",
    "baris3 = input(\"baris 3 : \")\n",
    "\n",
    "print(f\"Menuliskan 3 baris ke file {namafile}\")\n",
    "targetFile.write(baris1)\n",
    "targetFile.write(\"\\n\")\n",
    "targetFile.write(baris2)\n",
    "targetFile.write(\"\\n\")\n",
    "targetFile.write(baris3)\n",
    "targetFile.write(\"\\n\")\n",
    "input(\"Tekan ENTER ..\")\n",
    "\n",
    "print(f\"Menyimpan file {namafile}\")\n",
    "targetFile.close()\n",
    "input(\"Tekan ENTER ..\")\n",
    "print(\"Selesai ...\")\n"
   ]
  },
  {
   "cell_type": "markdown",
   "metadata": {},
   "source": [
    "## Latihan Mandiri\n",
    "\n",
    "1. Praktikkan ex15 sampai ex17. Perhatikan pada ex17 Anda dapat menulis ke sebuah file baru\n"
   ]
  },
  {
   "cell_type": "code",
   "execution_count": 17,
   "metadata": {},
   "outputs": [
    {
     "name": "stdout",
     "output_type": "stream",
     "text": [
      "Input nama file : w10_contohteks2.txt\n",
      "besar file asal adalah 35 bytes\n",
      "Input nama file Tujuan : w10_contohteks3.txt\n",
      "Check apakah file sudah ada ? True\n",
      "Ok, tekan ENTER untuk Lanjut, atau CTRL+C untuk cancel\n",
      "\n"
     ]
    }
   ],
   "source": [
    "from os.path import exists\n",
    "\n",
    "namaFile = input(\"Input nama file : \")\n",
    "in_file = open(namaFile)\n",
    "indata = in_file.read()\n",
    "\n",
    "print(f\"besar file asal adalah {len(indata)} bytes\")\n",
    "\n",
    "namaFileTujuan = input(\"Input nama file Tujuan : \")\n",
    "print(f\"Check apakah file sudah ada ? {exists(namaFileTujuan)}\")\n",
    "print(\"Ok, tekan ENTER untuk Lanjut, atau CTRL+C untuk cancel\")\n",
    "input()\n",
    "\n",
    "out_file = open(namaFileTujuan, 'w')\n",
    "out_file.write(indata)\n",
    "\n",
    "in_file.close()\n",
    "out_file.close()"
   ]
  },
  {
   "cell_type": "markdown",
   "metadata": {},
   "source": [
    "## Membuat File Fungsi I/O\n",
    "\n",
    "Sesi berikut ini, diberikan contoh membuat fungsi I/O yang disimpan dalam sebuah file. File yang memiliki fungsi I/O tersebut akan digunakan atau dipanggil oleh program. FUngsi yang dibuat antara lain:\n",
    "\n",
    "* fileExists : memberikan nilai balik berupa informasi (boolean) apakah file ada atau tidak\n",
    "* writeFile : menuliskan data teks ke sebuah file.\n",
    "* readFile : membaca konten sebuah file dan memberikan konten \n",
    "\n",
    "Isi file FileReadWrite.py sebagai berikut\n"
   ]
  },
  {
   "cell_type": "code",
   "execution_count": 2,
   "metadata": {},
   "outputs": [],
   "source": [
    "# FileReadWrite.py\n",
    "# Kumpulan fungsi untuk Read/Write\n",
    "\n",
    "import os\n",
    "\n",
    "def fileExists(filePath):\n",
    "    exists = os.path.exists(filePath)\n",
    "    return exists\n",
    "\n",
    "def writeFile(filePath, textToWrite):\n",
    "    fileHandle = open(filePath, 'w')\n",
    "    fileHandle.write(textToWrite)\n",
    "    fileHandle.close()\n",
    "\n",
    "def readFile(filePath):\n",
    "    if not fileExists(filePath):\n",
    "        print('File, ' + filePath + ' tidak ada - tidak dapat dibaca. ')\n",
    "        return ''\n",
    "    \n",
    "    fileHandle = open(filePath, 'r')\n",
    "    data = fileHandle.read()\n",
    "    fileHandle.close()\n",
    "    return data\n"
   ]
  },
  {
   "cell_type": "markdown",
   "metadata": {},
   "source": [
    "Langkah selanjutnya adalah membuat file yang akan menggunakan fungsi-fungsi yang telah dibuat pada FileReadWrite.py di atas"
   ]
  },
  {
   "cell_type": "code",
   "execution_count": 8,
   "metadata": {
    "scrolled": true
   },
   "outputs": [
    {
     "name": "stdout",
     "output_type": "stream",
     "text": [
      "Hasil pembacaan File :  Selamat belajar dan bersungguh-sungguh\n"
     ]
    }
   ],
   "source": [
    "import FileReadWrite as frw\n",
    "DATA_FILE_PATH = 'week_11_TestData.txt'\n",
    "\n",
    "teksDitulis = 'Selamat belajar dan bersungguh-sungguh'\n",
    "frw.writeFile(DATA_FILE_PATH, teksDitulis)\n",
    "\n",
    "teksDibaca = frw.readFile(DATA_FILE_PATH)\n",
    "print('Hasil pembacaan File : ', teksDibaca)"
   ]
  },
  {
   "cell_type": "markdown",
   "metadata": {},
   "source": [
    "Pada contoh di atas, modul FileReadWrite disimpan aliasnya sebagai 'frw'. Selain menggunakan perintah <b>import NamaFileModul</b>, dapat juga digunakan perintah <i>from NamaFileModul import Fungsi</i>. Contoh:\n",
    "\n",
    "<i>\n",
    "    \n",
    "    # Di bawah ini jika memanggil satu fungsi \n",
    "    from FileReadWrite import readFile\n",
    "    data = readFile('PathFile_yang_Dibaca')\n",
    "    \n",
    "    # Di bawah ini apabila ingin memanggil seluruh fungsi\n",
    "    from FileReadWrite import *\n",
    "\n",
    "</i>\n",
    "\n",
    "Penggunaan cara diatas jika tidak akan memanggil ke memory seluruh fungsi yang ada dalam suatu library/package modul. Bisa juga dikhawatirkan dengan memanggil seluruh fungsi ada masalah apabila ada fungsi yang namanya sama.\n"
   ]
  },
  {
   "cell_type": "markdown",
   "metadata": {},
   "source": [
    "#### Latihan Mandiri\n",
    "Modifkasi program sebelumnya dengan memanfaatkan fungsi fileExists. Fungsi tersebut memastikan bahwa apabila belum ada file yang dimaksud, maka program akan membuatkannya terlebih dahulu."
   ]
  },
  {
   "cell_type": "code",
   "execution_count": 12,
   "metadata": {},
   "outputs": [
    {
     "name": "stdout",
     "output_type": "stream",
     "text": [
      "File ditemukan, File telah dibaca :  2  kali\n"
     ]
    }
   ],
   "source": [
    "from FileReadWrite import *\n",
    "\n",
    "DATA_FILE_PATH = 'week_11_TestFile.txt'\n",
    "\n",
    "if not fileExists(DATA_FILE_PATH):\n",
    "    print('Proses membuat file pertama kali . .')\n",
    "    writeFile(DATA_FILE_PATH, '1')\n",
    "else:\n",
    "    counter = readFile(DATA_FILE_PATH)\n",
    "    print('File ditemukan, File telah dibaca : ', counter, ' kali')\n",
    "    counter = int(counter)\n",
    "    counter += 1\n",
    "    teksDitulis = str(counter)\n",
    "    writeFile(DATA_FILE_PATH, teksDitulis)"
   ]
  },
  {
   "cell_type": "markdown",
   "metadata": {},
   "source": [
    "#### Latihan Mandiri\n",
    "Buatlah program untuk \"Programming Challenge 1 dan 2\" di Chapter 9 Buku Irv Kalb."
   ]
  },
  {
   "cell_type": "markdown",
   "metadata": {},
   "source": [
    "## Menggunakan Split dan Join\n",
    "\n",
    "Sebagaimana telah dijelaskan dalam sesi sebelumnya, string yang dibaca dapat dipecah-pecah menjadi list menggunakan fungsi <b>split</b>. Adapun untuk menggabungkan data di dalam list menjadi sebuah teks string untuk ditulis, dapat digunakan perintah <b>join</b>.\n",
    "\n"
   ]
  },
  {
   "cell_type": "code",
   "execution_count": 14,
   "metadata": {},
   "outputs": [
    {
     "name": "stdout",
     "output_type": "stream",
     "text": [
      "['abc', 'de', '123', 'fghi', '-3.21']\n"
     ]
    }
   ],
   "source": [
    "teks = 'abc,de,123,fghi,-3.21'\n",
    "listteks = teks.split(',') # split berdasarkan koma \n",
    "print(listteks)"
   ]
  },
  {
   "cell_type": "code",
   "execution_count": 15,
   "metadata": {
    "scrolled": true
   },
   "outputs": [
    {
     "name": "stdout",
     "output_type": "stream",
     "text": [
      "abc,de,123,fghi,-3.21\n"
     ]
    }
   ],
   "source": [
    "teksdarilist = ','.join(listteks)\n",
    "print(teksdarilist)"
   ]
  },
  {
   "cell_type": "markdown",
   "metadata": {},
   "source": [
    "#### Latihan Mandiri\n",
    "Gunakan fungsi split dan join untuk mengerjakan Game versi 4 yang terdapat pada buku irv kalb, halaman 268."
   ]
  },
  {
   "cell_type": "markdown",
   "metadata": {},
   "source": [
    "## Membaca dan Menulis File pada Baris Tertentu\n",
    "\n",
    "Bagian ini menyajikan contoh fungsi untuk membaca dan menulis file pada baris tertentu. Langkah pertama adalah menambahkan fungsi-fungsi di bawah ini di bawah fungsi-fungsi yang telah dibuat pada <i>FileReadWrite.py</i> sebelumnya.\n",
    "Simpanlah menjadi <i>FileReadWrite2.py</i> \n"
   ]
  },
  {
   "cell_type": "code",
   "execution_count": 17,
   "metadata": {},
   "outputs": [],
   "source": [
    "from FileReadWrite2 import *\n",
    "\n",
    "DATA_FILE_PATH = 'week_11_MultilineFile.txt'\n",
    "\n",
    "targetFile = openFileforWrite(DATA_FILE_PATH)\n",
    "\n",
    "data1 = 'Teks pada baris tertentu'\n",
    "writeALine(targetFile, data1)\n",
    "\n",
    "data2 = 'Teks baris tertentu lainnya'\n",
    "writeALine(targetFile, data2)\n",
    "\n",
    "data3 = 'I0319078, Santika Hotel, 325.000'\n",
    "writeALine(targetFile, data3)\n",
    "\n",
    "closeFile(targetFile)"
   ]
  },
  {
   "cell_type": "markdown",
   "metadata": {},
   "source": [
    "#### Latihan Mandiri\n",
    "Kerjakanlah latihan pembuatan program multiple choice test pada chapter 9 halaman 275 buku irv kalb."
   ]
  },
  {
   "cell_type": "markdown",
   "metadata": {},
   "source": [
    "## Module Compiled\n",
    "\n",
    "Pada saat mengakses modul FileReadWrite.py, di dalam folder tempat bekerja terbentuk folder __pychace__. Di dalam folder tersebut terdapat file berekstensi _FileReadWrite.cpython-36.pyc_\n",
    "\n",
    "Penjelasannya sebagai berikut. Pada saat menjalankan program, Python compiler membaca kode-kode program dan melakukan _compile_ menjadibentuk _bytecode_. Versi _bytecode_ inilah yang sebenarnya dijalankan oleh komputer. Demikian juga ketika sebuah program mengakses file program lainnya, maka file tersebut juga harus di compile. Misal, terdapat file program A.py yang mengimpor file B.py, maka keduanya harus di compile. Oleh karena A.py sedang proses editing saat dijalankan, maka file A.py selalu di compile kembali ketika program dieksekusi. Berbeda dengan B.py yang diasumsikan sudah statis, maka B.py di compile dan diletakkan dalam folder di atas. Dengan demikian ketika program A.py dijalankan, terlebih dahulu B.pyc di periksa keberadaan dalam folder __pychace__.  Hal ini mempercepat proses compile program.\n",
    "\n",
    "Apabila file program B.py dilakukan perubahan, maka Python akan melakukan compile ulang untuk membentuk B.pyc. Python terlebih dahulu memeriksa apakah python B.py yang akan di compile masih sama dengan waktu pertama B.pyc terbentuk (informasi ini disimpan dalam B.pyc)."
   ]
  },
  {
   "cell_type": "code",
   "execution_count": null,
   "metadata": {},
   "outputs": [],
   "source": []
  }
 ],
 "metadata": {
  "kernelspec": {
   "display_name": "Python 3",
   "language": "python",
   "name": "python3"
  },
  "language_info": {
   "codemirror_mode": {
    "name": "ipython",
    "version": 3
   },
   "file_extension": ".py",
   "mimetype": "text/x-python",
   "name": "python",
   "nbconvert_exporter": "python",
   "pygments_lexer": "ipython3",
   "version": "3.6.5"
  }
 },
 "nbformat": 4,
 "nbformat_minor": 2
}
