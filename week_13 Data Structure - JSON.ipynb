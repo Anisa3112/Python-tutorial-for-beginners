{
 "cells": [
  {
   "cell_type": "markdown",
   "metadata": {},
   "source": [
    "## JSON (JavaScript Object Notation)"
   ]
  },
  {
   "cell_type": "markdown",
   "metadata": {},
   "source": [
    "secara format, data berbentuk JSON seperti multi dictionary atau array or array yang telah dicontohkan di atas. JSON adalah salah satu bentuk menyimpan data yang beragam secara terstruktur. format data JSON seringkali digunakan sebagai format untuk pertukaran data antara satu komputer dengan komputer lain, atau dari satu website kepada pengguna atau pihak lain yang diberikan authentikasi. Format data JSON lebih mudah diakses karena dengan mudah di parsing oleh python ke dalam list dan dictionary.\n",
    "\n",
    "Format standar untuk data JSON sangat mendekati format data pada contoh multi dictionary."
   ]
  },
  {
   "cell_type": "code",
   "execution_count": 3,
   "metadata": {},
   "outputs": [],
   "source": [
    "import urllib.request # Perhartikan bagian ini untuk Python3\n",
    "import json\n",
    "\n",
    "### API documentation from:  http://openweathermap.org/API\n",
    "### Go to openweathermap.org, get an API Key, and paste it between the quotes below'\n",
    "\n",
    "API_KEY = 'xxxxxxxxxxxxxxxxx'  # <- ganti dengan API yang Anda peroleh\n",
    "\n",
    "def getTemperatur(kota):\n",
    "    urlAndParams = 'http://api.openweathermap.org/data/2.5/weather?q=' + kota + '&appid=' + API_KEY\n",
    "    # urlAndParams =  'http://api.openweathermap.org/data/2.5/weather?q=London&appid=xxxxxxxxxxxxxx'\n",
    "    # urlAndParams = 'api.openweathermap.org/data/2.5/weather?q=' + kota + '&mode=json' + '&APPID=' + API_KEY\n",
    "    \n",
    "    # Buat request dan simpan hasilnya sebagai string\n",
    "    respon = urllib.request.urlopen(urlAndParams).read()\n",
    "    responseDict = json.loads(respon) # konversi dari JSON ke bentuk dictionary python\n",
    "    mainDict = responseDict['main'] # mengambil informasi dari key 'main'\n",
    "    degrees = mainDict['temp'] # mengambil informasi temperatur dari dictionary\n",
    "\n",
    "    return float(degrees)\n",
    "\n",
    "# Konversi dari kelvin ke fahrenheit\n",
    "def konversiKtoF(temperaturK):\n",
    "    degreesF = (1.8 * (temperaturK - 273)) + 32\n",
    "    return degreesF\n",
    "\n",
    "# Konversi dari kelvin ke Celcius\n",
    "def konversiKtoC(temperaturK):\n",
    "    degreesC = temperaturK - 273.15\n",
    "    return degreesC\n",
    "\n",
    "\n",
    "while True:\n",
    "    kota = input('Inputkan kota yang ingin diketahui temperaturnya: ')\n",
    "    if kota == '':\n",
    "        break\n",
    "    tempK = getTemperatur(kota)\n",
    "    tempF = konversiKtoF(tempK)\n",
    "    tempC = konversiKtoC(tempK)\n",
    "    print(tempK)\n",
    "    print(tempF)\n",
    "    print(tempC)\n",
    "    print()"
   ]
  },
  {
   "cell_type": "markdown",
   "metadata": {},
   "source": [
    "<i>\n",
    "    \n",
    "    Inputkan kota yang ingin diketahui temperaturnya: Yogyakarta\n",
    "    301.15  K\n",
    "    82.67  F\n",
    "    28.00  C\n",
    "\n",
    "    Inputkan kota yang ingin diketahui temperaturnya: Surakarta\n",
    "    293.55  K\n",
    "    68.99  F\n",
    "    20.40  C\n",
    "\n",
    "    Inputkan kota yang ingin diketahui temperaturnya: Bandung\n",
    "    295.35  K\n",
    "    72.23  F\n",
    "    22.20  C\n",
    "\n",
    "    Inputkan kota yang ingin diketahui temperaturnya:\n",
    "</i>"
   ]
  },
  {
   "cell_type": "markdown",
   "metadata": {},
   "source": [
    "JSON yang diberikan oleh website:\n",
    "\n",
    "<i>\n",
    "        \n",
    "    {\n",
    "    \"coord\":{\"lon\":110.36,\"lat\":-7.8},\n",
    "    \"weather\":[{\"id\":501,\"main\":\"Rain\",\"description\":\"moderate rain\",\"icon\":\"10n\"}],\n",
    "    \"base\":\"stations\",\n",
    "    \"main\":{\"temp\":301.149,\"pressure\":1010.75,\"humidity\":80,\"temp_min\":301.149,\"temp_max\":301.149,\"sea_level\":1010.75,\"grnd_level\":1010.09},\n",
    "    \"wind\":{\"speed\":5.13,\"deg\":110.253},\n",
    "    \"rain\":{\"3h\":3.125},\n",
    "    \"clouds\":{\"all\":75},\n",
    "    \"dt\":1556379541,\n",
    "    \"sys\":{\"message\":0.0045,\"country\":\"ID\",\"sunrise\":1556318420,\"sunset\":1556361119},\n",
    "    \"id\":1621177,\n",
    "    \"name\":\"Yogyakarta\",\n",
    "    \"cod\":200\n",
    "    }\n",
    "</i>"
   ]
  },
  {
   "cell_type": "code",
   "execution_count": null,
   "metadata": {},
   "outputs": [],
   "source": []
  }
 ],
 "metadata": {
  "kernelspec": {
   "display_name": "Python 3",
   "language": "python",
   "name": "python3"
  },
  "language_info": {
   "codemirror_mode": {
    "name": "ipython",
    "version": 3
   },
   "file_extension": ".py",
   "mimetype": "text/x-python",
   "name": "python",
   "nbconvert_exporter": "python",
   "pygments_lexer": "ipython3",
   "version": "3.6.5"
  }
 },
 "nbformat": 4,
 "nbformat_minor": 2
}
