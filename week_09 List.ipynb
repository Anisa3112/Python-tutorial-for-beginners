{
 "cells": [
  {
   "cell_type": "markdown",
   "metadata": {},
   "source": [
    "# List"
   ]
  },
  {
   "cell_type": "markdown",
   "metadata": {},
   "source": [
    "<b>List</b> adalah sekumpulan data yang telah terurut yang disimpan dalam sebuah variabel. Pada bahasa pemrograman lain, list dikenal juga dengan istilah <b>array</b>"
   ]
  },
  {
   "cell_type": "markdown",
   "metadata": {},
   "source": [
    "List diperlukan karena memudahkan bagi seorang pembuat program untuk menyimpan sejumlah data tertentu. Perhatikan perbedaan antara variabel tunggal namaMahasiswa, dengan listMahasiswa di bawah ini.\n"
   ]
  },
  {
   "cell_type": "code",
   "execution_count": 1,
   "metadata": {
    "scrolled": true
   },
   "outputs": [
    {
     "name": "stdout",
     "output_type": "stream",
     "text": [
      "Daftar Mahasiswa :\n",
      "Yoshan\n",
      "Annisa\n",
      "Nafis\n"
     ]
    }
   ],
   "source": [
    "namaMahasiswa1 = \"Yoshan\"\n",
    "namaMahasiswa2 = \"Annisa\"\n",
    "namaMahasiswa3 = \"Nafis\"\n",
    "\n",
    "print(\"Daftar Mahasiswa :\")\n",
    "print(namaMahasiswa1)\n",
    "print(namaMahasiswa2)\n",
    "print(namaMahasiswa3)"
   ]
  },
  {
   "cell_type": "code",
   "execution_count": 2,
   "metadata": {
    "scrolled": true
   },
   "outputs": [
    {
     "name": "stdout",
     "output_type": "stream",
     "text": [
      "Daftar Mahasiswa :\n",
      "Yoshan\n",
      "Annisa\n",
      "Nafis\n"
     ]
    }
   ],
   "source": [
    "listMahasiswa = ['Yoshan', 'Annisa', 'Nafis']\n",
    "\n",
    "print(\"Daftar Mahasiswa :\")\n",
    "print(listMahasiswa[0])\n",
    "print(listMahasiswa[1])\n",
    "print(listMahasiswa[2])"
   ]
  },
  {
   "cell_type": "markdown",
   "metadata": {},
   "source": [
    "Suatu list memiliki sejumlah <b><i>elemen</i></b>, yakni data atau item yang disimpan pada sebuah list.  Nama-nama mahasiswa seperti Yoshan, Annisa, Nafis adalah contoh elemen dari listMahasiswa.\n",
    "\n",
    "Suatu list memiliki <b><i>index</i></b>, yakni posisi elemen (item) dari sebuah list.  Index digunakan untuk memudahkan kita memanggil elemen yang kita inginkan, atau mengganti atau manambahkan elemen pada posisi (index) tertentu. "
   ]
  },
  {
   "cell_type": "code",
   "execution_count": 1,
   "metadata": {},
   "outputs": [],
   "source": [
    "biodatasaya = ['Yusuf', 'Yogyakarta', 166.0, '081321515809']"
   ]
  },
  {
   "cell_type": "code",
   "execution_count": 2,
   "metadata": {},
   "outputs": [
    {
     "name": "stdout",
     "output_type": "stream",
     "text": [
      "166.0\n"
     ]
    }
   ],
   "source": [
    "print(biodatasaya[2])"
   ]
  },
  {
   "cell_type": "markdown",
   "metadata": {},
   "source": [
    "## 1. Menambahkan dan  Mengakses Elemen List \n",
    "\n",
    "Ada beberapa cara dalam menambahkan elemen (item) suatu list. \n",
    "1. Langsung menuliskan isi elemen ke dalam list\n",
    "2. Manambahkan elemen (item) menggunakan perintah insert, append atau extend.\n",
    "\n",
    "Perhatikan contoh di bawah ini."
   ]
  },
  {
   "cell_type": "markdown",
   "metadata": {},
   "source": [
    "### Langsung menuliskan isi elemen ke dalam list"
   ]
  },
  {
   "cell_type": "code",
   "execution_count": 3,
   "metadata": {},
   "outputs": [
    {
     "name": "stdout",
     "output_type": "stream",
     "text": [
      "Daftar Mahasiswa :\n",
      "Yoshan\n",
      "Annisa\n",
      "Nafis\n",
      "Thoby\n"
     ]
    }
   ],
   "source": [
    "listMahasiswa = ['Yoshan', 'Annisa', 'Nafis', 'Thoby']\n",
    "\n",
    "print(\"Daftar Mahasiswa :\")\n",
    "print(listMahasiswa[0])\n",
    "print(listMahasiswa[1])\n",
    "print(listMahasiswa[2])\n",
    "print(listMahasiswa[3])"
   ]
  },
  {
   "cell_type": "markdown",
   "metadata": {},
   "source": [
    "### Manambahkan elemen (item) menggunakan perintah insert, append atau extend."
   ]
  },
  {
   "cell_type": "code",
   "execution_count": 7,
   "metadata": {},
   "outputs": [
    {
     "name": "stdout",
     "output_type": "stream",
     "text": [
      "Buah dengan akses -3 kelengkeng\n",
      "Buah dengan akses -2 Mangga\n",
      "Buah dengan akses -1 Pisang\n",
      "['Apel', 'Belimbing', 'Jambu', 'kelengkeng', 'Mangga', 'Pisang']\n"
     ]
    }
   ],
   "source": [
    "# help(list)\n",
    "listBuah =[]\n",
    "\n",
    "listBuah.append(\"Apel\") \n",
    "listBuah.append(\"Jambu\") # Menambahkan satu buah data\n",
    "listBuah.append('kelengkeng')\n",
    "listBuah.insert(1, \"Belimbing\")  # Menambahkan data pada indeks ke-1\n",
    "listBuah.extend([\"Mangga\",\"Pisang\"]) # Menambahkan beberapa data ke bagian akhir\n",
    "\n",
    "# print(\"Daftar Buah-buahan :\")\n",
    "# print(\"Buah ke-1\", listBuah[0])\n",
    "# print(\"Buah ke-2\", listBuah[1])\n",
    "# # print(\"Buah ke-3\", listBuah[2])\n",
    "# print(\"Buah ke-4\", listBuah[3])\n",
    "\n",
    "# # # Mengakses secara terbalik\n",
    "# # print()\n",
    "# # print(\"------------------\")\n",
    "# # print(listBuah)\n",
    "# # print()\n",
    "# # print(\"------------------\")\n",
    "print(\"Buah dengan akses -3\", listBuah[-3])\n",
    "print(\"Buah dengan akses -2\", listBuah[-2])\n",
    "# # # print(\"Buah ke-3\", listBuah[-1])\n",
    "print(\"Buah dengan akses -1\", listBuah[-1])\n",
    "\n",
    "print(listBuah)\n",
    "# len(listBuah)"
   ]
  },
  {
   "cell_type": "markdown",
   "metadata": {},
   "source": [
    "### List yang Berisi ELemen Campuran\n",
    "\n",
    "Sebuah List dapat menyimpan element dari berbagai tipe data."
   ]
  },
  {
   "cell_type": "code",
   "execution_count": 5,
   "metadata": {},
   "outputs": [
    {
     "name": "stdout",
     "output_type": "stream",
     "text": [
      "Nama :  Yusuf\n",
      "Tinggi :  167\n",
      "Berat Badan :  66.0\n",
      "Lokasi :  Yogyakarta\n"
     ]
    }
   ],
   "source": [
    "listCampuran = [\"Yusuf\", 167, 66.0, \"Yogyakarta\"]\n",
    "\n",
    "print(\"Nama : \", listCampuran[0])\n",
    "print(\"Tinggi : \", listCampuran[1])\n",
    "print(\"Berat Badan : \", listCampuran[2])\n",
    "print(\"Lokasi : \", listCampuran[3])"
   ]
  },
  {
   "cell_type": "markdown",
   "metadata": {},
   "source": [
    "## 2. Mengetahui jumlah elemen List\n",
    "\n",
    "Apabila ingin mengetahui jumlah elemen suatu list, gunakan perintah len( namaList )"
   ]
  },
  {
   "cell_type": "code",
   "execution_count": 8,
   "metadata": {},
   "outputs": [
    {
     "name": "stdout",
     "output_type": "stream",
     "text": [
      "6\n"
     ]
    }
   ],
   "source": [
    "print(len(listBuah))"
   ]
  },
  {
   "cell_type": "markdown",
   "metadata": {},
   "source": [
    "## 3. Mengakses elemen List menggunakan Iterasi\n",
    "\n",
    "Akses elemen-elemen list dapat menggunakan iterasi atau pengulangan."
   ]
  },
  {
   "cell_type": "code",
   "execution_count": 9,
   "metadata": {},
   "outputs": [
    {
     "name": "stdout",
     "output_type": "stream",
     "text": [
      "Yoshan\n",
      "Annisa\n",
      "Nafis\n",
      "Thoby\n"
     ]
    }
   ],
   "source": [
    "nMahasiswa = len(listMahasiswa)\n",
    "myIndex = 0 # start with an index for the zero'th element\n",
    "while myIndex < nMahasiswa:\n",
    "    print(listMahasiswa[myIndex])\n",
    "    myIndex = myIndex + 1 # increment the index"
   ]
  },
  {
   "cell_type": "code",
   "execution_count": 11,
   "metadata": {},
   "outputs": [
    {
     "name": "stdout",
     "output_type": "stream",
     "text": [
      "Yoshan\n",
      "Annisa\n",
      "Nafis\n",
      "Thoby\n"
     ]
    }
   ],
   "source": [
    "for mahasiswa in listMahasiswa:\n",
    "    print(mahasiswa)"
   ]
  },
  {
   "cell_type": "code",
   "execution_count": 12,
   "metadata": {},
   "outputs": [
    {
     "name": "stdout",
     "output_type": "stream",
     "text": [
      "Annisa\n",
      "Nafis\n"
     ]
    }
   ],
   "source": [
    "for i in range(1,3):\n",
    "    print(listMahasiswa[i])"
   ]
  },
  {
   "cell_type": "markdown",
   "metadata": {},
   "source": [
    "# 4. Fungsi-Fungsi pada List\n",
    "\n",
    "List memiliki beberapa fungsi yang siap digunakan. Contoh fungsi yang telah dipelajari sebelummnya adalah fungsi append, extend, dan insert yang digunakan untuk menambahkan elemen ke sebuah list.\n",
    "\n",
    "Berikut ini fungsi yang siap digunakan untuk list.\n",
    "\n",
    "\n"
   ]
  },
  {
   "cell_type": "code",
   "execution_count": 2,
   "metadata": {},
   "outputs": [
    {
     "name": "stdout",
     "output_type": "stream",
     "text": [
      "['__add__', '__class__', '__contains__', '__delattr__', '__delitem__', '__dir__', '__doc__', '__eq__', '__format__', '__ge__', '__getattribute__', '__getitem__', '__gt__', '__hash__', '__iadd__', '__imul__', '__init__', '__init_subclass__', '__iter__', '__le__', '__len__', '__lt__', '__mul__', '__ne__', '__new__', '__reduce__', '__reduce_ex__', '__repr__', '__reversed__', '__rmul__', '__setattr__', '__setitem__', '__sizeof__', '__str__', '__subclasshook__', 'append', 'clear', 'copy', 'count', 'extend', 'index', 'insert', 'pop', 'remove', 'reverse', 'sort']\n"
     ]
    }
   ],
   "source": [
    "print(dir(list))"
   ]
  },
  {
   "attachments": {},
   "cell_type": "markdown",
   "metadata": {},
   "source": [
    "<img src=\"images/w09ListFungsi.png\">"
   ]
  },
  {
   "cell_type": "markdown",
   "metadata": {},
   "source": [
    "### Latihan Mandiri\n",
    "\n",
    "1. Buatlah sebuah program sederhana menggunakan List. Program tersebut akan menerima input sejumlah bilangan dari pengguna, kemudian menyimpannya di dalam List, dan selanjutnya program akan <b> menghitung total, rata-rata, standar deviasi</b>\n",
    "2. Kembangkan program yang telah Anda buat dengan memberikan informasi mengenai bilangan <b>minimum dan maksimum</b> yang dinputkan oleh pengguna. Pencarian bilangan minimum dan maksimum hendaknya dilakukan menggunakan iterasi.\n",
    "3. Lakukan modifikasi program pada buku Irv Kalb halaman 218. Ilustrasikan program Anda untuk memesan <b>Martabak Manis</b> dengan berbagai toppings seperti <b> Keju, Coklat, Kacang, Pisang, Kismis</b> atau kombinasi dari topping tersebut.\n",
    "4. Praktekkan fungsi operasi pada list. Silahkan elaborasi di internet\n"
   ]
  },
  {
   "cell_type": "code",
   "execution_count": null,
   "metadata": {},
   "outputs": [],
   "source": []
  }
 ],
 "metadata": {
  "kernelspec": {
   "display_name": "Python 3",
   "language": "python",
   "name": "python3"
  },
  "language_info": {
   "codemirror_mode": {
    "name": "ipython",
    "version": 3
   },
   "file_extension": ".py",
   "mimetype": "text/x-python",
   "name": "python",
   "nbconvert_exporter": "python",
   "pygments_lexer": "ipython3",
   "version": "3.6.5"
  }
 },
 "nbformat": 4,
 "nbformat_minor": 2
}
