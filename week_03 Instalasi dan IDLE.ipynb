{
 "cells": [
  {
   "cell_type": "markdown",
   "metadata": {},
   "source": [
    "## 1. Instalasi"
   ]
  },
  {
   "cell_type": "markdown",
   "metadata": {},
   "source": [
    "Silahkan unduh program Python pada alamat url http://python.org\n",
    "Tutorial kali ini menggunakan Python 3 dengan versi 3.6.5\n",
    "\n",
    "Selain menggunakan file instalasi dari http://python.org, Anda bisa juga melakukan instalasi menggunakan Anaconda https://www.anaconda.com/download/. Anaconda menyediakan program python dan juga sejumlah library yang cukup lengkap untuk data analytics.  "
   ]
  },
  {
   "cell_type": "markdown",
   "metadata": {},
   "source": [
    "#### untuk OS  mac\n",
    "https://www.python.org/downloads/mac-osx/\n",
    "\n",
    "Disarankan menggunakan python versi 3.6.x saja"
   ]
  },
  {
   "cell_type": "markdown",
   "metadata": {},
   "source": [
    "## 2. Setting Path"
   ]
  },
  {
   "cell_type": "markdown",
   "metadata": {},
   "source": [
    "Ketikkan perintah \n",
    "python pada command prompt\n",
    "untuk memastikan path sudah jalan\n"
   ]
  },
  {
   "attachments": {},
   "cell_type": "markdown",
   "metadata": {},
   "source": [
    "<img src=\"images/w03SetupSettingPath01.png\">"
   ]
  },
  {
   "attachments": {},
   "cell_type": "markdown",
   "metadata": {},
   "source": [
    "<img src=\"images/w03SetupSettingPath02.png\">"
   ]
  },
  {
   "cell_type": "markdown",
   "metadata": {},
   "source": [
    "Tambahkan sesuai bentuk instalasi yang digunakan dan lokasinya.\n",
    "Sebagai contoh, saya instalasi Python menggunakan Anaconda sehingga path yang saya tambahkan sebagai berikut :\n",
    "\n",
    "C:\\ProgramData\\Anaconda3;\n",
    "C:\\ProgramData\\Anaconda3\\Scripts;\n",
    "C:\\ProgramData\\Anaconda3\\Library\\bin\n",
    "\n",
    "Perhatikan bahwa setiap penambahan diakhiri dengan tanda titik koma ;\n",
    "Note: tampilan di atas menggunakan OS Windows 7. Proses penambahan bisa berbeda untuk Windows 10.\n",
    "\n",
    "Pastikan setting Path telah berhasil dengan membuka Terminal atau antar muka Command \n",
    "\n",
    "dengan mengetikkan \n",
    ">python\n",
    "\n",
    "dan hasilnya seperti pada gambar di bawah ini.\n"
   ]
  },
  {
   "attachments": {},
   "cell_type": "markdown",
   "metadata": {},
   "source": [
    "<img src=\"images/w03SetupSettingPath03.png\">"
   ]
  },
  {
   "cell_type": "markdown",
   "metadata": {},
   "source": [
    "## 3. Aplikasi untuk Penulisan Program"
   ]
  },
  {
   "cell_type": "markdown",
   "metadata": {},
   "source": [
    "Penulisan program bisa menggunakan beberapa aplikasi :\n",
    "* Notepad\n",
    "* Sublime Text ()\n",
    "* Visual Studio Code ()\n",
    "\n",
    "Tutorial kali ini menggunakan Visual Studio Code."
   ]
  },
  {
   "attachments": {},
   "cell_type": "markdown",
   "metadata": {},
   "source": [
    "<img src=\"images/w03SetupIDE.png\">"
   ]
  },
  {
   "cell_type": "markdown",
   "metadata": {},
   "source": [
    "## 4. Menggunakan Terminal untuk Eksekusi Program"
   ]
  },
  {
   "cell_type": "markdown",
   "metadata": {},
   "source": [
    "Perhatikan contoh yang diberikan"
   ]
  },
  {
   "attachments": {},
   "cell_type": "markdown",
   "metadata": {},
   "source": [
    "<img src=\"images/w03SetupIDE02.png\">"
   ]
  },
  {
   "cell_type": "code",
   "execution_count": null,
   "metadata": {},
   "outputs": [],
   "source": []
  }
 ],
 "metadata": {
  "kernelspec": {
   "display_name": "Python 3",
   "language": "python",
   "name": "python3"
  },
  "language_info": {
   "codemirror_mode": {
    "name": "ipython",
    "version": 3
   },
   "file_extension": ".py",
   "mimetype": "text/x-python",
   "name": "python",
   "nbconvert_exporter": "python",
   "pygments_lexer": "ipython3",
   "version": "3.6.5"
  }
 },
 "nbformat": 4,
 "nbformat_minor": 2
}
