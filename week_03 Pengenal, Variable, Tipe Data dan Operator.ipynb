{
 "cells": [
  {
   "cell_type": "markdown",
   "metadata": {},
   "source": [
    "## 1. Identifier (Pengenal)"
   ]
  },
  {
   "cell_type": "markdown",
   "metadata": {},
   "source": [
    "* Setiap objek pasti mempunyai nama. \n",
    "* Nama diberikan oleh manusia agar objek tersebut mudah dikenal dan dibedakan dari objek lainnya. \n",
    "* Di dalam pemrograman, nama dipakai sebagai pengenal bagi “sesuatu” dan program berinteraksi dengan “sesuatu” itu melalui namanya. \n",
    "* Karena itu, tiap nama haruslah unik, tidak boleh ada dua buah nama yang sama.\n",
    "* Nama diberikan kepada “sesuatu” yang berupa: variabel, konstanta, tipe bentukan, fungsi, prosedur, label, program, unit dan lain-lain. "
   ]
  },
  {
   "cell_type": "markdown",
   "metadata": {},
   "source": [
    "#### Aturan penamaan\n",
    "* Nama harus dimulai dengan huruf, tidak boleh dimulai dengan angka, spasi, atau karakter khusus lainnya\n",
    "* Karakter berikutnya dapat berupa huruf, angka, atau garis bawah ( _ )\n",
    "* Tidak boleh berupa operator aritmatika, operator relasional, tanda baca dan karakter khusus lainnya.\n",
    "* Panjang karakter boleh berapa saja, hingga 256 karakter\n",
    "* Huruf besar dan huruf kecil dianggap berbeda (<b>case sensitivity</b>) atau bisa juga sama tergantung pada aturan pada setiap program yang digunakan\n",
    "* Karakter-karakter di dalam nama tidak boleh dipisah dengan spasi. Hal ini mengingat bahwa nama adalah kesatuan leksikal, maka setiap nama harus ditulis secara utuh. Spasi dapat diganti dengan garis bawah."
   ]
  },
  {
   "cell_type": "markdown",
   "metadata": {},
   "source": [
    "## 2. Tipe Data"
   ]
  },
  {
   "cell_type": "markdown",
   "metadata": {},
   "source": [
    "Fungsi memahami tipe data:\n",
    "* Pertama, untuk memastikan data yang tersimpan bernilai benar sesuai tujuan.\n",
    "* Kedua, untuk menjamin sebuah data dapat tersimpan dalam suatu variabel karena adanya batasan rentang/jangkauan setiap tipe data. \n",
    "* Ketiga, untuk efisiensi memori aplikasi dikarenakan setiap tipe data memiliki ukuran (size) penggunaan memori komputer yang berbeda. "
   ]
  },
  {
   "cell_type": "markdown",
   "metadata": {},
   "source": [
    "### 2.1 Tipe Data Numerik"
   ]
  },
  {
   "cell_type": "markdown",
   "metadata": {},
   "source": [
    "Ada dua bentuk tipe data numerik di python, <b>integer</b> dan <b>floating</b>.\n",
    "\n",
    "Contoh integer : ..., -3, -2, -1, 0, 1, 2, 3, ...\n",
    "\n",
    "Integer biasa digunakan untuk mengekspresikan hal-hal berikut:\n",
    "* Jumlah orang dalam suatu ruangan\n",
    "* score dalam suatu pertandingan olah raga\n",
    "* Tanggal\n",
    "\n",
    "Contoh floating : 2.0, 3.1, -2.4\n",
    "Floats bisa digunakan untuk mengekspresikan hal-hal berikut:\n",
    "* Nilai perkuliahan, atau nilai rata-rata perkuliahan\n",
    "* Harga produk\n",
    "* Persentase\n"
   ]
  },
  {
   "cell_type": "markdown",
   "metadata": {},
   "source": [
    "### 2.2 String"
   ]
  },
  {
   "cell_type": "markdown",
   "metadata": {},
   "source": [
    "String atau Text digunakan untuk mengekspresikan teks, misal nama, alamat, nama mata kulaih, judul buku, kalimat dan banyak hal lainnya.\n",
    "\n",
    "Contoh data string :\n",
    "\n",
    "'Priyandari', 'Gang Senden 1, Ds. Sorogenen, Kalasan', 'Yes'"
   ]
  },
  {
   "cell_type": "markdown",
   "metadata": {},
   "source": [
    "### 2.3. Booleans"
   ]
  },
  {
   "cell_type": "markdown",
   "metadata": {},
   "source": [
    "Boolean adallah tipe data yang hanya dapat menyimpan dua bentuk nilai, <b>True</b> atau <b>False</b>.\n",
    "\n",
    "Beberapa contoh penggunaan tipe data boolean adalah:\n",
    "*  Kondisi lampu: Hidup (True) atau Mati (False)\n",
    "*  Status jawaban benar atau salah"
   ]
  },
  {
   "cell_type": "markdown",
   "metadata": {},
   "source": [
    "## 3. Variabel"
   ]
  },
  {
   "cell_type": "markdown",
   "metadata": {},
   "source": [
    "Variabel adalah semacam wadah dengan tipe data yang telah ditentukan di awal program, dimana isi dari wadah tersebut akan dimasukkan, diganti dan sebagainya selama proses berlangsung baik melalui input dari alat input/output maupun hasil dari suatu proses perhitungan.\n",
    "\n",
    "Suatu variabel harus dideklarasikan/didefinisikan <b>jenis/tipe datanya</b>. \n",
    "\n",
    "Pemilihan tipe data untuk variabel harus memperhatikan besaran data yang akan disimpan."
   ]
  },
  {
   "cell_type": "markdown",
   "metadata": {},
   "source": [
    "### Pemberian Nilai pada Variable (Assignment)"
   ]
  },
  {
   "cell_type": "markdown",
   "metadata": {},
   "source": [
    "Pemberian nilai pada suatu  variable mengikuti kaidah berikut :\n",
    "\n",
    "< variable > = < expression >\n",
    "\n",
    "Aturan penulisan nama pada variable mengikuti kaidah yang dijelaskan pada aturan penulisan <b> identifier atau Pengenal </b>\n",
    "\n",
    "Contoh:\n",
    "\n",
    "> nama = 'Yusuf' \n",
    "\n",
    "> tinggi = 167\n",
    "\n",
    "> berat_badan = 66\n",
    "\n",
    "> UkuranKacamata = -1.25"
   ]
  },
  {
   "cell_type": "markdown",
   "metadata": {},
   "source": [
    "## 4. Operators"
   ]
  },
  {
   "cell_type": "markdown",
   "metadata": {},
   "source": [
    "Ada beberapa bentuk operator, yakni :\n",
    "* Operator Aritmatika\n",
    "* Operator Pembanding"
   ]
  },
  {
   "cell_type": "markdown",
   "metadata": {},
   "source": [
    "### Operator Artimatika"
   ]
  },
  {
   "attachments": {},
   "cell_type": "markdown",
   "metadata": {},
   "source": [
    "<img src=\"images/w03OperatorAritmatika.png\">"
   ]
  },
  {
   "attachments": {},
   "cell_type": "markdown",
   "metadata": {},
   "source": [
    "<img src=\"images/w03UrutanProsesOperatorAritmatika.png\">"
   ]
  },
  {
   "cell_type": "markdown",
   "metadata": {},
   "source": [
    "Ekspresi (expression) tersusun atas nilai-nilai (values) seperti 3, 4 dan operator (operators) seperti +, -, /, yang menggabungkan operand-nya dengan berbagai bentuk.\n",
    "\n",
    "Di dalam ekspresi 3 + 4, operatornya adalah \" + \" dan operand-nya adalah 3 dan 4"
   ]
  },
  {
   "cell_type": "markdown",
   "metadata": {},
   "source": [
    "Sebagaimana program lainnya, python memiliki kemampuan dasar ekspresi matematik menggunakan operator-operator artimatika seperti yang ada di tabel."
   ]
  },
  {
   "cell_type": "markdown",
   "metadata": {},
   "source": [
    "##### 5. Tutorial\n",
    "Coba perhatikan apakah hasil dari ekspresi matematik di bawah ini.\n",
    "* 4 + 13\n",
    "* 17 - 3\n",
    "* 5 * 7\n",
    "* 5 / 2\n",
    "* 4 / 2\n",
    "* 19 - 10\n",
    "* 19.0 - 10\n",
    "* 53 // 24\n",
    "* 53 % 24 \n",
    "* 17 // 10\n",
    "* -17 // 10\n",
    "* -17 % 10\n",
    "* 17 % -10\n",
    "* 3.3 // 1\n",
    "* 3 // 1.0\n",
    "* 3 // 1.1\n",
    "* 3.5 // 1.1 \n",
    "* 3.5 // 1.3\n",
    "* 3 ** 6"
   ]
  },
  {
   "cell_type": "markdown",
   "metadata": {},
   "source": [
    "#### * suhu_celcius = 22.0 + 5\n",
    "* nilai = 4\n",
    "* nilai = nilai + 20\n",
    "* nilai2 = 3.7\n",
    "* nilai2 += 0.3\n",
    "* nilai2 *= 10 + 20\n"
   ]
  },
  {
   "cell_type": "markdown",
   "metadata": {},
   "source": [
    "### Implementasi Diagram Alir ke Program"
   ]
  },
  {
   "cell_type": "code",
   "execution_count": 5,
   "metadata": {},
   "outputs": [
    {
     "name": "stdout",
     "output_type": "stream",
     "text": [
      "panjang :  120.0\n",
      "lebar :  65\n",
      "Luas persegi panjang :  7800.0\n"
     ]
    }
   ],
   "source": [
    "# Inisiasi variabel\n",
    "panjang = 0\n",
    "lebar = 0\n",
    "luasPersegi =0\n",
    "\"\"\"\n",
    "Program python memberikan kemudahan \n",
    "untuk tidak harus melakukan inisiasi tipe data dan \n",
    "pemberian inisiasi nilai awal\n",
    "\"\"\"\n",
    "\n",
    "# Input/Pemberian nilai variable\n",
    "panjang = 120.0\n",
    "lebar = 65\n",
    "\n",
    "# Proses\n",
    "luasPersegi = panjang * lebar\n",
    "\n",
    "# Output/Menampilkan hasil\n",
    "print('panjang : ', panjang)\n",
    "print('lebar : ', lebar)\n",
    "print('Luas persegi panjang : ', luasPersegi)"
   ]
  },
  {
   "cell_type": "code",
   "execution_count": 1,
   "metadata": {},
   "outputs": [
    {
     "name": "stdout",
     "output_type": "stream",
     "text": [
      "Bekerja selama 45 jam, akan dibayar sebesar 475000.0\n"
     ]
    }
   ],
   "source": [
    "# Inisiasi variabel \n",
    "\"\"\"\n",
    "Program python memberikan kemudahan \n",
    "untuk tidak harus melakukan inisiasi tipe data dan \n",
    "pemberian inisiasi nilai awal\n",
    "\"\"\"\n",
    "\n",
    "# Inisiasi sekaligus input atau assignment (pemberian nilai)\n",
    "tarifPerjam = 0\n",
    "tarifPerjam = 10000.0\n",
    "jamKerja = 45\n",
    "jamKerjaReguler = 40\n",
    "\n",
    "# Proses\n",
    "lembur = jamKerja - jamKerjaReguler\n",
    "honor = (tarifPerjam * jamKerjaReguler) + ((tarifPerjam * 1.5) * lembur)\n",
    "\n",
    "# Output atau hasil program\n",
    "print('Bekerja selama', jamKerja, 'jam, akan dibayar sebesar', honor)"
   ]
  },
  {
   "cell_type": "markdown",
   "metadata": {},
   "source": [
    "### Latihan Mandiri"
   ]
  },
  {
   "cell_type": "markdown",
   "metadata": {},
   "source": [
    "1. Baca dan praktekkan <b>ex1.py s.d. ex14.py</b> pada buku referensi: Shaw, Zed A. 2017. Learn Python 3 The Hard Way, A Very Simple Introduction to the Terrifyingly Beautiful World of Computers and Code. Addison-Wesley. \n",
    "* Latihan ini <b>wajib</b> dilakukan dan menjadi <b>prasyarat masuk</b> ke sesi tutorial berikutnya\n",
    "* Jangan lakukan copy n paste, wajib Anda ketik untuk membiasakan menuliskan program secara benar.\n",
    "* Diskusi dan tanya jawab terhadap latihan ini akan dilakukan pada pertemuan berikutnya."
   ]
  },
  {
   "cell_type": "code",
   "execution_count": null,
   "metadata": {},
   "outputs": [],
   "source": []
  }
 ],
 "metadata": {
  "kernelspec": {
   "display_name": "Python 3",
   "language": "python",
   "name": "python3"
  },
  "language_info": {
   "codemirror_mode": {
    "name": "ipython",
    "version": 3
   },
   "file_extension": ".py",
   "mimetype": "text/x-python",
   "name": "python",
   "nbconvert_exporter": "python",
   "pygments_lexer": "ipython3",
   "version": "3.6.5"
  }
 },
 "nbformat": 4,
 "nbformat_minor": 2
}
