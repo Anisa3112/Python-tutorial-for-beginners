{
 "cells": [
  {
   "cell_type": "markdown",
   "metadata": {},
   "source": [
    "Topik yang dibahas:\n",
    "* Dictionary\n",
    "* Using the in operator on a dictionary\n",
    "* Programming challenge\n",
    "* A Python dictionary to represent a programming dictionary\n",
    "* Iterating through a dictionary\n",
    "* Combining lists and dictionaries\n",
    "* JSON: JavaScript Object Notation\n",
    "* Example program to get weather data\n",
    "* XML data\n",
    "* Accessing repeating groupings in JSON and XML"
   ]
  },
  {
   "cell_type": "markdown",
   "metadata": {},
   "source": [
    "Dictonary secara prinsip sama dengan list yang berupa kumpulan data. Pada Dictionary, indeks dapat direpresentasikan menggunakan key, sehingga Dictionary sederhananya adalah list yang mengganti indeks dalam numerik dengan suatu key yang bisa didefinisikan sendiri oleh programmer. Ilustrasi sebuah dictionary sebagai berikut :\n",
    "<i>\n",
    "    \n",
    "    { key : value , key : value , ..., key : value }\n",
    " </i>\n"
   ]
  },
  {
   "cell_type": "markdown",
   "metadata": {},
   "source": [
    "Mari mengingat kembali tentang list. Urutan data dalam list penting diketahui karena posisi list direpresentasikan oleh indeks.\n",
    "\n",
    "Perhatikan sebuah list yang menyimpan data seorang mahasiswa."
   ]
  },
  {
   "cell_type": "code",
   "execution_count": 9,
   "metadata": {},
   "outputs": [
    {
     "data": {
      "text/plain": [
       "['I0319075',\n",
       " 'Andhika',\n",
       " '08562345678',\n",
       " 165,\n",
       " 65,\n",
       " 'Jl. Ir. Sutami 45',\n",
       " 'Surakarta']"
      ]
     },
     "execution_count": 9,
     "metadata": {},
     "output_type": "execute_result"
    }
   ],
   "source": [
    "mahasiswa = ['I0319075', 'Andhika', '08562345678', 165, 65, 'Jl. Ir. Sutami 45', 'Surakarta']\n",
    "mahasiswa"
   ]
  },
  {
   "cell_type": "markdown",
   "metadata": {},
   "source": [
    "Apabila ingin menampilkan data nomer telepon, kita harus mengingat bahwa telepon berada pada elemen ke 3 atau indeks 2"
   ]
  },
  {
   "cell_type": "code",
   "execution_count": 11,
   "metadata": {},
   "outputs": [
    {
     "name": "stdout",
     "output_type": "stream",
     "text": [
      "08562345678\n"
     ]
    }
   ],
   "source": [
    "print(mahasiswa[2])"
   ]
  },
  {
   "cell_type": "markdown",
   "metadata": {},
   "source": [
    "Dengan menggunakan Dictionary, kita bisa memberikan __key__ bagi setiap elemen sehingga memudahkan bagi kita untuk memanggil data pada kumpulan data tersebut. Oleh karena itu, dictionary dikenal sebagai pasangan antara __key__ : __value__. \n",
    "\n",
    "Perhatikan modifikasi list mahasiswa menjadi dictionary berikut ini."
   ]
  },
  {
   "cell_type": "code",
   "execution_count": 1,
   "metadata": {},
   "outputs": [],
   "source": [
    "dictMahasiswa = {'nim':'I0319075', 'nama' : 'Andhika', 'telepon': '08562345678', 'tinggi' : 165, 'berat' : 65, 'alamat': 'Jl. Ir. Sutami 45', 'kota' : 'Surakarta'}\n"
   ]
  },
  {
   "cell_type": "code",
   "execution_count": 2,
   "metadata": {},
   "outputs": [
    {
     "data": {
      "text/plain": [
       "{'nim': 'I0319075',\n",
       " 'nama': 'Andhika',\n",
       " 'telepon': '08562345678',\n",
       " 'tinggi': 165,\n",
       " 'berat': 65,\n",
       " 'alamat': 'Jl. Ir. Sutami 45',\n",
       " 'kota': 'Surakarta'}"
      ]
     },
     "execution_count": 2,
     "metadata": {},
     "output_type": "execute_result"
    }
   ],
   "source": [
    "dictMahasiswa"
   ]
  },
  {
   "cell_type": "markdown",
   "metadata": {},
   "source": [
    "Dengan demikian, ketika ingin memanggil atau menampilkan telepon, kita tidak perlu mengingat nama dan telepon pada indeks ke berapa, tetapi dapat dipanggil menggunakan __key__."
   ]
  },
  {
   "cell_type": "code",
   "execution_count": 4,
   "metadata": {},
   "outputs": [
    {
     "name": "stdout",
     "output_type": "stream",
     "text": [
      "Andhika\n",
      "08562345678\n"
     ]
    }
   ],
   "source": [
    "print(dictMahasiswa['nama'])\n",
    "print(dictMahasiswa['telepon'])"
   ]
  },
  {
   "cell_type": "markdown",
   "metadata": {},
   "source": [
    "### Mengakses key dan value Dictionary\n"
   ]
  },
  {
   "cell_type": "code",
   "execution_count": 5,
   "metadata": {},
   "outputs": [
    {
     "name": "stdout",
     "output_type": "stream",
     "text": [
      "Andhika\n",
      "Jl. Ir. Sutami 45\n"
     ]
    }
   ],
   "source": [
    "print(dictMahasiswa['nama'])\n",
    "print(dictMahasiswa['alamat'])"
   ]
  },
  {
   "cell_type": "code",
   "execution_count": 6,
   "metadata": {},
   "outputs": [
    {
     "name": "stdout",
     "output_type": "stream",
     "text": [
      "nim\n",
      "nama\n",
      "telepon\n",
      "tinggi\n",
      "berat\n",
      "alamat\n",
      "kota\n"
     ]
    }
   ],
   "source": [
    "for keymhs in dictMahasiswa:\n",
    "    print(keymhs)"
   ]
  },
  {
   "cell_type": "code",
   "execution_count": 8,
   "metadata": {},
   "outputs": [
    {
     "name": "stdout",
     "output_type": "stream",
     "text": [
      "nim I0319075\n",
      "nama Andhika\n",
      "telepon 08562345678\n",
      "tinggi 165\n",
      "berat 65\n",
      "alamat Jl. Ir. Sutami 45\n",
      "kota Surakarta\n"
     ]
    }
   ],
   "source": [
    "for keymhs in dictMahasiswa:\n",
    "    print(keymhs, dictMahasiswa[keymhs])"
   ]
  },
  {
   "cell_type": "code",
   "execution_count": 9,
   "metadata": {},
   "outputs": [
    {
     "name": "stdout",
     "output_type": "stream",
     "text": [
      "7\n"
     ]
    }
   ],
   "source": [
    "print(len(dictMahasiswa))"
   ]
  },
  {
   "cell_type": "code",
   "execution_count": 10,
   "metadata": {},
   "outputs": [
    {
     "name": "stdout",
     "output_type": "stream",
     "text": [
      "dict_keys(['nim', 'nama', 'telepon', 'tinggi', 'berat', 'alamat', 'kota'])\n"
     ]
    }
   ],
   "source": [
    "print(dictMahasiswa.keys())"
   ]
  },
  {
   "cell_type": "code",
   "execution_count": 15,
   "metadata": {},
   "outputs": [
    {
     "data": {
      "text/plain": [
       "True"
      ]
     },
     "execution_count": 15,
     "metadata": {},
     "output_type": "execute_result"
    }
   ],
   "source": [
    "'telepon' in dictMahasiswa"
   ]
  },
  {
   "cell_type": "code",
   "execution_count": 17,
   "metadata": {},
   "outputs": [
    {
     "data": {
      "text/plain": [
       "False"
      ]
     },
     "execution_count": 17,
     "metadata": {},
     "output_type": "execute_result"
    }
   ],
   "source": [
    "'handphone' in dictMahasiswa"
   ]
  },
  {
   "cell_type": "code",
   "execution_count": 11,
   "metadata": {},
   "outputs": [
    {
     "name": "stdout",
     "output_type": "stream",
     "text": [
      "dict_values(['I0319075', 'Andhika', '08562345678', 165, 65, 'Jl. Ir. Sutami 45', 'Surakarta'])\n"
     ]
    }
   ],
   "source": [
    "print(dictMahasiswa.values())"
   ]
  },
  {
   "cell_type": "code",
   "execution_count": 16,
   "metadata": {},
   "outputs": [
    {
     "data": {
      "text/plain": [
       "True"
      ]
     },
     "execution_count": 16,
     "metadata": {},
     "output_type": "execute_result"
    }
   ],
   "source": [
    "'Andhika' in dictMahasiswa.values()"
   ]
  },
  {
   "cell_type": "markdown",
   "metadata": {},
   "source": [
    "### latihan Mandiri\n",
    "\n",
    "1. Buatlah program sederhana untuk menampung dictionary data populasi atau jumlah penduduk suatu kota, seperti contoh di bawah ini\n",
    "<i>\n",
    "    \n",
    "    statesDict = {\n",
    "'California':39776830, 'Texas':28704330, 'Florida':21312211,\n",
    "'New York':19862512,\\\n",
    "'Pennsylvania': 12823989, 'Illinois': 12768320, 'Ohio':11694664,\n",
    "'Georgia': 10097000,\\\n",
    "'North Carolina': 10390149, 'Michigan':9991177, 'New Jersey': 9032872,\n",
    "'Virginia': 8525660}\n",
    "    \n",
    " <i>\n",
    "    \n",
    " Prosesnya harus melalui input, bukan melalui inisiasi !"
   ]
  },
  {
   "cell_type": "markdown",
   "metadata": {},
   "source": [
    "## Kombinasi List dan Dictionary\n",
    "\n",
    "Contoh-contoh di atas menampilkan sebuah dictionary yang hanya berisi satu data mahasiswa. Bagaimana jika kita ingin menyimpan data mahasiswa lebih banyak menggunakan Dictionary ?\n",
    "\n",
    "Anda dapat mengkombinasi dictionary dengan list. Perhatikan contoh sederhana berikut ini.\n",
    "\n",
    "<i>\n",
    "    \n",
    "    Mhs2019 = [\n",
    "        {'nim':'I0319005', 'nama' : 'Andhika', 'telepon': '08562345678', 'tinggi' : 165, 'berat' : 65, 'alamat': 'Jl. Ir. Sutami 45', 'kota' : 'Surakarta'},\n",
    "        {'nim':'I0319010', 'nama' : 'Andru', 'telepon': '08123789456', 'tinggi' : 170, 'berat' : 68, 'alamat': 'Pucang Sawit No.9', 'kota' : 'Surakarta'},\n",
    "        {'nim':'I0319075', 'nama' : 'Maulana', 'telepon': '085699822345', 'tinggi' : 165, 'berat' : 65, 'alamat': 'Jl. Slamet Riyadi 12', 'kota' : 'Surakarta'},\n",
    "        {'nim':'I0319098', 'nama' : 'Arga', 'telepon': '08772334567', 'tinggi' : 165, 'berat' : 65, 'alamat': 'Jl. Sadewo 32', 'kota' : 'Karanganyar'}\n",
    "                   ]\n",
    "</i>\n",
    "\n",
    "Pada contoh di atas, Setiap biodata Mahasiswa yang berbentuk dictionary, disimpan menjadi bentuk List dengan nama variable Mhs2019.\n"
   ]
  },
  {
   "cell_type": "code",
   "execution_count": 5,
   "metadata": {},
   "outputs": [],
   "source": [
    "Mhs2019 = [\n",
    "    {'nim':'I0319005', 'nama' : 'Andhika', 'telepon': '08562345678', 'tinggi' : 165, 'berat' : 65, 'alamat': 'Jl. Ir. Sutami 45', 'kota' : 'Surakarta'},\n",
    "    {'nim':'I0319010', 'nama' : 'Andru', 'telepon': '08123789456', 'tinggi' : 170, 'berat' : 68, 'alamat': 'Pucang Sawit No.9', 'kota' : 'Surakarta'},\n",
    "    {'nim':'I0319075', 'nama' : 'Maulana', 'telepon': '085699822345', 'tinggi' : 165, 'berat' : 65, 'alamat': 'Jl. Slamet Riyadi 12', 'kota' : 'Surakarta'},\n",
    "    {'nim':'I0319098', 'nama' : 'Arga', 'telepon': '08772334567', 'tinggi' : 165, 'berat' : 65, 'alamat': 'Jl. Sadewo 32', 'kota' : 'Karanganyar'}\n",
    "               ]"
   ]
  },
  {
   "cell_type": "code",
   "execution_count": 22,
   "metadata": {},
   "outputs": [
    {
     "data": {
      "text/plain": [
       "list"
      ]
     },
     "execution_count": 22,
     "metadata": {},
     "output_type": "execute_result"
    }
   ],
   "source": [
    "type(Mhs2019)"
   ]
  },
  {
   "cell_type": "code",
   "execution_count": 6,
   "metadata": {},
   "outputs": [
    {
     "data": {
      "text/plain": [
       "4"
      ]
     },
     "execution_count": 6,
     "metadata": {},
     "output_type": "execute_result"
    }
   ],
   "source": [
    "len(Mhs2019)"
   ]
  },
  {
   "cell_type": "code",
   "execution_count": 17,
   "metadata": {},
   "outputs": [
    {
     "name": "stdout",
     "output_type": "stream",
     "text": [
      "{'nim': 'I0319005', 'nama': 'Andhika', 'telepon': '08562345678', 'tinggi': 165, 'berat': 65, 'alamat': 'Jl. Ir. Sutami 45', 'kota': 'Surakarta'}\n",
      "{'nim': 'I0319010', 'nama': 'Andru', 'telepon': '08123789456', 'tinggi': 170, 'berat': 68, 'alamat': 'Pucang Sawit No.9', 'kota': 'Surakarta'}\n",
      "{'nim': 'I0319075', 'nama': 'Maulana', 'telepon': '085699822345', 'tinggi': 165, 'berat': 65, 'alamat': 'Jl. Slamet Riyadi 12', 'kota': 'Surakarta'}\n",
      "{'nim': 'I0319098', 'nama': 'Arga', 'telepon': '08772334567', 'tinggi': 165, 'berat': 65, 'alamat': 'Jl. Sadewo 32', 'kota': 'Karanganyar'}\n"
     ]
    }
   ],
   "source": [
    "cIn = 0\n",
    "while cIn < len(Mhs2019):\n",
    "    # Mencetak baris-baris list yang berupa dictionary\n",
    "    print(Mhs2019[cIn])\n",
    "    \n",
    "    # Mencetak Data di dalam dictionary\n",
    "#     print()\n",
    "#     print(\"Biodata Mahasiswa ke-\", cIn)\n",
    "#     print('NIM :', Mhs2019['nim'])\n",
    "#     print('NAMA :', Mhs2019['nama'])\n",
    "#     print('Telepon :', Mhs2019['telepon'])\n",
    "    #     \n",
    "    cIn += 1\n"
   ]
  },
  {
   "cell_type": "code",
   "execution_count": 16,
   "metadata": {},
   "outputs": [
    {
     "name": "stdout",
     "output_type": "stream",
     "text": [
      "\n",
      "Bidata Mahasiswa ke-1 :\n",
      "I0319005\n",
      "Andhika\n",
      "08562345678\n",
      "=======================\n",
      "\n",
      "Bidata Mahasiswa ke-2 :\n",
      "I0319010\n",
      "Andru\n",
      "08123789456\n",
      "=======================\n",
      "\n",
      "Bidata Mahasiswa ke-3 :\n",
      "I0319075\n",
      "Maulana\n",
      "085699822345\n",
      "=======================\n",
      "\n",
      "Bidata Mahasiswa ke-4 :\n",
      "I0319098\n",
      "Arga\n",
      "08772334567\n",
      "=======================\n"
     ]
    }
   ],
   "source": [
    "cIn = 0\n",
    "while cIn < len(Mhs2019):\n",
    "    # Mencetak baris-baris list yang berupa dictionary\n",
    "#     print(Mhs2019[cIn])\n",
    "    mhs = Mhs2019[cIn]\n",
    "    cIn += 1\n",
    "    \n",
    "    print()\n",
    "    print(f\"Bidata Mahasiswa ke-{cIn} :\")\n",
    "    print(mhs['nim'])\n",
    "    print(mhs['nama'])\n",
    "    print(mhs['telepon'])\n",
    "    print(\"=======================\")"
   ]
  },
  {
   "cell_type": "markdown",
   "metadata": {},
   "source": [
    "pada contoh dictionary mahasiswa di atas, setiap biodata memiliki indeks, mulai dari 0 sampai 3.\n",
    "Contoh berikut ini, indeks biodata setiap mahasiswa tidak menggunakan numerik 0, 1, 2 sampai 3 tetapi langsung menggunakan Nim sebagai __key__ untuk setiap biodata.\n",
    "\n",
    "Dengan demikian contoh di bawah ini bukan lagi List yang berisi dictionary, tetapi sudah berupa multi dictionary. Dalam istilah lain dikenal array of array.\n",
    "Perhatikan dengan seksama perbedaan dengan contoh sebelumnya.\n",
    "\n",
    "<i>\n",
    "    \n",
    "    dataMhs2019 = {\n",
    "        'I0319005' : { 'nama' : 'Andhika', 'telepon': '08562345678', 'tinggi' : 165, 'berat' : 65, 'alamat': 'Jl. Ir. Sutami 45', 'kota' : 'Surakarta'},\n",
    "        'I0319010' : { 'nama' : 'Andru', 'telepon': '08123789456', 'tinggi' : 170, 'berat' : 68, 'alamat': 'Pucang Sawit No.9', 'kota' : 'Surakarta'},\n",
    "        'I0319075' : { 'nama' : 'Maulana', 'telepon': '085699822345', 'tinggi' : 165, 'berat' : 65, 'alamat': 'Jl. Slamet Riyadi 12', 'kota' : 'Surakarta'},\n",
    "        'I0319098' : { 'nama' : 'Arga', 'telepon': '08772334567', 'tinggi' : 165, 'berat' : 65, 'alamat': 'Jl. Sadewo 32', 'kota' : 'Karanganyar'}\n",
    "                   }\n",
    "\n",
    "</i>"
   ]
  },
  {
   "cell_type": "code",
   "execution_count": 1,
   "metadata": {},
   "outputs": [],
   "source": [
    "    dataMhs2019 = {\n",
    "        'I0319005' : { 'nama' : 'Andhika', 'telepon': '08562345678', 'tinggi' : 165, 'berat' : 65, 'alamat': 'Jl. Ir. Sutami 45', 'kota' : 'Surakarta'},\n",
    "        'I0319010' : { 'nama' : 'Andru', 'telepon': '08123789456', 'tinggi' : 170, 'berat' : 68, 'alamat': 'Pucang Sawit No.9', 'kota' : 'Surakarta'},\n",
    "        'I0319075' : { 'nama' : 'Maulana', 'telepon': '085699822345', 'tinggi' : 165, 'berat' : 65, 'alamat': 'Jl. Slamet Riyadi 12', 'kota' : 'Surakarta'},\n",
    "        'I0319098' : { 'nama' : 'Arga', 'telepon': '08772334567', 'tinggi' : 165, 'berat' : 65, 'alamat': 'Jl. Sadewo 32', 'kota' : 'Karanganyar'}\n",
    "                   }"
   ]
  },
  {
   "cell_type": "markdown",
   "metadata": {},
   "source": [
    "Adapun Cara mengaksesnya bisa memanggil indeksnya."
   ]
  },
  {
   "cell_type": "code",
   "execution_count": 4,
   "metadata": {},
   "outputs": [
    {
     "name": "stdout",
     "output_type": "stream",
     "text": [
      "Andhika\n",
      "08562345678\n",
      "Jl. Ir. Sutami 45\n"
     ]
    }
   ],
   "source": [
    "print(dataMhs2019['I0319005']['nama'])\n",
    "print(dataMhs2019['I0319005']['telepon'])\n",
    "print(dataMhs2019['I0319005']['alamat'])"
   ]
  },
  {
   "cell_type": "markdown",
   "metadata": {},
   "source": [
    "Apabila ingin mencetak semua data, bisa menggunakan pengulangan.\n"
   ]
  },
  {
   "cell_type": "code",
   "execution_count": 16,
   "metadata": {},
   "outputs": [
    {
     "name": "stdout",
     "output_type": "stream",
     "text": [
      "I0319005\n",
      "Andhika\n",
      "Jl. Ir. Sutami 45\n",
      "----------------\n",
      "I0319010\n",
      "Andru\n",
      "Pucang Sawit No.9\n",
      "----------------\n",
      "I0319075\n",
      "Maulana\n",
      "Jl. Slamet Riyadi 12\n",
      "----------------\n",
      "I0319098\n",
      "Arga\n",
      "Jl. Sadewo 32\n",
      "----------------\n"
     ]
    }
   ],
   "source": [
    "for nim in dataMhs2019:\n",
    "    print(nim)\n",
    "    print(dataMhs2019[nim]['nama'])\n",
    "    print(dataMhs2019[nim]['alamat'])\n",
    "    print(\"----------------\")"
   ]
  },
  {
   "cell_type": "code",
   "execution_count": 15,
   "metadata": {},
   "outputs": [
    {
     "name": "stdout",
     "output_type": "stream",
     "text": [
      "I0319005\n",
      "Andhika\n",
      "08562345678\n",
      "----------------\n",
      "I0319010\n",
      "Andru\n",
      "08123789456\n",
      "----------------\n",
      "I0319075\n",
      "Maulana\n",
      "085699822345\n",
      "----------------\n",
      "I0319098\n",
      "Arga\n",
      "08772334567\n",
      "----------------\n"
     ]
    }
   ],
   "source": [
    "# Cara Lain mengakses data\n",
    "for nim, mahasiswa in dataMhs2019.items():\n",
    "    print(nim)\n",
    "    print(mahasiswa['nama'])\n",
    "    print(mahasiswa['telepon'])\n",
    "    print(\"----------------\")"
   ]
  },
  {
   "cell_type": "markdown",
   "metadata": {},
   "source": [
    "### Latihan Mandiri\n",
    "1. Menggunakan konsep list of list, buatlah program sederhana yang menyimpan biodata mahasiswa. Berikut ini ilustrasi proses yang dimiliki program\n",
    "    > Pertama: Pengguna program diminta menginputkan biodata mahasiswa (nama, alamat, kota kelahiran, tanggal lahir, nomor handphone, ukuran sepatu, tinggi badan), dengan terlebih dahulu memasukkan __nim__ sebagai kunci atau indeksnya.\n",
    "    \n",
    "    >Kedua: Pengguna kemudian dapat memasukkan sebuah nim tertentu, untuk menampilkan data seorang mahasiswa tersebut.\n",
    "    \n",
    "    Buatlah program yang informatif pagi pengguna !"
   ]
  }
 ],
 "metadata": {
  "kernelspec": {
   "display_name": "Python 3",
   "language": "python",
   "name": "python3"
  },
  "language_info": {
   "codemirror_mode": {
    "name": "ipython",
    "version": 3
   },
   "file_extension": ".py",
   "mimetype": "text/x-python",
   "name": "python",
   "nbconvert_exporter": "python",
   "pygments_lexer": "ipython3",
   "version": "3.6.5"
  }
 },
 "nbformat": 4,
 "nbformat_minor": 2
}
