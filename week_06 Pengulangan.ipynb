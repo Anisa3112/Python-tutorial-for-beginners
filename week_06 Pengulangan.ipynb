{
 "cells": [
  {
   "cell_type": "markdown",
   "metadata": {},
   "source": [
    "# Perulangan (Iterasi)\n",
    "\n",
    "Pengulangan adalah suatu bagian blok program yang dijalankan berulang kali sampai suatu kondisi terpenuhi.\n",
    "Perhatikan blok diagram pengulangan di bawah ini"
   ]
  },
  {
   "cell_type": "markdown",
   "metadata": {},
   "source": [
    "<img src=\"images/w06DiagramPerulangan.png\">"
   ]
  },
  {
   "cell_type": "markdown",
   "metadata": {},
   "source": [
    "Implementasi pengulangan dapat menggunakan \n",
    "1. For counter in range\n",
    "2. While True\n",
    "\n",
    "Bagian awal ini kita akan mempelajari pengulangan menggunakan <b>For</b> kemudian dilanjutkan dengan <b>While</b>.\n",
    "\n",
    "Pada sesi berikutnya, pengulangan menggunakan For akan lebih kompleks ketika telah mempelajari <b>List</b>\n"
   ]
  },
  {
   "cell_type": "markdown",
   "metadata": {},
   "source": [
    "# 1. Pengulangan - For counter in range \n",
    "\n",
    "Pengulangan dapat juga dilakukan menggunakan perintah \n",
    "\n",
    "> <b>For</b> counter in <b>range(elemen)</b>\n",
    "\n",
    "\n",
    "> <b>For</b> counter in <b>range(start, end, step )</b>"
   ]
  },
  {
   "cell_type": "code",
   "execution_count": 2,
   "metadata": {},
   "outputs": [
    {
     "name": "stdout",
     "output_type": "stream",
     "text": [
      "index  0 adalah elemen ke- 1\n",
      "index  1 adalah elemen ke- 2\n",
      "index  2 adalah elemen ke- 3\n",
      "index  3 adalah elemen ke- 4\n",
      "index  4 adalah elemen ke- 5\n"
     ]
    }
   ],
   "source": [
    "for i in range(5):  # mulai dari i=0 sampai lemen kurang dari 5\n",
    "    #print(i) \n",
    "    print(\"index \", i , \"adalah elemen ke-\", i+1)\n",
    "     "
   ]
  },
  {
   "cell_type": "code",
   "execution_count": 6,
   "metadata": {},
   "outputs": [
    {
     "name": "stdout",
     "output_type": "stream",
     "text": [
      "kuadrat dari  3  adalah  9\n",
      "kuadrat dari  4  adalah  16\n",
      "kuadrat dari  5  adalah  25\n",
      "kuadrat dari  6  adalah  36\n",
      "kuadrat dari  7  adalah  49\n"
     ]
    }
   ],
   "source": [
    "#Acknowledgement for Igo (TI2019)\n",
    "for i in range(3, 8): # lakukan pengulangan mulai dari i=3 sampai i < 8\n",
    "    #print(i)\n",
    "    print(\"kuadrat dari \", i, \" adalah \", i**2)\n"
   ]
  },
  {
   "cell_type": "code",
   "execution_count": 9,
   "metadata": {},
   "outputs": [
    {
     "name": "stdout",
     "output_type": "stream",
     "text": [
      "998 pangkat 3 adalah  994011992\n",
      "999 pangkat 3 adalah  997002999\n",
      "1000 pangkat 3 adalah  1000000000\n"
     ]
    }
   ],
   "source": [
    "for i in range(997, 1000):\n",
    "    print(i+1, \"pangkat 3 adalah \", pow(i+1,3))"
   ]
  },
  {
   "cell_type": "code",
   "execution_count": 11,
   "metadata": {},
   "outputs": [
    {
     "name": "stdout",
     "output_type": "stream",
     "text": [
      "2  kuadrat adalah  4\n",
      "5  kuadrat adalah  25\n",
      "8  kuadrat adalah  64\n",
      "11  kuadrat adalah  121\n",
      "14  kuadrat adalah  196\n",
      "17  kuadrat adalah  289\n"
     ]
    }
   ],
   "source": [
    "for k in range(2, 20, 3): #mulai dari 2 sampai kurang dari 20, step inkremen 3\n",
    "    print(k, \" kuadrat adalah \", k**2)"
   ]
  },
  {
   "cell_type": "code",
   "execution_count": 16,
   "metadata": {
    "scrolled": true
   },
   "outputs": [
    {
     "name": "stdout",
     "output_type": "stream",
     "text": [
      "nilai total sebelum ditambahkan  0.0\n",
      "1.0\n",
      "nilai total sebelum ditambahkan  1.0\n",
      "3.0\n",
      "nilai total sebelum ditambahkan  3.0\n",
      "6.0\n",
      "nilai total sebelum ditambahkan  6.0\n",
      "10.0\n",
      "nilai total sebelum ditambahkan  10.0\n",
      "15.0\n",
      "Jumlah keseluruhan  15.0\n",
      "Rata-rata :  3.0\n"
     ]
    }
   ],
   "source": [
    "total = 0.0\n",
    "n = 5\n",
    "for i in range(1, n + 1):\n",
    "    print(\"nilai total sebelum ditambahkan \", total)\n",
    "    total = total + i\n",
    "    print(total)\n",
    "\n",
    "print(\"Jumlah keseluruhan \", total)\n",
    "print(\"Rata-rata : \", total/n)\n"
   ]
  },
  {
   "cell_type": "code",
   "execution_count": 19,
   "metadata": {
    "scrolled": false
   },
   "outputs": [
    {
     "name": "stdout",
     "output_type": "stream",
     "text": [
      "elemen #  10\n",
      "elemen #  9\n",
      "elemen #  8\n",
      "elemen #  7\n",
      "elemen #  6\n",
      "elemen #  5\n",
      "elemen #  4\n"
     ]
    }
   ],
   "source": [
    "#Acknowledment for IGO (TI2019)\n",
    "for i in range(10, 3, -1):  # lakukan pengulangan mulai dari i=10 sampai i > 3, step -1\n",
    "    print(\"elemen # \",i)"
   ]
  },
  {
   "cell_type": "code",
   "execution_count": 20,
   "metadata": {},
   "outputs": [
    {
     "name": "stdout",
     "output_type": "stream",
     "text": [
      "elemen  10\n",
      "elemen  8\n",
      "elemen  6\n",
      "elemen  4\n"
     ]
    }
   ],
   "source": [
    "for k in range(10, 3, -2): #lakukan pengulangan mulai dari k=10 sampai k > 3, step -2\n",
    "    print(\"elemen \", k)"
   ]
  },
  {
   "cell_type": "code",
   "execution_count": 21,
   "metadata": {
    "scrolled": true
   },
   "outputs": [
    {
     "ename": "TypeError",
     "evalue": "'float' object cannot be interpreted as an integer",
     "output_type": "error",
     "traceback": [
      "\u001b[1;31m---------------------------------------------------------------------------\u001b[0m",
      "\u001b[1;31mTypeError\u001b[0m                                 Traceback (most recent call last)",
      "\u001b[1;32m<ipython-input-21-1cff745ca202>\u001b[0m in \u001b[0;36m<module>\u001b[1;34m()\u001b[0m\n\u001b[1;32m----> 1\u001b[1;33m \u001b[1;32mfor\u001b[0m \u001b[0mp\u001b[0m \u001b[1;32min\u001b[0m \u001b[0mrange\u001b[0m\u001b[1;33m(\u001b[0m\u001b[1;36m2\u001b[0m\u001b[1;33m,\u001b[0m \u001b[1;36m7\u001b[0m\u001b[1;33m,\u001b[0m \u001b[1;36m0.1\u001b[0m\u001b[1;33m)\u001b[0m\u001b[1;33m:\u001b[0m\u001b[1;33m\u001b[0m\u001b[0m\n\u001b[0m\u001b[0;32m      2\u001b[0m     \u001b[0mprint\u001b[0m\u001b[1;33m(\u001b[0m\u001b[0mp\u001b[0m\u001b[1;33m)\u001b[0m\u001b[1;33m\u001b[0m\u001b[0m\n",
      "\u001b[1;31mTypeError\u001b[0m: 'float' object cannot be interpreted as an integer"
     ]
    }
   ],
   "source": [
    "for p in range(2, 7, 0.1):\n",
    "    print(p)"
   ]
  },
  {
   "cell_type": "code",
   "execution_count": 32,
   "metadata": {},
   "outputs": [
    {
     "name": "stdout",
     "output_type": "stream",
     "text": [
      "50\n",
      "2\n",
      "2.1\n",
      "2.2\n",
      "2.3000000000000003\n",
      "2.4000000000000004\n",
      "2.5000000000000004\n",
      "2.6000000000000005\n",
      "2.7000000000000006\n",
      "2.8000000000000007\n",
      "2.900000000000001\n",
      "3.000000000000001\n",
      "3.100000000000001\n",
      "3.200000000000001\n",
      "3.300000000000001\n",
      "3.4000000000000012\n",
      "3.5000000000000013\n",
      "3.6000000000000014\n",
      "3.7000000000000015\n",
      "3.8000000000000016\n",
      "3.9000000000000017\n",
      "4.000000000000002\n",
      "4.100000000000001\n",
      "4.200000000000001\n",
      "4.300000000000001\n",
      "4.4\n",
      "4.5\n",
      "4.6\n",
      "4.699999999999999\n",
      "4.799999999999999\n",
      "4.899999999999999\n",
      "4.999999999999998\n"
     ]
    }
   ],
   "source": [
    "start = 2\n",
    "end = 7\n",
    "ink = 0.1\n",
    "#jumlah_pengulangan = (abs(end-start))/ink\n",
    "jumlah_pengulangan = int((abs(end-start))/ink)\n",
    "print(jumlah_pengulangan)\n",
    "\n",
    "for p in range(jumlah_pengulangan):\n",
    "    print(start)\n",
    "    start = start + ink\n",
    "    #if start > 5:\n",
    "    #    break"
   ]
  },
  {
   "cell_type": "code",
   "execution_count": 29,
   "metadata": {},
   "outputs": [
    {
     "name": "stdout",
     "output_type": "stream",
     "text": [
      "8 ketika a =  -1.9\n",
      "7.23 ketika a =  -1.7999999999999998\n",
      "6.52 ketika a =  -1.6999999999999997\n",
      "5.869999999999999 ketika a =  -1.5999999999999996\n",
      "5.279999999999998 ketika a =  -1.4999999999999996\n",
      "4.749999999999998 ketika a =  -1.3999999999999995\n",
      "4.279999999999998 ketika a =  -1.2999999999999994\n",
      "3.8699999999999974 ketika a =  -1.1999999999999993\n",
      "3.519999999999998 ketika a =  -1.0999999999999992\n",
      "3.2299999999999978 ketika a =  -0.9999999999999992\n",
      "2.9999999999999987 ketika a =  -0.8999999999999992\n",
      "2.8299999999999987 ketika a =  -0.7999999999999993\n",
      "2.7199999999999993 ketika a =  -0.6999999999999993\n",
      "2.67 ketika a =  -0.5999999999999993\n",
      "2.68 ketika a =  -0.49999999999999933\n",
      "2.750000000000001 ketika a =  -0.39999999999999936\n",
      "2.880000000000001 ketika a =  -0.2999999999999994\n",
      "3.070000000000001 ketika a =  -0.19999999999999937\n",
      "3.3200000000000016 ketika a =  -0.09999999999999937\n",
      "3.630000000000002 ketika a =  6.38378239159465e-16\n",
      "4.000000000000003 ketika a =  0.10000000000000064\n",
      "4.430000000000003 ketika a =  0.20000000000000065\n",
      "4.9200000000000035 ketika a =  0.30000000000000066\n",
      "5.470000000000004 ketika a =  0.4000000000000007\n",
      "6.0800000000000045 ketika a =  0.5000000000000007\n",
      "6.750000000000004 ketika a =  0.6000000000000006\n",
      "7.480000000000005 ketika a =  0.7000000000000006\n",
      "8.270000000000005 ketika a =  0.8000000000000006\n",
      "9.120000000000005 ketika a =  0.9000000000000006\n",
      "10.030000000000005 ketika a =  1.0000000000000007\n",
      "11.000000000000007 ketika a =  1.1000000000000008\n",
      "12.030000000000008 ketika a =  1.2000000000000008\n",
      "13.120000000000008 ketika a =  1.300000000000001\n",
      "14.27000000000001 ketika a =  1.400000000000001\n",
      "15.480000000000013 ketika a =  1.500000000000001\n",
      "16.750000000000014 ketika a =  1.6000000000000012\n",
      "18.080000000000016 ketika a =  1.7000000000000013\n",
      "19.47000000000002 ketika a =  1.8000000000000014\n",
      "20.92000000000002 ketika a =  1.9000000000000015\n",
      "22.43000000000002 ketika a =  2.0000000000000013\n"
     ]
    }
   ],
   "source": [
    "a = -2 \n",
    "b = 2\n",
    "delta = 0.1\n",
    "n = int(abs(a-b) / delta)\n",
    "\n",
    "for i in range(n):\n",
    "    y = 3*(a**2) + 4*a + 4\n",
    "    a += delta\n",
    "    # a = a + delta\n",
    "    print(y, \"ketika a = \", a)\n"
   ]
  },
  {
   "cell_type": "markdown",
   "metadata": {},
   "source": [
    "# 2. Pengulangan - While"
   ]
  },
  {
   "cell_type": "code",
   "execution_count": 5,
   "metadata": {},
   "outputs": [
    {
     "name": "stdout",
     "output_type": "stream",
     "text": [
      "7\n",
      "8\n",
      "9\n",
      "10\n",
      "selesai\n"
     ]
    }
   ],
   "source": [
    "i = 7\n",
    "\n",
    "while i <= 10:\n",
    "    print(i)\n",
    "    #Bagian ini wajib ada di dalam While\n",
    "    # Penambahan kounter\n",
    "    i = i+1\n",
    "\n",
    "print(\"selesai\")"
   ]
  },
  {
   "cell_type": "code",
   "execution_count": 4,
   "metadata": {},
   "outputs": [
    {
     "name": "stdout",
     "output_type": "stream",
     "text": [
      "95\n",
      "94\n",
      "93\n",
      "92\n",
      "91\n",
      "\n",
      "Selesai\n"
     ]
    }
   ],
   "source": [
    "k = 95\n",
    "while k > 90:\n",
    "    print(k)\n",
    "    k -= 1 #k = k-1\n",
    "\n",
    "print(\"\")\n",
    "print(\"Selesai\")"
   ]
  },
  {
   "cell_type": "code",
   "execution_count": null,
   "metadata": {},
   "outputs": [],
   "source": [
    "ulangi = True\n",
    "counter = 1\n",
    "\n",
    "while ulangi == True:\n",
    "    print(\"Blok Proses ke-\",counter, \"Dilaksanakan\")\n",
    "    print(\" - - - - - - - - - - -\")\n",
    "    \n",
    "    inputPengguna = input(\"Apakah Anda akan mengulangi program ? (y / n) \")\n",
    "    if inputPengguna == 'y':\n",
    "        ulangi = True\n",
    "        counter = counter + 1\n",
    "    else:\n",
    "        ulangi = False\n",
    "    print(\"\")\n",
    "\n",
    "print(\"Selesai\")\n",
    "\n",
    "\n",
    "# Perintah \n",
    "# while ulangi == True:\n",
    "# sama maknanya dengan \n",
    "# while ulangi:"
   ]
  },
  {
   "cell_type": "markdown",
   "metadata": {},
   "source": [
    "### Penjumlahan dan Nilai Rataan Sederhana"
   ]
  },
  {
   "cell_type": "code",
   "execution_count": null,
   "metadata": {},
   "outputs": [],
   "source": [
    "jumlahBilangan = input(\"Inputkan jumlah bilangan : \")\n",
    "jumlahBilangan = int(jumlahBilangan)\n",
    "\n",
    "total = 0.0\n",
    "bilanganBerikutnya = 1\n",
    "\n",
    "while bilanganBerikutnya <= jumlahBilangan:\n",
    "    total = total + bilanganBerikutnya\n",
    "    print(\"menambahkan :\", bilanganBerikutnya, \"Total saat ini : {0:.1f}\".format(total))\n",
    "    bilanganBerikutnya = bilanganBerikutnya + 0.1\n",
    "    \n",
    "print(\"Total penjumlahan bilangan : \", total)\n",
    "print(\"Rataan bilangan : \", total/jumlahBilangan)"
   ]
  },
  {
   "cell_type": "markdown",
   "metadata": {},
   "source": [
    "### Increment dan Decrement"
   ]
  },
  {
   "cell_type": "code",
   "execution_count": 19,
   "metadata": {},
   "outputs": [
    {
     "name": "stdout",
     "output_type": "stream",
     "text": [
      "Pengulangan ke : 1.0000\n",
      "Pengulangan ke : 1.5000\n",
      "Pengulangan ke : 2.0000\n",
      "Pengulangan ke : 2.5000\n",
      "Pengulangan ke : 3.0000\n",
      "Pengulangan ke : 3.5000\n",
      "Pengulangan ke : 4.0000\n",
      "Pengulangan ke : 4.5000\n",
      "Pengulangan ke : 5.0000\n",
      "Pengulangan ke : 5.5000\n",
      "Pengulangan ke : 6.0000\n",
      "Pengulangan ke : 6.5000\n",
      "Pengulangan ke : 7.0000\n",
      "Pengulangan ke : 7.5000\n",
      "Pengulangan ke : 8.0000\n",
      "Pengulangan ke : 8.5000\n",
      "Pengulangan ke : 9.0000\n"
     ]
    }
   ],
   "source": [
    "maxPengulangan = 9.0\n",
    "counter = 1.0\n",
    "\n",
    "while counter <= maxPengulangan:\n",
    "    print(\"Pengulangan ke : {0:.4f}\".format(counter) )\n",
    "    counter = counter + 0.5\n",
    "    "
   ]
  },
  {
   "cell_type": "code",
   "execution_count": null,
   "metadata": {},
   "outputs": [],
   "source": [
    "counter = 10\n",
    "\n",
    "while counter >= 1:\n",
    "    print(\"Hitungan ke :\", counter)\n",
    "    counter = counter - 1\n",
    "\n",
    "print(\"Go !!!\")"
   ]
  },
  {
   "cell_type": "markdown",
   "metadata": {},
   "source": [
    "### Latihan Pengulangan"
   ]
  },
  {
   "cell_type": "code",
   "execution_count": 13,
   "metadata": {},
   "outputs": [
    {
     "name": "stdout",
     "output_type": "stream",
     "text": [
      "4\n",
      "1\n",
      "5\n",
      "3\n",
      "6\n",
      "3\n",
      "6\n",
      "4\n",
      "6\n",
      "3\n"
     ]
    }
   ],
   "source": [
    "import random\n",
    "# help(random.randrange)\n",
    "maxPengulangan = 10\n",
    "nAngka = 0\n",
    "nGambar = 0\n",
    "nPelemparan = 1\n",
    "dadu = 0\n",
    "while nPelemparan <= maxPengulangan:\n",
    "    angkaOrgambar = random.randrange(0,2)\n",
    "    dadu = random.randrange(1,7)\n",
    "    print(dadu)\n",
    "#     print(angkaOrgambar)\n",
    "#    if angkaOrgambar == 0:\n",
    "#        nGambar = nGambar + 1\n",
    "#    else:\n",
    "#        nAngka = nAngka + 1\n",
    "    nPelemparan += 1\n",
    "\n",
    "#print()\n",
    "#print(\"Dari jumlah pelemparan \", maxPengulangan, \"koin, diperoleh : \", nAngka, \"angka dan \", nGambar, \"gambar\")"
   ]
  },
  {
   "cell_type": "code",
   "execution_count": 11,
   "metadata": {},
   "outputs": [
    {
     "name": "stdout",
     "output_type": "stream",
     "text": [
      "9\n",
      "10\n",
      "11\n",
      "12\n",
      "13\n",
      "14\n",
      "15\n",
      "16\n",
      "17\n",
      "18\n",
      "19\n"
     ]
    }
   ],
   "source": [
    "for i in range(9,20,1):\n",
    "    print(i)"
   ]
  },
  {
   "cell_type": "code",
   "execution_count": 14,
   "metadata": {},
   "outputs": [
    {
     "name": "stdout",
     "output_type": "stream",
     "text": [
      "hei, nama kamu adalah  yusuf\n",
      "Inputkan nama baru : yusuf\n",
      "hei, nama kamu adalah  yusuf\n",
      "Inputkan nama baru : abyan\n"
     ]
    }
   ],
   "source": [
    "nama = \"yusuf\"\n",
    "while nama == \"yusuf\":\n",
    "    print(\"hei, nama kamu adalah \", nama)\n",
    "    nama = input(\"Inputkan nama baru : \")"
   ]
  },
  {
   "cell_type": "code",
   "execution_count": 12,
   "metadata": {},
   "outputs": [
    {
     "name": "stdout",
     "output_type": "stream",
     "text": [
      "9\n",
      "10\n",
      "11\n",
      "12\n",
      "13\n",
      "14\n",
      "15\n",
      "16\n",
      "17\n",
      "18\n",
      "19\n"
     ]
    }
   ],
   "source": [
    "i = 9\n",
    "while i <= 19:\n",
    "    print(i)\n",
    "    i=i+1"
   ]
  },
  {
   "cell_type": "markdown",
   "metadata": {},
   "source": [
    "### Keluar dari Pengulangan\n",
    "\n",
    "Kadangkala, dalam sebuah program perlu keluar dari proses pengulangan ketika memenuhi sebuah kondisi tertentu. Perhatikan diagram alir berikut ini."
   ]
  },
  {
   "cell_type": "markdown",
   "metadata": {},
   "source": [
    "<img src=\"images/w06DiagramPerulanganBerkalang.jpg\">"
   ]
  },
  {
   "cell_type": "code",
   "execution_count": null,
   "metadata": {},
   "outputs": [],
   "source": [
    "while True:\n",
    "    baris = input(\"Ketik apa saja , atau exit untuk keluar : \")\n",
    "    if baris == \"exit\":\n",
    "        break\n",
    "#     else:\n",
    "#         continue\n",
    "    print(\"Anda mengetik\", baris)\n",
    "\n",
    "print(\"Selesai\")"
   ]
  },
  {
   "cell_type": "markdown",
   "metadata": {},
   "source": [
    "### Latihan\n",
    "\n",
    "1. Praktekkan contoh program Full Game pada halaman 176 buku Irv Kalb\n",
    "2. Praktekkan contoh program Building Error-Checking Utility Functions pada halaman 178 buku Irv Kalb\n"
   ]
  },
  {
   "cell_type": "code",
   "execution_count": null,
   "metadata": {},
   "outputs": [],
   "source": []
  }
 ],
 "metadata": {
  "kernelspec": {
   "display_name": "Python 3",
   "language": "python",
   "name": "python3"
  },
  "language_info": {
   "codemirror_mode": {
    "name": "ipython",
    "version": 3
   },
   "file_extension": ".py",
   "mimetype": "text/x-python",
   "name": "python",
   "nbconvert_exporter": "python",
   "pygments_lexer": "ipython3",
   "version": "3.6.5"
  }
 },
 "nbformat": 4,
 "nbformat_minor": 2
}
