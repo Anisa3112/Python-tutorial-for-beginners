{
 "cells": [
  {
   "cell_type": "markdown",
   "metadata": {},
   "source": [
    "# Pengulangan\n",
    "\n",
    "Pengulangan adalah suatu bagian blok program yang dijalankan berulang kali sampai suatu kondisi terpenuhi.\n",
    "Perhatikan blok diagram pengulangan di bawah ini"
   ]
  },
  {
   "attachments": {
    "image.png": {
     "image/png": "[encoded data removed]"
    }
   },
   "cell_type": "markdown",
   "metadata": {},
   "source": [
    "![image.png](attachment:image.png)"
   ]
  },
  {
   "cell_type": "markdown",
   "metadata": {},
   "source": [
    "Implementasi pengulangan dapat menggunakan \n",
    "1. For counter in range\n",
    "2. While True\n",
    "\n",
    "Bagian awal ini kita akan mempelajari pengulangan menggunakan <b>For</b> kemudian dilanjutkan dengan <b>While</b>.\n",
    "\n",
    "Pada sesi berikutnya, pengulangan menggunakan For akan lebih kompleks ketika telah mempelajari <b>List</b>\n"
   ]
  },
  {
   "cell_type": "markdown",
   "metadata": {},
   "source": [
    "# 1. Pengulangan - For counter in range \n",
    "\n",
    "Pengulangan dapat juga dilakukan menggunakan perintah \n",
    "\n",
    "> <b>For</b> counter in <b>range()</b>"
   ]
  },
  {
   "cell_type": "code",
   "execution_count": 10,
   "metadata": {},
   "outputs": [
    {
     "name": "stdout",
     "output_type": "stream",
     "text": [
      "index  0 adalah elemen ke- 1\n",
      "index  1 adalah elemen ke- 2\n",
      "index  2 adalah elemen ke- 3\n",
      "index  3 adalah elemen ke- 4\n",
      "index  4 adalah elemen ke- 5\n",
      "index  5 adalah elemen ke- 6\n",
      "index  6 adalah elemen ke- 7\n",
      "index  7 adalah elemen ke- 8\n"
     ]
    }
   ],
   "source": [
    "for i in range(8): # maksimum elemen / item\n",
    "    print(\"index \", i , \"adalah elemen ke-\", i+1)\n",
    "    "
   ]
  },
  {
   "cell_type": "code",
   "execution_count": 14,
   "metadata": {},
   "outputs": [
    {
     "name": "stdout",
     "output_type": "stream",
     "text": [
      "1  kuadrat adalah  1\n",
      "2  kuadrat adalah  4\n",
      "3  kuadrat adalah  9\n",
      "4  kuadrat adalah  16\n",
      "5  kuadrat adalah  25\n",
      "6  kuadrat adalah  36\n",
      "7  kuadrat adalah  49\n",
      "8  kuadrat adalah  64\n",
      "9  kuadrat adalah  81\n",
      "10  kuadrat adalah  100\n",
      "akhir loop\n"
     ]
    }
   ],
   "source": [
    "# index\n",
    "for i in range(1, 11): # maksimum elemen atau maksimum item\n",
    "    print(i,\" kuadrat adalah \", i**2 )\n",
    "print('akhir loop')"
   ]
  },
  {
   "cell_type": "code",
   "execution_count": 13,
   "metadata": {},
   "outputs": [
    {
     "name": "stdout",
     "output_type": "stream",
     "text": [
      "1 kuadrat adalah  1\n",
      "2 kuadrat adalah  4\n",
      "3 kuadrat adalah  9\n",
      "4 kuadrat adalah  16\n",
      "5 kuadrat adalah  25\n",
      "6 kuadrat adalah  36\n",
      "7 kuadrat adalah  49\n",
      "8 kuadrat adalah  64\n",
      "9 kuadrat adalah  81\n",
      "10 kuadrat adalah  100\n"
     ]
    }
   ],
   "source": [
    "for i in range(10):\n",
    "    print(i+1, \"kuadrat adalah \", pow(i+1,2))"
   ]
  },
  {
   "cell_type": "code",
   "execution_count": 15,
   "metadata": {},
   "outputs": [
    {
     "name": "stdout",
     "output_type": "stream",
     "text": [
      "indeks ke- 0\n",
      "indeks ke- 1\n",
      "indeks ke- 2\n",
      "indeks ke- 3\n"
     ]
    }
   ],
   "source": [
    "for i in range(2 ** 2):\n",
    "    print('indeks ke-', i)"
   ]
  },
  {
   "cell_type": "code",
   "execution_count": null,
   "metadata": {},
   "outputs": [],
   "source": [
    "total = 0\n",
    "n = 5\n",
    "for i in range(1, n + 1):\n",
    "    total += i\n",
    "\n",
    "print(total)"
   ]
  },
  {
   "cell_type": "code",
   "execution_count": null,
   "metadata": {},
   "outputs": [],
   "source": [
    "for i in range(10, 0, -2):\n",
    "    print(i)\n"
   ]
  },
  {
   "cell_type": "markdown",
   "metadata": {},
   "source": [
    "# 2. Pengulangan - While"
   ]
  },
  {
   "cell_type": "code",
   "execution_count": null,
   "metadata": {},
   "outputs": [],
   "source": [
    "ulangi = True\n",
    "counter = 1\n",
    "\n",
    "while ulangi == True:\n",
    "    print(\"Blok Proses ke-\",counter, \"Dilaksanakan\")\n",
    "    print(\" - - - - - - - - - - -\")\n",
    "    \n",
    "    inputPengguna = input(\"Apakah Anda akan mengulangi program ? (y / n) \")\n",
    "    if inputPengguna == 'y':\n",
    "        ulangi = True\n",
    "        counter = counter + 1\n",
    "    else:\n",
    "        ulangi = False\n",
    "    print(\"\")\n",
    "\n",
    "print(\"Selesai\")\n",
    "\n",
    "\n",
    "# Perintah \n",
    "# while ulangi == True:\n",
    "# sama maknanya dengan \n",
    "# while ulangi:"
   ]
  },
  {
   "cell_type": "markdown",
   "metadata": {},
   "source": [
    "### Penjumlahan dan Nilai Rataan Sederhana"
   ]
  },
  {
   "cell_type": "code",
   "execution_count": null,
   "metadata": {},
   "outputs": [],
   "source": [
    "jumlahBilangan = input(\"Inputkan jumlah bilangan : \")\n",
    "jumlahBilangan = int(jumlahBilangan)\n",
    "\n",
    "total = 0.0\n",
    "bilanganBerikutnya = 1\n",
    "\n",
    "while bilanganBerikutnya <= jumlahBilangan:\n",
    "    total = total + bilanganBerikutnya\n",
    "    print(\"menambahkan :\", bilanganBerikutnya, \"Total saat ini : \", total)\n",
    "    bilanganBerikutnya = bilanganBerikutnya + 1\n",
    "    \n",
    "print(\"Total penjumlahan bilangan : \", total)\n",
    "print(\"Rataan bilangan : \", total/jumlahBilangan)"
   ]
  },
  {
   "cell_type": "markdown",
   "metadata": {},
   "source": [
    "### Increment dan Decrement"
   ]
  },
  {
   "cell_type": "code",
   "execution_count": null,
   "metadata": {},
   "outputs": [],
   "source": [
    "jumlahPengulangan = 9\n",
    "counter = 1\n",
    "\n",
    "while counter <= jumlahPengulangan:\n",
    "    print(\"Pengulangan ke :\", counter)\n",
    "    counter = counter + 1\n",
    "    "
   ]
  },
  {
   "cell_type": "code",
   "execution_count": null,
   "metadata": {},
   "outputs": [],
   "source": [
    "counter = 10\n",
    "\n",
    "while counter >= 1:\n",
    "    print(\"Hitungan ke :\", counter)\n",
    "    counter = counter - 1\n",
    "\n",
    "print(\"Go !!!\")"
   ]
  },
  {
   "cell_type": "markdown",
   "metadata": {},
   "source": [
    "### Latihan Pengulangan"
   ]
  },
  {
   "cell_type": "code",
   "execution_count": null,
   "metadata": {},
   "outputs": [],
   "source": [
    "import random\n",
    "\n",
    "# help(random.randrange)\n",
    "\n",
    "maxPengulangan = 10\n",
    "nAngka = 0\n",
    "nGambar = 0\n",
    "nPelemparan = 0\n",
    "\n",
    "while nPelemparan < maxPengulangan:\n",
    "    angkaOrgambar = random.randrange(0,2)\n",
    "#     print(angkaOrgambar)\n",
    "    \n",
    "    if angkaOrgambar == 0:\n",
    "        nGambar = nGambar + 1\n",
    "    else:\n",
    "        nAngka = nAngka + 1\n",
    "    \n",
    "    nPelemparan += 1\n",
    "\n",
    "print()\n",
    "print(\"Dari jumlah pelemparan \", nPelemparan, \"koin, diperoleh : \", nAngka, \"angka dan \", nGambar, \"gambar\")"
   ]
  },
  {
   "cell_type": "markdown",
   "metadata": {},
   "source": [
    "### Keluar dari Pengulangan\n",
    "\n",
    "Kadangkala, dalam sebuah program perlu keluar dari proses pengulangan ketika memenuhi sebuah kondisi tertentu. Perhatikan diagram alir berikut ini."
   ]
  },
  {
   "attachments": {
    "image.png": {
     "image/png": "[encoded data removed]"
    }
   },
   "cell_type": "markdown",
   "metadata": {},
   "source": [
    "![image.png](attachment:image.png)"
   ]
  },
  {
   "cell_type": "code",
   "execution_count": null,
   "metadata": {},
   "outputs": [],
   "source": [
    "while True:\n",
    "    baris = input(\"Ketik apa saja , atau exit untuk keluar : \")\n",
    "    if baris == \"exit\":\n",
    "        break\n",
    "#     else:\n",
    "#         continue\n",
    "    print(\"Anda mengetik\", baris)\n",
    "\n",
    "print(\"Selesai\")"
   ]
  },
  {
   "cell_type": "markdown",
   "metadata": {},
   "source": [
    "### Latihan\n",
    "\n",
    "1. Praktekkan contoh program Full Game pada halaman 176 buku Irv Kalb\n",
    "2. Praktekkan contoh program Building Error-Checking Utility Functions pada halaman 178 buku Irv Kalb\n"
   ]
  },
  {
   "cell_type": "code",
   "execution_count": null,
   "metadata": {},
   "outputs": [],
   "source": []
  }
 ],
 "metadata": {
  "kernelspec": {
   "display_name": "Python 3",
   "language": "python",
   "name": "python3"
  },
  "language_info": {
   "codemirror_mode": {
    "name": "ipython",
    "version": 3
   },
   "file_extension": ".py",
   "mimetype": "text/x-python",
   "name": "python",
   "nbconvert_exporter": "python",
   "pygments_lexer": "ipython3",
   "version": "3.6.5"
  }
 },
 "nbformat": 4,
 "nbformat_minor": 2
}
