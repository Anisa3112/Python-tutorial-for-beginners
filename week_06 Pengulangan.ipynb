{
 "cells": [
  {
   "cell_type": "markdown",
   "metadata": {},
   "source": [
    "# Perulangan (Iterasi)\n",
    "\n",
    "Pengulangan adalah suatu bagian blok program yang dijalankan berulang kali sampai suatu kondisi terpenuhi.\n",
    "Perhatikan blok diagram pengulangan di bawah ini"
   ]
  },
  {
   "attachments": {},
   "cell_type": "markdown",
   "metadata": {},
   "source": [
    "<img src=\"images/w06DiagramPerulangan.png\">"
   ]
  },
  {
   "cell_type": "markdown",
   "metadata": {},
   "source": [
    "Implementasi pengulangan dapat menggunakan \n",
    "1. For counter in range\n",
    "2. While True\n",
    "\n",
    "Bagian awal ini kita akan mempelajari pengulangan menggunakan <b>For</b> kemudian dilanjutkan dengan <b>While</b>.\n",
    "\n",
    "Pada sesi berikutnya, pengulangan menggunakan For akan lebih kompleks ketika telah mempelajari <b>List</b>\n"
   ]
  },
  {
   "cell_type": "markdown",
   "metadata": {},
   "source": [
    "# 1. Pengulangan - For counter in range \n",
    "\n",
    "Pengulangan dapat juga dilakukan menggunakan perintah \n",
    "\n",
    "> <b>For</b> counter in <b>range()</b>"
   ]
  },
  {
   "cell_type": "code",
   "execution_count": 2,
   "metadata": {},
   "outputs": [
    {
     "name": "stdout",
     "output_type": "stream",
     "text": [
      "index  0 adalah elemen ke- 1\n",
      "index  1 adalah elemen ke- 2\n",
      "index  2 adalah elemen ke- 3\n",
      "index  3 adalah elemen ke- 4\n",
      "index  4 adalah elemen ke- 5\n",
      "index  5 adalah elemen ke- 6\n",
      "index  6 adalah elemen ke- 7\n",
      "index  7 adalah elemen ke- 8\n"
     ]
    }
   ],
   "source": [
    "for i in range(8): # maksimum elemen / item / maksimum pengulangan\n",
    "#     print(i)    \n",
    "    print(\"index \", i , \"adalah elemen ke-\", i+1)\n",
    "    "
   ]
  },
  {
   "cell_type": "code",
   "execution_count": 3,
   "metadata": {},
   "outputs": [
    {
     "name": "stdout",
     "output_type": "stream",
     "text": [
      "1  kuadrat adalah  1\n",
      "2  kuadrat adalah  4\n",
      "3  kuadrat adalah  9\n",
      "4  kuadrat adalah  16\n",
      "5  kuadrat adalah  25\n",
      "6  kuadrat adalah  36\n",
      "7  kuadrat adalah  49\n",
      "akhir loop\n"
     ]
    }
   ],
   "source": [
    "# index\n",
    "for i in range(1, 8): # maksimum elemen atau maksimum item\n",
    "    print(i,\" kuadrat adalah \", i**2 )\n",
    "print('akhir loop')"
   ]
  },
  {
   "cell_type": "code",
   "execution_count": 7,
   "metadata": {},
   "outputs": [
    {
     "name": "stdout",
     "output_type": "stream",
     "text": [
      "998 kuadrat adalah  996004\n",
      "999 kuadrat adalah  998001\n",
      "1000 kuadrat adalah  1000000\n"
     ]
    }
   ],
   "source": [
    "for i in range(997, 1000):\n",
    "    print(i+1, \"kuadrat adalah \", pow(i+1,2))"
   ]
  },
  {
   "cell_type": "code",
   "execution_count": 8,
   "metadata": {},
   "outputs": [
    {
     "name": "stdout",
     "output_type": "stream",
     "text": [
      "indeks ke- 0\n",
      "indeks ke- 1\n",
      "indeks ke- 2\n",
      "indeks ke- 3\n"
     ]
    }
   ],
   "source": [
    "for i in range(2 ** 2):\n",
    "    print('indeks ke-', i)"
   ]
  },
  {
   "cell_type": "code",
   "execution_count": 11,
   "metadata": {},
   "outputs": [
    {
     "name": "stdout",
     "output_type": "stream",
     "text": [
      "30\n",
      "6.0\n"
     ]
    }
   ],
   "source": [
    "# total = 0\n",
    "n = 5\n",
    "for i in range(1, n + 1):\n",
    "#     total += i\n",
    "    total = total + i\n",
    "\n",
    "print(total)\n",
    "print(total/n)\n"
   ]
  },
  {
   "cell_type": "code",
   "execution_count": null,
   "metadata": {},
   "outputs": [],
   "source": [
    "1+2+3+4+5"
   ]
  },
  {
   "cell_type": "code",
   "execution_count": 15,
   "metadata": {
    "scrolled": true
   },
   "outputs": [
    {
     "name": "stdout",
     "output_type": "stream",
     "text": [
      "elemen #  10\n",
      "elemen #  8\n",
      "elemen #  6\n",
      "elemen #  4\n"
     ]
    }
   ],
   "source": [
    "for i in range(10, 3, -2):\n",
    "    print(\"elemen # \",i)\n"
   ]
  },
  {
   "cell_type": "code",
   "execution_count": 16,
   "metadata": {
    "scrolled": true
   },
   "outputs": [
    {
     "ename": "TypeError",
     "evalue": "'float' object cannot be interpreted as an integer",
     "output_type": "error",
     "traceback": [
      "\u001b[1;31m---------------------------------------------------------------------------\u001b[0m",
      "\u001b[1;31mTypeError\u001b[0m                                 Traceback (most recent call last)",
      "\u001b[1;32m<ipython-input-16-80bb21b7de47>\u001b[0m in \u001b[0;36m<module>\u001b[1;34m()\u001b[0m\n\u001b[1;32m----> 1\u001b[1;33m \u001b[1;32mfor\u001b[0m \u001b[0mi\u001b[0m \u001b[1;32min\u001b[0m \u001b[0mrange\u001b[0m\u001b[1;33m(\u001b[0m\u001b[1;33m-\u001b[0m\u001b[1;36m3\u001b[0m\u001b[1;33m,\u001b[0m \u001b[1;36m3\u001b[0m\u001b[1;33m,\u001b[0m \u001b[1;36m0.1\u001b[0m\u001b[1;33m)\u001b[0m\u001b[1;33m:\u001b[0m\u001b[1;33m\u001b[0m\u001b[0m\n\u001b[0m\u001b[0;32m      2\u001b[0m     \u001b[0mprint\u001b[0m\u001b[1;33m(\u001b[0m\u001b[0mi\u001b[0m\u001b[1;33m)\u001b[0m\u001b[1;33m\u001b[0m\u001b[0m\n",
      "\u001b[1;31mTypeError\u001b[0m: 'float' object cannot be interpreted as an integer"
     ]
    }
   ],
   "source": [
    "for i in range(-3, 3, 0.1):\n",
    "    print(i)"
   ]
  },
  {
   "cell_type": "code",
   "execution_count": null,
   "metadata": {},
   "outputs": [],
   "source": [
    "a = -2 \n",
    "b = 2\n",
    "n = abs(a-b) / 0.000001\n",
    "\n",
    "for i in range(n):\n",
    "    y = 3*(a**2) + 4*a + 4\n",
    "    a += 0.000001\n",
    "\n",
    "    "
   ]
  },
  {
   "cell_type": "markdown",
   "metadata": {},
   "source": [
    "# 2. Pengulangan - While"
   ]
  },
  {
   "cell_type": "code",
   "execution_count": 1,
   "metadata": {},
   "outputs": [
    {
     "name": "stdout",
     "output_type": "stream",
     "text": [
      "Blok Proses ke- 1 Dilaksanakan\n",
      " - - - - - - - - - - -\n",
      "Apakah Anda akan mengulangi program ? (y / n) y\n",
      "\n",
      "Blok Proses ke- 2 Dilaksanakan\n",
      " - - - - - - - - - - -\n",
      "Apakah Anda akan mengulangi program ? (y / n) n\n",
      "\n",
      "Selesai\n"
     ]
    }
   ],
   "source": [
    "ulangi = True\n",
    "counter = 1\n",
    "\n",
    "while ulangi == True:\n",
    "    print(\"Blok Proses ke-\",counter, \"Dilaksanakan\")\n",
    "    print(\" - - - - - - - - - - -\")\n",
    "    \n",
    "    inputPengguna = input(\"Apakah Anda akan mengulangi program ? (y / n) \")\n",
    "    if inputPengguna == 'y':\n",
    "        ulangi = True\n",
    "        counter = counter + 1\n",
    "    else:\n",
    "        ulangi = False\n",
    "    print(\"\")\n",
    "\n",
    "print(\"Selesai\")\n",
    "\n",
    "\n",
    "# Perintah \n",
    "# while ulangi == True:\n",
    "# sama maknanya dengan \n",
    "# while ulangi:"
   ]
  },
  {
   "cell_type": "markdown",
   "metadata": {},
   "source": [
    "### Penjumlahan dan Nilai Rataan Sederhana"
   ]
  },
  {
   "cell_type": "code",
   "execution_count": 13,
   "metadata": {},
   "outputs": [
    {
     "name": "stdout",
     "output_type": "stream",
     "text": [
      "Inputkan jumlah bilangan : 2\n",
      "menambahkan : 1 Total saat ini : 1.0\n",
      "menambahkan : 1.1 Total saat ini : 2.1\n",
      "menambahkan : 1.2000000000000002 Total saat ini : 3.3\n",
      "menambahkan : 1.3000000000000003 Total saat ini : 4.6\n",
      "menambahkan : 1.4000000000000004 Total saat ini : 6.0\n",
      "menambahkan : 1.5000000000000004 Total saat ini : 7.5\n",
      "menambahkan : 1.6000000000000005 Total saat ini : 9.1\n",
      "menambahkan : 1.7000000000000006 Total saat ini : 10.8\n",
      "menambahkan : 1.8000000000000007 Total saat ini : 12.6\n",
      "menambahkan : 1.9000000000000008 Total saat ini : 14.5\n",
      "Total penjumlahan bilangan :  14.500000000000004\n",
      "Rataan bilangan :  7.250000000000002\n"
     ]
    }
   ],
   "source": [
    "jumlahBilangan = input(\"Inputkan jumlah bilangan : \")\n",
    "jumlahBilangan = int(jumlahBilangan)\n",
    "\n",
    "total = 0.0\n",
    "bilanganBerikutnya = 1\n",
    "\n",
    "while bilanganBerikutnya <= jumlahBilangan:\n",
    "    total = total + bilanganBerikutnya\n",
    "    print(\"menambahkan :\", bilanganBerikutnya, \"Total saat ini : {0:.1f}\".format(total))\n",
    "    bilanganBerikutnya = bilanganBerikutnya + 0.1\n",
    "    \n",
    "print(\"Total penjumlahan bilangan : \", total)\n",
    "print(\"Rataan bilangan : \", total/jumlahBilangan)"
   ]
  },
  {
   "cell_type": "markdown",
   "metadata": {},
   "source": [
    "### Increment dan Decrement"
   ]
  },
  {
   "cell_type": "code",
   "execution_count": 6,
   "metadata": {},
   "outputs": [
    {
     "name": "stdout",
     "output_type": "stream",
     "text": [
      "Pengulangan ke : 1.00\n",
      "Pengulangan ke : 1.10\n",
      "Pengulangan ke : 1.20\n",
      "Pengulangan ke : 1.30\n",
      "Pengulangan ke : 1.40\n",
      "Pengulangan ke : 1.50\n",
      "Pengulangan ke : 1.60\n",
      "Pengulangan ke : 1.70\n",
      "Pengulangan ke : 1.80\n",
      "Pengulangan ke : 1.90\n",
      "Pengulangan ke : 2.00\n",
      "Pengulangan ke : 2.10\n",
      "Pengulangan ke : 2.20\n",
      "Pengulangan ke : 2.30\n",
      "Pengulangan ke : 2.40\n",
      "Pengulangan ke : 2.50\n",
      "Pengulangan ke : 2.60\n",
      "Pengulangan ke : 2.70\n",
      "Pengulangan ke : 2.80\n",
      "Pengulangan ke : 2.90\n",
      "Pengulangan ke : 3.00\n",
      "Pengulangan ke : 3.10\n",
      "Pengulangan ke : 3.20\n",
      "Pengulangan ke : 3.30\n",
      "Pengulangan ke : 3.40\n",
      "Pengulangan ke : 3.50\n",
      "Pengulangan ke : 3.60\n",
      "Pengulangan ke : 3.70\n",
      "Pengulangan ke : 3.80\n",
      "Pengulangan ke : 3.90\n",
      "Pengulangan ke : 4.00\n",
      "Pengulangan ke : 4.10\n",
      "Pengulangan ke : 4.20\n",
      "Pengulangan ke : 4.30\n",
      "Pengulangan ke : 4.40\n",
      "Pengulangan ke : 4.50\n",
      "Pengulangan ke : 4.60\n",
      "Pengulangan ke : 4.70\n",
      "Pengulangan ke : 4.80\n",
      "Pengulangan ke : 4.90\n",
      "Pengulangan ke : 5.00\n",
      "Pengulangan ke : 5.10\n",
      "Pengulangan ke : 5.20\n",
      "Pengulangan ke : 5.30\n",
      "Pengulangan ke : 5.40\n",
      "Pengulangan ke : 5.50\n",
      "Pengulangan ke : 5.60\n",
      "Pengulangan ke : 5.70\n",
      "Pengulangan ke : 5.80\n",
      "Pengulangan ke : 5.90\n",
      "Pengulangan ke : 6.00\n",
      "Pengulangan ke : 6.10\n",
      "Pengulangan ke : 6.20\n",
      "Pengulangan ke : 6.30\n",
      "Pengulangan ke : 6.40\n",
      "Pengulangan ke : 6.50\n",
      "Pengulangan ke : 6.60\n",
      "Pengulangan ke : 6.70\n",
      "Pengulangan ke : 6.80\n",
      "Pengulangan ke : 6.90\n",
      "Pengulangan ke : 7.00\n",
      "Pengulangan ke : 7.10\n",
      "Pengulangan ke : 7.20\n",
      "Pengulangan ke : 7.30\n",
      "Pengulangan ke : 7.40\n",
      "Pengulangan ke : 7.50\n",
      "Pengulangan ke : 7.60\n",
      "Pengulangan ke : 7.70\n",
      "Pengulangan ke : 7.80\n",
      "Pengulangan ke : 7.90\n",
      "Pengulangan ke : 8.00\n",
      "Pengulangan ke : 8.10\n",
      "Pengulangan ke : 8.20\n",
      "Pengulangan ke : 8.30\n",
      "Pengulangan ke : 8.40\n",
      "Pengulangan ke : 8.50\n",
      "Pengulangan ke : 8.60\n",
      "Pengulangan ke : 8.70\n",
      "Pengulangan ke : 8.80\n",
      "Pengulangan ke : 8.90\n",
      "Pengulangan ke : 9.00\n"
     ]
    }
   ],
   "source": [
    "jumlahPengulangan = 9\n",
    "counter = 1.0\n",
    "\n",
    "while counter <= jumlahPengulangan:\n",
    "    print(\"Pengulangan ke : {0:.2f}\".format(counter) )\n",
    "    counter = counter + 0.1\n",
    "    "
   ]
  },
  {
   "cell_type": "code",
   "execution_count": 14,
   "metadata": {},
   "outputs": [
    {
     "name": "stdout",
     "output_type": "stream",
     "text": [
      "Hitungan ke : 10\n",
      "Hitungan ke : 9\n",
      "Hitungan ke : 8\n",
      "Hitungan ke : 7\n",
      "Hitungan ke : 6\n",
      "Hitungan ke : 5\n",
      "Hitungan ke : 4\n",
      "Hitungan ke : 3\n",
      "Hitungan ke : 2\n",
      "Hitungan ke : 1\n",
      "Go !!!\n"
     ]
    }
   ],
   "source": [
    "counter = 10\n",
    "\n",
    "while counter >= 1:\n",
    "    print(\"Hitungan ke :\", counter)\n",
    "    counter = counter - 1\n",
    "\n",
    "print(\"Go !!!\")"
   ]
  },
  {
   "cell_type": "markdown",
   "metadata": {},
   "source": [
    "### Latihan Pengulangan"
   ]
  },
  {
   "cell_type": "code",
   "execution_count": 16,
   "metadata": {},
   "outputs": [
    {
     "name": "stdout",
     "output_type": "stream",
     "text": [
      "\n",
      "Dari jumlah pelemparan  10 koin, diperoleh :  3 angka dan  7 gambar\n"
     ]
    }
   ],
   "source": [
    "import random\n",
    "# help(random.randrange)\n",
    "maxPengulangan = 10\n",
    "nAngka = 0\n",
    "nGambar = 0\n",
    "nPelemparan = 0\n",
    "\n",
    "while nPelemparan < maxPengulangan:\n",
    "    angkaOrgambar = random.randrange(0,2)\n",
    "#     print(angkaOrgambar)\n",
    "    \n",
    "    if angkaOrgambar == 0:\n",
    "        nGambar = nGambar + 1\n",
    "    else:\n",
    "        nAngka = nAngka + 1\n",
    "    \n",
    "    nPelemparan += 1\n",
    "\n",
    "print()\n",
    "print(\"Dari jumlah pelemparan \", nPelemparan, \"koin, diperoleh : \", nAngka, \"angka dan \", nGambar, \"gambar\")"
   ]
  },
  {
   "cell_type": "markdown",
   "metadata": {},
   "source": [
    "### Keluar dari Pengulangan\n",
    "\n",
    "Kadangkala, dalam sebuah program perlu keluar dari proses pengulangan ketika memenuhi sebuah kondisi tertentu. Perhatikan diagram alir berikut ini."
   ]
  },
  {
   "cell_type": "markdown",
   "metadata": {},
   "source": [
    "<img src=\"images/w06DiagramPerulanganBerkalang.jpg\">"
   ]
  },
  {
   "cell_type": "code",
   "execution_count": 17,
   "metadata": {},
   "outputs": [
    {
     "name": "stdout",
     "output_type": "stream",
     "text": [
      "Ketik apa saja , atau exit untuk keluar : mulai\n",
      "Anda mengetik mulai\n",
      "Ketik apa saja , atau exit untuk keluar : start\n",
      "Anda mengetik start\n",
      "Ketik apa saja , atau exit untuk keluar : yyyyy\n",
      "Anda mengetik yyyyy\n",
      "Ketik apa saja , atau exit untuk keluar : ttttt\n",
      "Anda mengetik ttttt\n",
      "Ketik apa saja , atau exit untuk keluar : exit\n",
      "Selesai\n"
     ]
    }
   ],
   "source": [
    "while True:\n",
    "    baris = input(\"Ketik apa saja , atau exit untuk keluar : \")\n",
    "    if baris == \"exit\":\n",
    "        break\n",
    "#     else:\n",
    "#         continue\n",
    "    print(\"Anda mengetik\", baris)\n",
    "\n",
    "print(\"Selesai\")"
   ]
  },
  {
   "cell_type": "markdown",
   "metadata": {},
   "source": [
    "### Latihan\n",
    "\n",
    "1. Praktekkan contoh program Full Game pada halaman 176 buku Irv Kalb\n",
    "2. Praktekkan contoh program Building Error-Checking Utility Functions pada halaman 178 buku Irv Kalb\n"
   ]
  },
  {
   "cell_type": "code",
   "execution_count": null,
   "metadata": {},
   "outputs": [],
   "source": []
  }
 ],
 "metadata": {
  "kernelspec": {
   "display_name": "Python 3",
   "language": "python",
   "name": "python3"
  },
  "language_info": {
   "codemirror_mode": {
    "name": "ipython",
    "version": 3
   },
   "file_extension": ".py",
   "mimetype": "text/x-python",
   "name": "python",
   "nbconvert_exporter": "python",
   "pygments_lexer": "ipython3",
   "version": "3.6.5"
  }
 },
 "nbformat": 4,
 "nbformat_minor": 2
}
