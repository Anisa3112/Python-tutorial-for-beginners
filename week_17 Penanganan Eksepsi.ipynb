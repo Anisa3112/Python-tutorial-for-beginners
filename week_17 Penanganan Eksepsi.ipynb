{
 "cells": [
  {
   "cell_type": "markdown",
   "metadata": {},
   "source": [
    "Dalam sebuah program, ada 2 bentuk kesalahan. Pertama, kesalahan karena salah dalam penulisan program. Kesalahan pertama ini mudah dideteksi karena program tidak bisa dieksekusi sama sekali. Kesalahan kedua, adalah kesalahan ketika program sedang berjalan (run-time). Kesalahan kedua ini menyebabkan program bisa dieksekusi, tetapi kemudian di tengah jalan akan dihentikan secara tidak normal karena adanya kondisi kesalahan tertentu yang tidak dapat dilakukan oleh program. Kesalahan seperti ini menyebabkan programmer harus mengidentifikasi bagian letak kesalahan dan menjalankan ulang program.\n",
    "\n",
    "Selain kedua bentuk kesalahan di atas, ada satu lagi kesalahan yakni ketidak sesuaian hasil program dengan yang diharapkan. Kesalahan seperti ini biasanya paling berat untuk ditelusur karena ada banyak kemungkinan sumber masalah. Misal karena algoritma yang salah, penggunaan operator pembanding yang keliru, penggunaan diagram keputusan yang tidak tepat, inisiasi variabel atau parameter yang salah dan banyak kemungkinan lainnya. \n",
    "\n",
    "Penanganan eksepsi kali ini ditujukan untuk menangani kesalahan kedua, yakni kesalahan program pada saat dieksekusi (run-time)"
   ]
  },
  {
   "cell_type": "markdown",
   "metadata": {},
   "source": [
    "## Pengertian Eksepsi\n",
    "\n",
    "Eksepsi adalah suatu bentuk kesalahan yang terjadi pada saat program telah dijalankan atau dieksekusi dan akan mengacaukan alur perintah-perintah normal yang terdapat di dalam program (Raharjo, 2019). Di dalam python, kesalahan-kesalahan tersebut direpresentasikan sebagai objek.\n",
    "\n",
    "Berikut ini gambaran struktur kesalahan dan eksepsi di dalam python (Hunt, 2020)"
   ]
  },
  {
   "cell_type": "markdown",
   "metadata": {},
   "source": [
    "<img src=\"images/w14Eksepsi.png\">"
   ]
  },
  {
   "cell_type": "code",
   "execution_count": 1,
   "metadata": {},
   "outputs": [
    {
     "ename": "NameError",
     "evalue": "name 'variabel' is not defined",
     "output_type": "error",
     "traceback": [
      "\u001b[1;31m---------------------------------------------------------------------------\u001b[0m",
      "\u001b[1;31mNameError\u001b[0m                                 Traceback (most recent call last)",
      "\u001b[1;32m<ipython-input-1-8558b39690be>\u001b[0m in \u001b[0;36m<module>\u001b[1;34m()\u001b[0m\n\u001b[1;32m----> 1\u001b[1;33m \u001b[0mprint\u001b[0m\u001b[1;33m(\u001b[0m\u001b[0mvariabel\u001b[0m\u001b[1;33m)\u001b[0m\u001b[1;33m\u001b[0m\u001b[0m\n\u001b[0m",
      "\u001b[1;31mNameError\u001b[0m: name 'variabel' is not defined"
     ]
    }
   ],
   "source": [
    "print(variabel)"
   ]
  },
  {
   "cell_type": "code",
   "execution_count": 2,
   "metadata": {},
   "outputs": [
    {
     "ename": "ZeroDivisionError",
     "evalue": "division by zero",
     "output_type": "error",
     "traceback": [
      "\u001b[1;31m---------------------------------------------------------------------------\u001b[0m",
      "\u001b[1;31mZeroDivisionError\u001b[0m                         Traceback (most recent call last)",
      "\u001b[1;32m<ipython-input-2-76ea80225931>\u001b[0m in \u001b[0;36m<module>\u001b[1;34m()\u001b[0m\n\u001b[1;32m----> 1\u001b[1;33m \u001b[0mprint\u001b[0m\u001b[1;33m(\u001b[0m\u001b[1;36m3\u001b[0m \u001b[1;33m/\u001b[0m \u001b[1;36m0\u001b[0m\u001b[1;33m)\u001b[0m\u001b[1;33m\u001b[0m\u001b[0m\n\u001b[0m",
      "\u001b[1;31mZeroDivisionError\u001b[0m: division by zero"
     ]
    }
   ],
   "source": [
    "print(3 / 0)"
   ]
  },
  {
   "cell_type": "markdown",
   "metadata": {},
   "source": [
    "<b>NameError</b> dan <b>ZeroDivisionError</b> adalah contoh eksepsi.\n",
    "\n",
    "Eksepsi NameError karena adanya kesalahan berupa print sebuah variabel yang belum pernah didefinisikan. Adapun eksepsi ZeroDivisionError karena adanya kesalahan pembagian sebuah bilangan oleh nol (0)."
   ]
  },
  {
   "cell_type": "markdown",
   "metadata": {},
   "source": [
    "## Penanganan Eksepsi\n",
    "\n",
    "Penanganan eksepsi atau kesalahan secara umum menggunakan blok program sebagai berikut:\n",
    "    \n",
    "    try:\n",
    "        #kode\n",
    "        . . .\n",
    "    except TipeEksepsi:\n",
    "        #pengananan kesalahan\n",
    "        . . .\n"
   ]
  },
  {
   "cell_type": "code",
   "execution_count": 6,
   "metadata": {
    "scrolled": true
   },
   "outputs": [
    {
     "name": "stdout",
     "output_type": "stream",
     "text": [
      "Input bilangan pertama : 9\n",
      "Input bilangan kedua : 0\n",
      "\n",
      "Error: Bilangan pembagi tidak boleh Nol (0)\n"
     ]
    },
    {
     "ename": "SystemExit",
     "evalue": "1",
     "output_type": "error",
     "traceback": [
      "An exception has occurred, use %tb to see the full traceback.\n",
      "\u001b[1;31mSystemExit\u001b[0m\u001b[1;31m:\u001b[0m 1\n"
     ]
    },
    {
     "name": "stderr",
     "output_type": "stream",
     "text": [
      "C:\\ProgramData\\Anaconda3\\lib\\site-packages\\IPython\\core\\interactiveshell.py:2971: UserWarning: To exit: use 'exit', 'quit', or Ctrl-D.\n",
      "  warn(\"To exit: use 'exit', 'quit', or Ctrl-D.\", stacklevel=1)\n"
     ]
    }
   ],
   "source": [
    "import sys\n",
    "\n",
    "a = float(input(\"Input bilangan pertama : \"))\n",
    "b = float(input(\"Input bilangan kedua : \"))\n",
    "\n",
    "#Blok try .. except\n",
    "try:\n",
    "    hasilbagi = a / b\n",
    "except ZeroDivisionError:\n",
    "    print(\"\\nError: Bilangan pembagi tidak boleh Nol (0)\")\n",
    "    sys.exit(1)\n",
    "\n",
    "#Display hasil\n",
    "print(\"Bilangan pertama : \", a)\n",
    "print(\"Bilangan kedua : \", b)\n",
    "print(\"a / b = \", hasilbagi)"
   ]
  },
  {
   "cell_type": "markdown",
   "metadata": {},
   "source": [
    "Pada contoh di atas, ekspresi proses pembagian antara bilangan pertama (a) oleh bilangan kedua (b) dimasukkan dalam blok try, dan jika terjadi pembagian oleh bilangan 0, maka akan ditangani oleh blok except dengan ditampilkan pesan \"Bilangan pembagi tidak boleh Nol (0)\" dan kemudian dilanjutkan dengan dihentikannya program menggunakan perintah sys.exit()"
   ]
  },
  {
   "cell_type": "markdown",
   "metadata": {},
   "source": [
    "Oleh karena proses pembagian dimasukkan ke dalam blok <b>try:</b>, maka variabel hasil bagi bersifat lokal, dan jika sekiranya pembagi bukanlah Nol (0), maka proses berlanjut tetapi kemudian variabel hasil bagi tidak bisa di print karena tidak dikenali.\n",
    "\n",
    "Coba ulangi jalankan program tersebut dengan memasukkan nilai bilangan kedua selain bernilai 0. "
   ]
  },
  {
   "cell_type": "markdown",
   "metadata": {},
   "source": [
    "Mengatasi masalah tersebut dapat dilakukan dengan memindahkan proses print hasilbagi ke dalam blok try pada bagian else. Secara umum bentuknya seperti ini.\n",
    "\n",
    "    try:\n",
    "        #kode\n",
    "        . . .\n",
    "    except TipeEksepsi:\n",
    "        #pengananan kesalahan\n",
    "        . . .\n",
    "    else:\n",
    "        #kode selanjutnya jika tidak terjadi kesalahan\n",
    "        . . ."
   ]
  },
  {
   "cell_type": "code",
   "execution_count": 9,
   "metadata": {},
   "outputs": [
    {
     "name": "stdout",
     "output_type": "stream",
     "text": [
      "Input bilangan pertama : 9\n",
      "Input bilangan kedua : 3\n",
      "Bilangan pertama :  9.0\n",
      "Bilangan kedua :  3.0\n",
      "a / b =  3.0\n"
     ]
    }
   ],
   "source": [
    "import sys\n",
    "\n",
    "a = float(input(\"Input bilangan pertama : \"))\n",
    "b = float(input(\"Input bilangan kedua : \"))\n",
    "\n",
    "#Blok try .. except\n",
    "try:\n",
    "    hasilbagi = a / b\n",
    "except ZeroDivisionError:\n",
    "    print(\"\\nError: Bilangan pembagi tidak boleh Nol (0)\")\n",
    "else:\n",
    "    #Display hasil\n",
    "    print(\"Bilangan pertama : \", a)\n",
    "    print(\"Bilangan kedua : \", b)\n",
    "    print(\"a / b = \", hasilbagi)"
   ]
  },
  {
   "cell_type": "markdown",
   "metadata": {},
   "source": [
    "! Perhatikan bahwa pada blok except, fungsi exit() tidak lagi dipanggil. "
   ]
  },
  {
   "cell_type": "markdown",
   "metadata": {},
   "source": [
    "## Penanganan Banyak Eksepsi\n",
    "\n",
    "Blok try . . . except dapat digunakan untuk menangani lebih dari satu eksepsi \n",
    "\n",
    "    try:\n",
    "        #kode\n",
    "        . . .\n",
    "    except TipeEksepsi_01:\n",
    "        #pengananan kesalahan untuk TipeEksepsi_01\n",
    "        . . .\n",
    "    except TipeEksepsi_02:\n",
    "        #pengananan kesalahan untuk TipeEksepsi_02\n",
    "        . . .\n",
    "    else:\n",
    "        #kode selanjutnya jika tidak terjadi kesalahan\n",
    "        . . ."
   ]
  },
  {
   "cell_type": "code",
   "execution_count": 11,
   "metadata": {},
   "outputs": [
    {
     "name": "stdout",
     "output_type": "stream",
     "text": [
      "Input bilangan pertama : 9\n",
      "Input bilangan kedua : \n",
      "\n",
      "Error: Input harus berupa bilangan (angka) \n"
     ]
    }
   ],
   "source": [
    "import sys\n",
    "\n",
    "#Blok try .. except\n",
    "try:\n",
    "    a = float(input(\"Input bilangan pertama : \"))\n",
    "    b = float(input(\"Input bilangan kedua : \"))\n",
    "    hasilbagi = a / b\n",
    "except ValueError:\n",
    "    print(\"\\nError: Input harus berupa bilangan (angka) \")\n",
    "     #mengantisipasi input variabel berupa huruf atau simbol\n",
    "except ZeroDivisionError:\n",
    "    print(\"\\nError: Bilangan pembagi tidak boleh Nol (0)\")\n",
    "except KeyboardInterrupt:\n",
    "    print(\"\\nError: Menekan tombol Ctrl+C\")\n",
    "    #mengantisipasi agar variabel bilangan pertama dan kedua harus diisi\n",
    "else:\n",
    "    #Display hasil\n",
    "    print(\"Bilangan pertama : \", a)\n",
    "    print(\"Bilangan kedua : \", b)\n",
    "    print(\"a / b = \", hasilbagi)"
   ]
  },
  {
   "cell_type": "markdown",
   "metadata": {},
   "source": [
    "## Bentuk-bentuk Eksepsi\n",
    "\n",
    "Sebagai tambahan atau lanjutan dari gambar struktur eksepsi di atas, berikut ini adalah bentuk-bentuk eksepsi yang ada di python 3 (sumber : https://docs.python.org/3/library/exceptions.html#base-classes)\n",
    "\n",
    "    BaseException\n",
    "     +-- SystemExit\n",
    "     +-- KeyboardInterrupt\n",
    "     +-- GeneratorExit\n",
    "     +-- Exception\n",
    "          +-- StopIteration\n",
    "          +-- StopAsyncIteration\n",
    "          +-- ArithmeticError\n",
    "          |    +-- FloatingPointError\n",
    "          |    +-- OverflowError\n",
    "          |    +-- ZeroDivisionError\n",
    "          +-- AssertionError\n",
    "          +-- AttributeError\n",
    "          +-- BufferError\n",
    "          +-- EOFError\n",
    "          +-- ImportError\n",
    "          |    +-- ModuleNotFoundError\n",
    "          +-- LookupError\n",
    "          |    +-- IndexError\n",
    "          |    +-- KeyError\n",
    "          +-- MemoryError\n",
    "          +-- NameError\n",
    "          |    +-- UnboundLocalError\n",
    "          +-- OSError\n",
    "          |    +-- BlockingIOError\n",
    "          |    +-- ChildProcessError\n",
    "          |    +-- ConnectionError\n",
    "          |    |    +-- BrokenPipeError\n",
    "          |    |    +-- ConnectionAbortedError\n",
    "          |    |    +-- ConnectionRefusedError\n",
    "          |    |    +-- ConnectionResetError\n",
    "          |    +-- FileExistsError\n",
    "          |    +-- FileNotFoundError\n",
    "          |    +-- InterruptedError\n",
    "          |    +-- IsADirectoryError\n",
    "          |    +-- NotADirectoryError\n",
    "          |    +-- PermissionError\n",
    "          |    +-- ProcessLookupError\n",
    "          |    +-- TimeoutError\n",
    "          +-- ReferenceError\n",
    "          +-- RuntimeError\n",
    "          |    +-- NotImplementedError\n",
    "          |    +-- RecursionError\n",
    "          +-- SyntaxError\n",
    "          |    +-- IndentationError\n",
    "          |         +-- TabError\n",
    "          +-- SystemError\n",
    "          +-- TypeError\n",
    "          +-- ValueError\n",
    "          |    +-- UnicodeError\n",
    "          |         +-- UnicodeDecodeError\n",
    "          |         +-- UnicodeEncodeError\n",
    "          |         +-- UnicodeTranslateError\n",
    "          +-- Warning\n",
    "               +-- DeprecationWarning\n",
    "               +-- PendingDeprecationWarning\n",
    "               +-- RuntimeWarning\n",
    "               +-- SyntaxWarning\n",
    "               +-- UserWarning\n",
    "               +-- FutureWarning\n",
    "               +-- ImportWarning\n",
    "               +-- UnicodeWarning\n",
    "               +-- BytesWarning\n",
    "               +-- ResourceWarning"
   ]
  },
  {
   "cell_type": "markdown",
   "metadata": {},
   "source": [
    "## Penggunaan Blok try . . . finally\n",
    "\n",
    "Blok try ... finally tidak digunakan untuk menangkap kesalahan (eksepsi), tetapi untuk memastikan bahwa kode program tetap selalu dieksekusi, baik terjadi kesalahan maupun tidak terjadi kesalahan. Bentuk umumnya sebagai berikut:\n",
    "\n",
    "    try:\n",
    "        # kode\n",
    "        . . .\n",
    "    finally:\n",
    "        # kode ini akan selalu dieksekusi\n",
    "        . . .\n",
    "\n",
    "contohnya pada saat membuat program membaca dan menulis data ke dalam sebuah file, boleh saja terjadi kesalahan saat melakukan penulisan atau write() karena pengguna tidak berhak melakukan akses menulis pada file. Oleh karena itu, pada blok finally tetap dilakukan proses Close "
   ]
  },
  {
   "cell_type": "code",
   "execution_count": 13,
   "metadata": {},
   "outputs": [],
   "source": [
    "try:\n",
    "    f = open(\"w14_contohteks.txt\", \"w\")\n",
    "    \n",
    "    try:\n",
    "        # menulis data ke file\n",
    "        tanggal = \"2020-05-05\" \n",
    "        f.write(tanggal)\n",
    "    finally:\n",
    "        f.close() # menutup file\n",
    "except IOError:\n",
    "    print(\"Error: File tidak dapat dibuka/ditulis\")"
   ]
  },
  {
   "cell_type": "code",
   "execution_count": null,
   "metadata": {},
   "outputs": [],
   "source": []
  }
 ],
 "metadata": {
  "celltoolbar": "Raw Cell Format",
  "kernelspec": {
   "display_name": "Python 3",
   "language": "python",
   "name": "python3"
  },
  "language_info": {
   "codemirror_mode": {
    "name": "ipython",
    "version": 3
   },
   "file_extension": ".py",
   "mimetype": "text/x-python",
   "name": "python",
   "nbconvert_exporter": "python",
   "pygments_lexer": "ipython3",
   "version": "3.6.5"
  }
 },
 "nbformat": 4,
 "nbformat_minor": 2
}
