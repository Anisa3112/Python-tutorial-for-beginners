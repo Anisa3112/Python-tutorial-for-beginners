{
 "cells": [
  {
   "cell_type": "markdown",
   "metadata": {},
   "source": [
    "# User-Defined Functions\n",
    "Pada sesi tutorial ini akan diajarkan beberapa hal:\n",
    "* Definsi, Penulisan dan Pemanggilan Function (Fungsi)\n",
    "* Fungsi dengan Parameters\n",
    "* Fungsi Tanpa Nilai Balik (Prosedur)\n",
    "* Fungsi Menghasilkan Lebih dari Satu Nilai Balik\n",
    "* Konstanta\n",
    "* Menelusur Kesalahan (Error) dalam Fungsi"
   ]
  },
  {
   "cell_type": "markdown",
   "metadata": {},
   "source": [
    "## 1. Definisi, Penulisan dan Pemanggilan Function (Fungsi)\n",
    "<b>Fungsi</b> adalah sekumpulan perintah yang digunakan dengan <b>memanggil nama</b> dari fungsi tersebut. Pada diagram alir, fungsi dapat kita lihat seperti sebuah simbol prosedur (bentuknya persegi seperti simbol proses dengan dua garis pada sisi kanan dan kiri). \n",
    "\n",
    "Fungsi memberikan kemudahan bagi programmer untuk mengumpulkan suatu kelompok perintah tertentu, dan kemudian dapat digunakan atau dipanggil dari bagian lain blok program, setelah fungsi didefinisikan.\n",
    "\n",
    "Bentuk dasar penulisan fungsi sebagai berikut:\n",
    "\n",
    "> def < functionName >( < optionalParameters > ):\n",
    ">>    < indented statement(s) >\n",
    "\n",
    "untuk menggunakan function, sama seperti memanggil built-in function.\n",
    "> nama_function ( < argument1 >, < argument2 >, . .. )\n",
    "\n",
    "atau\n",
    "> nama_variable = nama_function ( < argument1 >, < argument2 >, . .. )"
   ]
  },
  {
   "cell_type": "code",
   "execution_count": 8,
   "metadata": {},
   "outputs": [
    {
     "name": "stdout",
     "output_type": "stream",
     "text": [
      "250.0\n"
     ]
    }
   ],
   "source": [
    "def luasSegitiga(alas, tinggi):\n",
    "    luas = 0.5 * alas * tinggi\n",
    "    return luas\n",
    "\n",
    "luas_segitiga = luasSegitiga(20,25)\n",
    "print(luas_segitiga)\n",
    "\n",
    "# Bagaimana jika baris perintah luasSegitiga(10,20) \n",
    "# diletakkan sebelum baris def luasSegitiga(alas, tinggi) ?"
   ]
  },
  {
   "cell_type": "markdown",
   "metadata": {},
   "source": [
    "pembuatan atau penulisan nama suatu fungsi mengikuti kaidah penulisan identifier (pengenal) (week_3). Selain itu, nama fungsi juga tidak boleh menggunakan kata-kata pemrograman yang ada dalam bahasa program."
   ]
  },
  {
   "attachments": {},
   "cell_type": "markdown",
   "metadata": {},
   "source": [
    "<img src=\"images/w04PenamaanFungsi.png\">"
   ]
  },
  {
   "cell_type": "markdown",
   "metadata": {},
   "source": [
    "Fungsi memberikan nilai balik (return) kepada bagian blok program yang memanggil nama fungsi tersebut. Perhatikan contoh di atas."
   ]
  },
  {
   "cell_type": "markdown",
   "metadata": {},
   "source": [
    "## 2. Fungsi dengan Parameters\n",
    "Pada contoh fungsi luasSegitiga terdapat dua nilai yang diperlukan untuk menghitung luas segitiga. Kedua nilai tersebut dikirim saat pemanggilan fungsi, kemudian diterima oleh fungsi dalam bentuk <b>parameter</b>  alas, tinggi dan terakhir parameter tersebut digunakan oleh fungsi untuk proses menghitung luas segitiga.\n",
    "\n",
    "Parameter yang terdapat dalam fungsi disebut sebagai variabel lokal di dalam fungsi tersebut. \n",
    "* Penamaan parameter (variabel lokal) suatu fungsi boleh sama atau berbeda dengan nama variabel yang digunakan pada saat pemanggilan fungsi. \n",
    "* Variabel lokal hanya dikenal dalam fungsi tersebut dan tidak dikenal diluar fungsi tersebut.\n",
    "* Urutan parameter yang dikirimkan harus sama dengan maksud parameter yang akan menerimanya\n"
   ]
  },
  {
   "cell_type": "code",
   "execution_count": 20,
   "metadata": {},
   "outputs": [
    {
     "name": "stdout",
     "output_type": "stream",
     "text": [
      "1000.0\n"
     ]
    }
   ],
   "source": [
    "alas = 20\n",
    "tinggi = 100\n",
    "\n",
    "\n",
    "def luasSegitiga(tinggi):\n",
    "#     print(alas)\n",
    "    luas = 0.5 * alas * tinggi\n",
    "    return luas\n",
    "\n",
    "luas_segitiga = luasSegitiga(tinggi)\n",
    "print(luas_segitiga)\n",
    "# print(alas)\n",
    "# print(a)"
   ]
  },
  {
   "cell_type": "code",
   "execution_count": 8,
   "metadata": {
    "scrolled": true
   },
   "outputs": [
    {
     "name": "stdout",
     "output_type": "stream",
     "text": [
      "Nilai akhir mata kuliah :  81.33333333333333\n"
     ]
    }
   ],
   "source": [
    "def hitungNilaiAkhir(a,b,c,d):\n",
    "    total = a * 2 + b + c + d * 2\n",
    "    reRata = total / 6.0\n",
    "    return reRata\n",
    "\n",
    "uts = 78\n",
    "tugas1 = 85\n",
    "tugas2 = 90\n",
    "uas = 75\n",
    "nilaiAkhir = hitungNilaiAkhir(tugas1, uts, tugas2,uas)\n",
    "print(\"Nilai akhir mata kuliah : \", nilaiAkhir)"
   ]
  },
  {
   "cell_type": "markdown",
   "metadata": {},
   "source": [
    "## 3. Fungsi Tanpa Nilai Balik (Prosedur)\n",
    "\n",
    "Fungsi yang telah dijelaskan sebelumnya selalu memberikan nilai balik pada blok program yang memanggil fungsi. Tanda bahwa fungsi memberikan nilai balik adalah adanya baris perintah <b><i>return</i></b>. \n",
    "\n",
    "Fungsi juga dapat berupa sekumpulan baris program tanpa memberikan nilai balik. Fungsi seperti ini dalam pemrograman biasa disebut <b>Prosedur</b>.\n"
   ]
  },
  {
   "cell_type": "code",
   "execution_count": 21,
   "metadata": {},
   "outputs": [
    {
     "name": "stdout",
     "output_type": "stream",
     "text": [
      "Tuliskan Informasi Anda\n",
      "Nama : Hanung\n",
      "Alamat : Solo\n",
      "Handphone : 04354565645\n",
      "Email : misal@yahoo.com\n",
      " \n",
      "Data Pengguna Program \n",
      "======================\n",
      "Nama :  Hanung\n",
      "Alamat :  Solo\n",
      "Handphone :  04354565645\n",
      "Email :  misal@yahoo.com\n"
     ]
    }
   ],
   "source": [
    "def cetakBiodata(nm, add, hp, email):\n",
    "    print(\"Data Pengguna Program \")\n",
    "    print(\"======================\")\n",
    "    print(\"Nama : \", nm)\n",
    "    print(\"Alamat : \", add)\n",
    "    print(\"Handphone : \", hp)\n",
    "    print(\"Email : \", email)\n",
    "\n",
    "print(\"Tuliskan Informasi Anda\")\n",
    "nama = input(\"Nama : \")\n",
    "alamat = input(\"Alamat : \")\n",
    "handphone = input(\"Handphone : \")\n",
    "email = input(\"Email : \")\n",
    "\n",
    "print(\" \")\n",
    "cetakBiodata(nama,alamat,handphone,email)"
   ]
  },
  {
   "cell_type": "markdown",
   "metadata": {},
   "source": [
    "## 4. Fungsi Menghasilkan Lebih dari Satu Nilai Balik\n",
    "\n",
    "Python memiliki kelebihan dibanding bahasa program lain, yakni bisa memberikan nilai balik lebih dari satu.\n",
    "\n"
   ]
  },
  {
   "cell_type": "code",
   "execution_count": 23,
   "metadata": {},
   "outputs": [
    {
     "name": "stdout",
     "output_type": "stream",
     "text": [
      "Total Nilai akhir mata kuliah :  481\n",
      "Nilai akhir mata kuliah :  80.16666666666667\n"
     ]
    }
   ],
   "source": [
    "def hitungNA(uts,tugas1,tugas2,uas):\n",
    "    total = a * 2 + b + c + d * 2\n",
    "    reRata = total / 6.0\n",
    "    return total, reRata\n",
    "\n",
    "a = 78\n",
    "t1 = 85\n",
    "t2 = 90\n",
    "b = 75\n",
    "totalNilai, nilaiAkhir = hitungNA()\n",
    "print(\"Total Nilai akhir mata kuliah : \", totalNilai)\n",
    "print(\"Nilai akhir mata kuliah : \", nilaiAkhir)"
   ]
  },
  {
   "cell_type": "markdown",
   "metadata": {},
   "source": [
    "## 5. Konstanta\n",
    "\n",
    "Konstanta pada prinsipnya seperti sebuah variabel, hanya saja di dalam penggunaan program, nilai konstanta tersebut tidak akan diubah.\n",
    "\n",
    "Contoh konstanta yang sudah kita pelajari adalah inisiasi nilai <b> pi = 3.14</b> pada program fungsi menghitung luasLingkaran.\n",
    "\n",
    "Agar memudahkan membaca program yang dibuat, dianjurkan untuk menuliskan konstanta dalam huruf KAPITAL."
   ]
  },
  {
   "cell_type": "code",
   "execution_count": null,
   "metadata": {},
   "outputs": [],
   "source": [
    "PI = 3.14\n",
    "\n",
    "def luasLingkaran(rad):\n",
    "    return PI * pow(rad, 2)\n",
    "\n",
    "radius = 15\n",
    "luas_lingkaran = luasLingkaran(radius)\n",
    "print(luas_lingkaran)"
   ]
  },
  {
   "cell_type": "markdown",
   "metadata": {},
   "source": [
    "## 6. Scope Variabel\n",
    "\n",
    "Variabel yang didefinisikan (diinisiasi) dalam sebuah fungsi, baik sebagai parameter atau variabel, maka hanya akan dikenali di dalam fungsi tersebut.\n",
    "\n",
    "Adapun variabel yang didefinisikan (diinisiasi) secara global (di bagian utama program), akan dikenali di seluruh bagian program termasuk bisa digunakan di dalam sebuah fungsi.\n"
   ]
  },
  {
   "cell_type": "code",
   "execution_count": 1,
   "metadata": {},
   "outputs": [
    {
     "name": "stdout",
     "output_type": "stream",
     "text": [
      "Nilai akhir mata kuliah :  80.16666666666667\n"
     ]
    }
   ],
   "source": [
    "def hitungAverage(a,b,c,d):\n",
    "#     variabel a,b,c,d adalah parameter atau variabel lokal\n",
    "    total = a * 2 + b + c + d * 2\n",
    "#     variabel uts, tugas1, tugas2, dan uas adalah variabel global\n",
    "#     total = uts * 2 + tugas1 + tugas2 + uas * 2\n",
    "    reRata = total / 6.0\n",
    "    return reRata\n",
    "\n",
    "uts = 78\n",
    "tugas1 = 85\n",
    "tugas2 = 90\n",
    "uas = 75\n",
    "nilaiAkhir = hitungAverage(uts,tugas1,tugas2,uas)\n",
    "print(\"Nilai akhir mata kuliah : \", nilaiAkhir)"
   ]
  },
  {
   "cell_type": "markdown",
   "metadata": {},
   "source": [
    "## 7. Menelusur Kesalahan (Error) dalam Fungsi\n",
    "\n",
    "Menelusur kesalahan dalam suatu fungsi dilakukan dengan cara:\n",
    "1. Mulailah melihat pada baris terakhir dalam pesan kesalahan yang ditampilkan oleh program.\n",
    "2. Telusur pesan kesalahan tersebut ke baris-baris di atasnya, dan biasanya ditunjukkan pada fungsi mana terjadi kesalahan."
   ]
  },
  {
   "cell_type": "code",
   "execution_count": null,
   "metadata": {},
   "outputs": [],
   "source": [
    "def fungsiAdaSalah():\n",
    "    print(\"*****************\")\n",
    "    print(varBelumTerdefinisi)\n",
    "    print() # Print baris kosong\n",
    "\n",
    "def cetakBiodata(nama,alamat,handphone,email):\n",
    "    print(\"Data Pengguna Program :\")\n",
    "    print(\"=======================\")\n",
    "    print(nama)\n",
    "    print(alamat)\n",
    "    print(handphone)\n",
    "    print(email)\n",
    "    fungsiAdaSalah()\n",
    "    \n",
    "# Bagian Utama Program\n",
    "nmPengguna = \"Priyandari\"\n",
    "addPengguna = \"Yogyakarta\"\n",
    "hpPengguna = '0812323456234'\n",
    "emailPengguna = \"emailku@uns.ac.id\"\n",
    "cetakBiodata(nmPengguna,addPengguna,hpPengguna, emailPengguna)\n",
    "    "
   ]
  },
  {
   "cell_type": "markdown",
   "metadata": {},
   "source": [
    "### Latihan Mandiri\n",
    "\n",
    "A. Buatlah program-program sederhana (tidak menerapkan fungsi) untuk menghitung \n",
    "1. Konversi suhu Fahrenheit ke Celcius\n",
    "2. Konversi suhu Celcius ke Fahrenheit\n",
    "3. Konversi suhu Fahrenheit ke Reamur\n",
    "4. Konversi suhu Reamur ke Fahrenheit\n",
    "5. Konversi suhu Celcius ke Reamur\n",
    "6. Konversi suhu Reamur ke Celcius\n",
    "7. Luas Lingkaran\n",
    "8. Luas permukaan tabung\n",
    "9. Volume tabung\n",
    "\n",
    "\n",
    "B. Modifikasi program-program sederhana tersebut dengan menerapkan konsep fungsi\n"
   ]
  },
  {
   "cell_type": "code",
   "execution_count": null,
   "metadata": {},
   "outputs": [],
   "source": []
  }
 ],
 "metadata": {
  "kernelspec": {
   "display_name": "Python 3",
   "language": "python",
   "name": "python3"
  },
  "language_info": {
   "codemirror_mode": {
    "name": "ipython",
    "version": 3
   },
   "file_extension": ".py",
   "mimetype": "text/x-python",
   "name": "python",
   "nbconvert_exporter": "python",
   "pygments_lexer": "ipython3",
   "version": "3.6.5"
  }
 },
 "nbformat": 4,
 "nbformat_minor": 2
}
