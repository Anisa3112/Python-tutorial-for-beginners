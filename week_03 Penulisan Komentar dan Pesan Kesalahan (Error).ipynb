{
 "cells": [
  {
   "cell_type": "markdown",
   "metadata": {},
   "source": [
    "## 1. Penulisan Komentar dalam Kode Program"
   ]
  },
  {
   "cell_type": "markdown",
   "metadata": {},
   "source": [
    "<b>Komentar atau comments</b> adalah baris-baris dalam program yang tidak akan dijalankan (diesksekusi) oleh bahasa program. Komentar  digunakan untuk memudahkan programmer dalam mengingat fungsi baris-baris perintah yang dituliskannya, atau memberi catatan belum selesainya bagian progran pada bagian tertentu.\n",
    "\n",
    "\n",
    "\n"
   ]
  },
  {
   "cell_type": "code",
   "execution_count": null,
   "metadata": {},
   "outputs": [],
   "source": [
    "# Ini adalah baris komentar\n",
    "# Baris di atas dan baris ini tidak dieksekusi\n",
    "# Baris di bawah ini akan dieksekusi\n",
    "print(\"Baris program yang dieksekusi.\")\n",
    "nilai_ipk = 2.75\n",
    "print(\"IPK\", nilai_ipk, \"perlu ditingkatkan\")"
   ]
  },
  {
   "cell_type": "code",
   "execution_count": null,
   "metadata": {},
   "outputs": [],
   "source": [
    "\"\"\" \n",
    "Komentar multi baris\n",
    "Anda bisa menuliskan beberapa baris sekaligus\n",
    "dan baris ini tidak akan dieksekusi\n",
    "\"\"\""
   ]
  },
  {
   "cell_type": "markdown",
   "metadata": {},
   "source": [
    "## 2. Pesan Kesalahan (Error)\n",
    "\n",
    "Ada beberapa tipe kesalahan yang perlu diketahui dalam proses mempelajari sebuah program"
   ]
  },
  {
   "cell_type": "markdown",
   "metadata": {},
   "source": [
    "### 2.1 Syntax Error \n",
    "Syntax error atau kesalahan syntax (penulisan) program adalah bentuk kesalahan yang paling sering ditemui dalam pembuatan program."
   ]
  },
  {
   "cell_type": "code",
   "execution_count": null,
   "metadata": {
    "scrolled": true
   },
   "outputs": [],
   "source": [
    "namaLengkap = \"Yusuf Priyandari\"\n",
    "print(namalengkap)"
   ]
  },
  {
   "cell_type": "markdown",
   "metadata": {},
   "source": [
    "nilai = 95.5 7\n",
    "\n",
    "y = (5 +\n",
    "\n",
    "x = 1"
   ]
  },
  {
   "cell_type": "markdown",
   "metadata": {},
   "source": [
    "### 2.2 Exception Error\n",
    "Bentuk kedua kesalahan adalah runtime error atau exception error\n",
    "\n",
    "> x = 5 + 'abc'\n",
    "\n",
    "TypeError: unsupported operand type(s) for +: 'int' and 'str'\n",
    "\n",
    "> print(xyz)\n",
    "\n",
    "NameError: name 'xyz' is not defined"
   ]
  },
  {
   "cell_type": "code",
   "execution_count": null,
   "metadata": {
    "scrolled": true
   },
   "outputs": [],
   "source": [
    "x = 5 + 'abc'"
   ]
  },
  {
   "cell_type": "code",
   "execution_count": null,
   "metadata": {
    "scrolled": true
   },
   "outputs": [],
   "source": [
    "print(xyz)"
   ]
  },
  {
   "cell_type": "markdown",
   "metadata": {},
   "source": [
    "### 2.3 Logic Error\n",
    "Logic error adalah bentuk kesalahan logika dalam penulisan program. Sebagai contoh, kita akan menambahkan nilai1 dengan nilai2 menjadi nilaitotal. Namun kita melakukan kesalahan penulisan dengan memberi operator perkalian.\n",
    "\n",
    "> nilai1 = 87\n",
    "\n",
    "> nilai2 = 90\n",
    "\n",
    "> totalnilai = nilai1 * nilai2\n",
    "\n",
    "Kesalahan seperti ini tidak menghasilkan pesan kesalahan, tetapi hasil akhir atau solusi program tidak sesuai harapan."
   ]
  },
  {
   "cell_type": "code",
   "execution_count": null,
   "metadata": {},
   "outputs": [],
   "source": [
    "nilai1 = 87\n",
    "nilai2 = 90\n",
    "totalnilai = nilai1 * nilai2"
   ]
  },
  {
   "cell_type": "markdown",
   "metadata": {},
   "source": [
    "### Latihan Mandiri"
   ]
  },
  {
   "cell_type": "markdown",
   "metadata": {},
   "source": [
    "1. Baca dan praktekkan <b>ex1.py s.d. ex14.py</b> pada buku referensi: Shaw, Zed A. 2017. Learn Python 3 The Hard Way, A Very Simple Introduction to the Terrifyingly Beautiful World of Computers and Code. Addison-Wesley. \n",
    "* Latihan ini <b>wajib</b> dilakukan dan menjadi <b>prasyarat masuk</b> ke sesi tutorial berikutnya\n",
    "* Jangan lakukan copy n paste, wajib Anda ketik untuk membiasakan menuliskan program secara benar.\n",
    "* Diskusi dan tanya jawab terhadap latihan ini akan dilakukan pada pertemuan berikutnya."
   ]
  },
  {
   "cell_type": "code",
   "execution_count": null,
   "metadata": {},
   "outputs": [],
   "source": []
  }
 ],
 "metadata": {
  "kernelspec": {
   "display_name": "Python 3",
   "language": "python",
   "name": "python3"
  },
  "language_info": {
   "codemirror_mode": {
    "name": "ipython",
    "version": 3
   },
   "file_extension": ".py",
   "mimetype": "text/x-python",
   "name": "python",
   "nbconvert_exporter": "python",
   "pygments_lexer": "ipython3",
   "version": "3.6.5"
  }
 },
 "nbformat": 4,
 "nbformat_minor": 2
}
