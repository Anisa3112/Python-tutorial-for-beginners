{
 "cells": [
  {
   "cell_type": "markdown",
   "metadata": {},
   "source": [
    "# Matriks\n",
    "\n",
    "Topik dibahas:\n",
    "* definisi matriks\n",
    "* membuat matriks dari list\n",
    "* membuat matriks menggunakan perulangan\n",
    "* operasi dasar pada matriks\n",
    "* Penggunaan NumPy untuk matriks"
   ]
  },
  {
   "cell_type": "markdown",
   "metadata": {},
   "source": [
    "# Matriks\n",
    "\n",
    "Matriks adalah suatu bilangan atau simbol yang disusun dalam baris dan kolom. Isi dari matriks disebut sebagai elemen-elemen matriks. Penulisan elemen matriks tersebut berada dalam kurung ( ... ) atau [ ... ]. Elemen horizontal disebut sebagai baris ( biasa disimbolkan dengan m), kemudian elemen vertikal disebut sebagai kolom (biasa disimbolkan sebagai n).\n",
    "\n",
    "Perhatikan ilustrasi sebuah matrik di bawah ini. Matriks A berisi sembilan elemen, dimana jumlah baris (m) adalah 3 dan jumlah kolom (n) adalah 3, atau dapat dinyatakan bahwa matrik A berukuran 3 x 3. Adapun bentuk umum matriks seperti disajikan pada gambar berikutnya."
   ]
  },
  {
   "attachments": {},
   "cell_type": "markdown",
   "metadata": {},
   "source": [
    "<img src=\"images/w12matriks_contoh.JPG\">"
   ]
  },
  {
   "attachments": {},
   "cell_type": "markdown",
   "metadata": {},
   "source": [
    "<img src=\"images/w12matriks_simbol.JPG\">"
   ]
  },
  {
   "cell_type": "markdown",
   "metadata": {},
   "source": [
    "## Membuat Matrik dari List\n",
    "\n",
    "Pada bahasa pemrograman python, matriks digambarkan sebagai list bersarang atau _nested list_ atau list dua dimensi. Berikut ini ilustrasi membuat matriks. "
   ]
  },
  {
   "cell_type": "code",
   "execution_count": 3,
   "metadata": {},
   "outputs": [
    {
     "name": "stdout",
     "output_type": "stream",
     "text": [
      "[[1, 2], [3, 4]]\n"
     ]
    }
   ],
   "source": [
    "# matriks berukuran 2 x 2\n",
    "matriksA = [ [1, 2], \n",
    "             [3, 4] ]\n",
    "\n",
    "print(matriksA)"
   ]
  },
  {
   "cell_type": "code",
   "execution_count": 4,
   "metadata": {},
   "outputs": [
    {
     "name": "stdout",
     "output_type": "stream",
     "text": [
      "[[1, 2], [3, 4], [5, 6]]\n"
     ]
    }
   ],
   "source": [
    "# matriks berukuran 3 x 2\n",
    "matriksB = [ [1, 2], \n",
    "             [3, 4], \n",
    "             [5, 6] ]\n",
    "\n",
    "print(matriksB)"
   ]
  },
  {
   "cell_type": "code",
   "execution_count": 15,
   "metadata": {},
   "outputs": [
    {
     "name": "stdout",
     "output_type": "stream",
     "text": [
      "[[1, 2, 3, 4], [5, 6, 7, 8], [9, 10, 11, 12], [13, 14, 15, 16]]\n",
      "15\n"
     ]
    }
   ],
   "source": [
    "# matriks berukuran 4 x 4\n",
    "matriksC = [ [1, 2, 3, 4], \n",
    "             [5, 6, 7, 8], \n",
    "             [9, 10, 11, 12], \n",
    "             [13, 14, 15, 16] ]\n",
    "\n",
    "print(matriksC)"
   ]
  },
  {
   "cell_type": "markdown",
   "metadata": {},
   "source": [
    "Perhatikan bahwa contoh di bawah ini  bukanlah matriks, melainkan hanyalah sebuah list dua dimensi atau nested list atau list bersarang saja. Hal ini karena jumlah elemen pada setiap baris atau kolom tidak sama."
   ]
  },
  {
   "cell_type": "code",
   "execution_count": 6,
   "metadata": {},
   "outputs": [
    {
     "name": "stdout",
     "output_type": "stream",
     "text": [
      "[[1, 2, 3, 4], [5, 6], [9, 10, 11, 12], [13, 14, 15, 16]]\n"
     ]
    }
   ],
   "source": [
    "# Bukan matriks\n",
    "bukanMatriks = [ [1, 2, 3, 4], \n",
    "             [5, 6 ], \n",
    "             [9, 10, 11, 12], \n",
    "             [13, 14, 15, 16] ]\n",
    "\n",
    "print(bukanMatriks)"
   ]
  },
  {
   "cell_type": "markdown",
   "metadata": {},
   "source": [
    "## Mengakses sebuah Elemen pada Matriks\n",
    "Mengakses sebuah elemen pada matriks sebagaimana mengakses list menggunakan indeks-nya. Harus kembali diingat bahwa indeks list tersebut dimulai dari nol ( 0 ).\n"
   ]
  },
  {
   "cell_type": "code",
   "execution_count": 17,
   "metadata": {},
   "outputs": [
    {
     "name": "stdout",
     "output_type": "stream",
     "text": [
      "4\n",
      "9\n",
      "15\n"
     ]
    }
   ],
   "source": [
    "print(matriksA[1][1])\n",
    "print(matriksC[2][0])\n",
    "print(matriksC[3][2])"
   ]
  },
  {
   "cell_type": "markdown",
   "metadata": {},
   "source": [
    "## Membuat Matriks menggunakan Perulangan"
   ]
  },
  {
   "cell_type": "markdown",
   "metadata": {},
   "source": [
    "Membuat matriks dapat dilakukan menggunakan blok program perulangan menggunakan _for_. Perhatikan contoh di bawah ini."
   ]
  },
  {
   "cell_type": "code",
   "execution_count": 11,
   "metadata": {},
   "outputs": [
    {
     "name": "stdout",
     "output_type": "stream",
     "text": [
      "[[1, 1, 1], [1, 1, 1], [1, 1, 1], [1, 1, 1]]\n"
     ]
    }
   ],
   "source": [
    "m = 4\n",
    "n = 3\n",
    "MA  = [0] * m\n",
    "\n",
    "for i in range(m):\n",
    "    MA[i] = [1] * n\n",
    "\n",
    "print(MA)"
   ]
  },
  {
   "cell_type": "markdown",
   "metadata": {},
   "source": [
    "Contoh di atas mengilustrasikan pembuatan matrik berukuran m x n atau dimana jumlah baris atau m adalah 4 dan jumlah kolom atau n adalah 3. \n",
    "\n",
    "Langkah berikutnya adalah mendeklarasikan variabel list atau matriks MA yang jumlah barisnya adalah m dengan menuliskan \n",
    "<i> \n",
    "    \n",
    "    MA = [0] * m   # Hasil proses ini adalah [0, 0, 0, 0]\n",
    "</i>\n",
    "\n",
    "Kemudian buat perulangan sebanyak m ( 4 kali) dimulai dari indeks 0.\n",
    "<i> \n",
    "    \n",
    "    for i in range(m):  \n",
    "</i>\n",
    "\n",
    "Kemudian untuk setiap MA[i] diberikan nilai list satu dimensi berukuran _n_ yang isinya adalah bilangan 1.\n",
    "<i> \n",
    "    \n",
    "    MA[i] = [1] * n  \n",
    "</i>\n",
    "\n"
   ]
  },
  {
   "cell_type": "markdown",
   "metadata": {},
   "source": [
    "Cara lain untuk mengisi elemen matrik adalah menggunakan perulangan bersarang, atau nested for. Namun demikian, matriks tersebut sudah harus terdefinisi atau terbentuk terlebih dahulu dengan menggunakan proses yang dicoontohkan sebelumnya."
   ]
  },
  {
   "cell_type": "code",
   "execution_count": 21,
   "metadata": {},
   "outputs": [
    {
     "name": "stdout",
     "output_type": "stream",
     "text": [
      "[[0, 1, 2, 3, 4], [1, 2, 3, 4, 5], [2, 3, 4, 5, 6], [3, 4, 5, 6, 7]]\n"
     ]
    }
   ],
   "source": [
    "m = 4\n",
    "n = 5\n",
    "MB  = [0] * m\n",
    "for i in range(m):\n",
    "    MB[i] = [0] * n\n",
    "    \n",
    "for i in range(0, m):\n",
    "    for j in range(0, n):\n",
    "        MB[i][j] = i+j\n",
    "\n",
    "print(MB)"
   ]
  },
  {
   "cell_type": "markdown",
   "metadata": {},
   "source": [
    "## Mengakses Elemen Matriks Menggunakan Perulangan"
   ]
  },
  {
   "cell_type": "code",
   "execution_count": 22,
   "metadata": {},
   "outputs": [
    {
     "name": "stdout",
     "output_type": "stream",
     "text": [
      "3 2 \n",
      "0 6 \n"
     ]
    }
   ],
   "source": [
    "MatA = [\n",
    "    [3, 2],\n",
    "    [0, 6],\n",
    "]\n",
    "for x in range(0, len(MatA)):\n",
    "    for y in range(0, len(MatA[0])):\n",
    "        print (MatA[x][y], end=' '),\n",
    "    print ()"
   ]
  },
  {
   "cell_type": "code",
   "execution_count": 23,
   "metadata": {},
   "outputs": [
    {
     "name": "stdout",
     "output_type": "stream",
     "text": [
      "1 2 3 4 \n",
      "5 6 7 8 \n",
      "9 10 11 12 \n",
      "13 14 15 16 \n"
     ]
    }
   ],
   "source": [
    "for i in range(0, len(matriksC)):\n",
    "    for j in range(0, len(matriksC[0])):\n",
    "        print (matriksC[i][j], end=' '),\n",
    "    print ()"
   ]
  },
  {
   "cell_type": "markdown",
   "metadata": {},
   "source": [
    "## Operasi Dasar pada Matriks"
   ]
  },
  {
   "cell_type": "markdown",
   "metadata": {},
   "source": [
    "Pada bagian ini ditunjukkan operasi dasar pada matriks yaitu penjumlahan, pengurangan dan perkalian."
   ]
  },
  {
   "cell_type": "markdown",
   "metadata": {},
   "source": [
    "### 1. Penjumlahan Matriks\n",
    "Penjumlahan matriks dapat di lakukan pada matriks yang berukuran (ordo) sama. Setiap element pada matriks di jumlahkan satu persatu sehingga mendapat hasil yang di tata sesuai ordo awal."
   ]
  },
  {
   "cell_type": "code",
   "execution_count": 26,
   "metadata": {},
   "outputs": [
    {
     "name": "stdout",
     "output_type": "stream",
     "text": [
      "11 7 \n",
      "5 9 \n"
     ]
    }
   ],
   "source": [
    "MatA = [\n",
    "    [8, 2],\n",
    "    [4, 6],\n",
    "]\n",
    "MatB = [\n",
    "    [3, 5],\n",
    "    [1, 3],\n",
    "]\n",
    "for i in range(0, len(MatA)):\n",
    "    for j in range(0, len(MatA[0])):\n",
    "        print (MatA[i][j] + MatB[i][j], end=' '),\n",
    "    print ()"
   ]
  },
  {
   "cell_type": "markdown",
   "metadata": {},
   "source": [
    "### 2. Pengurangan Matriks\n",
    "\n",
    "Pengurangan pada matriks sama seperti proses penjumlahan matriks, dengan mengganti operator (+) menjadi (-)"
   ]
  },
  {
   "cell_type": "code",
   "execution_count": null,
   "metadata": {},
   "outputs": [],
   "source": [
    "for i in range(0, len(MatA)):\n",
    "    for j in range(0, len(MatA[0])):\n",
    "        print (MatA[i][j] i MatB[i][j], end=' '),\n",
    "    print ()"
   ]
  },
  {
   "cell_type": "markdown",
   "metadata": {},
   "source": [
    "#### Latihan Mandiri\n",
    "Bagaimana jika hasil penjumlahan disimpan pada matriks dengan nama MatC ? dan hasil pengurangan matriks disimpan pada matriks dengan nama MatD ?"
   ]
  },
  {
   "cell_type": "markdown",
   "metadata": {},
   "source": [
    "### 3 Perkalian Matriks\n",
    "\n",
    "Perkalian matriks dilakukan dengan menjumlahkan hasil perkalian suatu baris matriks pertama ke kolom matriks kedua. Setiap baris di matriks pertama akan dikalikan ke setiap kolom di matriks kedua.\n",
    "\n",
    "Proses perkalian matriks menggunakan nested loop for di dalam nested loop yang kedua. Perulangan ketiga digunakan untuk melakukan proses penjumlahan hasil perkalian baris dan kolom. Hasilnya elemen matriks baru akan ditempatkan pada koordinat tersebut."
   ]
  },
  {
   "attachments": {},
   "cell_type": "markdown",
   "metadata": {},
   "source": [
    "<img src=\"images/w12matriks_perkalian.JPG\">"
   ]
  },
  {
   "attachments": {},
   "cell_type": "markdown",
   "metadata": {},
   "source": [
    "<img src=\"images/w12MatrikEdanF.png\">"
   ]
  },
  {
   "cell_type": "code",
   "execution_count": 10,
   "metadata": {},
   "outputs": [
    {
     "name": "stdout",
     "output_type": "stream",
     "text": [
      "0.1015552516040901 0.24415576447520032 0.768270083559755 \n",
      "0.3003578845562583 0.6748819909073465 0.54412998201414 \n",
      "0.1898813849352471 0.4366326605305818 0.70927604815943 \n"
     ]
    }
   ],
   "source": [
    "matE = [\n",
    "        [0.16426444, 0.86066735],\n",
    "        [0.66929087, 0.3290199 ],\n",
    "        [0.38433369, 0.6765218 ]\n",
    "]\n",
    "\n",
    "matF = [\n",
    "    [0.43122339, 0.95886182, 0.412917  ],\n",
    "    [0.03569391, 0.10067637, 0.8138365 ]\n",
    "]\n",
    "\n",
    "matG = []\n",
    "# print(len(matE))\n",
    "# print(len(matE[0]))\n",
    "# print(len(matF))\n",
    "# print(len(matF[0]))\n",
    "\n",
    "for x in range(0, len(matE)):\n",
    "    row = []\n",
    "    for y in range(0, len(matE)):\n",
    "        total = 0\n",
    "        for z in range(0, len(matF)):\n",
    "            total = total + (matE[x][z] * matF[z][y])\n",
    "        row.append(total)\n",
    "    matG.append(row)\n",
    "    \n",
    "for x in range(0, len(matG)):\n",
    "    for y in range(0, len(matG[0])):\n",
    "        print (matG[x][y], end=' ')\n",
    "    print ()"
   ]
  },
  {
   "cell_type": "markdown",
   "metadata": {},
   "source": [
    "## NumPy untuk Operasi Matriks"
   ]
  },
  {
   "cell_type": "markdown",
   "metadata": {},
   "source": [
    "NumPy adalah sebuah modul untuk Python --> \"Numeric Python\" or \"Numerical Python\". NumPy memperkaya bahasa pemrograman python melalui struktur data, implementasi multi-dimensional arrays dan matriks. NumPy memberikan kemudahan untuk mengolah data matriks skala besar dan berbagai proses operasi matriks lainnya. Keuntungan lain penggunaan NumPy adalah konsumsi memori komputer yang lebih kecil dibanding menggunakan bentuk list pada python. \n",
    "\n",
    "> It provides fast and efficient operations on arrays of homogeneous data. NumPy extends python into a high-level language for manipulating numerical data, similiar to MATLAB.\n",
    "\n",
    "Perhatikan contoh operasi perkalian matriks"
   ]
  },
  {
   "cell_type": "code",
   "execution_count": 2,
   "metadata": {},
   "outputs": [
    {
     "name": "stdout",
     "output_type": "stream",
     "text": [
      "Matriks pertama :\n",
      " [[0.93062341 0.50213061]\n",
      " [0.12943806 0.93134218]\n",
      " [0.45762333 0.68672856]]\n",
      "\n",
      " Matriks kedua :\n",
      " [[0.80894756 0.33948425 0.28769222]\n",
      " [0.89379771 0.34039502 0.04207755]]\n",
      "\n",
      " Matriks hasil perkalian :\n",
      " [[1.20162872 0.48685475 0.28886154]\n",
      " [0.93714011 0.36096642 0.07642692]\n",
      " [0.98398969 0.3891149  0.16055053]]\n"
     ]
    }
   ],
   "source": [
    "import numpy as np\n",
    "\n",
    "# inisialisasi matrik 3x2 dengan nilai random\n",
    "matNA = np.matrix(np.random.rand(3, 2))\n",
    "# print matriks pertama\n",
    "print('Matriks pertama :\\n', matNA)\n",
    "\n",
    "# inisialisasi matrik 2x3 dengan nilai random\n",
    "matNB = np.matrix(np.random.rand(2, 3))\n",
    "# print matriks kedua\n",
    "print('\\n Matriks kedua :\\n', matNB)\n",
    "\n",
    "# perkalian matrik menggunakan operator *\n",
    "matNC = matNA * matNB\n",
    "# print matriks hasil perkalian\n",
    "print('\\n Matriks hasil perkalian :\\n', matNC)"
   ]
  },
  {
   "cell_type": "markdown",
   "metadata": {},
   "source": [
    "### Membuat matriks\n"
   ]
  },
  {
   "cell_type": "markdown",
   "metadata": {},
   "source": [
    "Perhatikan contoh-contoh membuat matriks di bawah ini.\n"
   ]
  },
  {
   "cell_type": "code",
   "execution_count": 11,
   "metadata": {
    "scrolled": true
   },
   "outputs": [
    {
     "name": "stdout",
     "output_type": "stream",
     "text": [
      "Matriks 2x2 : \n",
      " [[1 2]\n",
      " [3 4]]\n",
      "<class 'numpy.matrixlib.defmatrix.matrix'>\n"
     ]
    }
   ],
   "source": [
    "import numpy as np\n",
    "\n",
    "# Membuata matriks 2x2\n",
    "matnpA = np.matrix([[1,2],[3,4]])\n",
    "print('Matriks 2x2 : \\n', matnpA)\n",
    "print(type(matnpA))"
   ]
  },
  {
   "cell_type": "code",
   "execution_count": 12,
   "metadata": {},
   "outputs": [
    {
     "name": "stdout",
     "output_type": "stream",
     "text": [
      "Dimensi matriks : (2, 2)\n"
     ]
    }
   ],
   "source": [
    "# gunakan perintah shape untuk memperoleh informasi ukuran matriks\n",
    "print('Dimensi matriks :', matnpA.shape)"
   ]
  },
  {
   "cell_type": "markdown",
   "metadata": {},
   "source": [
    "Program di bawah ini membentuk matriks dengan panjang elemen 12, dan nilai elemen dimulai dari indeks 0 sampai 11 dengan ukuran 3×4."
   ]
  },
  {
   "cell_type": "code",
   "execution_count": 5,
   "metadata": {},
   "outputs": [
    {
     "name": "stdout",
     "output_type": "stream",
     "text": [
      "[[ 0  1  2]\n",
      " [ 3  4  5]\n",
      " [ 6  7  8]\n",
      " [ 9 10 11]]\n"
     ]
    }
   ],
   "source": [
    "from numpy import * \n",
    "matrikNP = range(12) \n",
    "matrikNP = reshape(matrikNP,(4,3)) \n",
    "print(matrikNP)"
   ]
  },
  {
   "cell_type": "code",
   "execution_count": null,
   "metadata": {},
   "outputs": [],
   "source": []
  }
 ],
 "metadata": {
  "kernelspec": {
   "display_name": "Python 3",
   "language": "python",
   "name": "python3"
  },
  "language_info": {
   "codemirror_mode": {
    "name": "ipython",
    "version": 3
   },
   "file_extension": ".py",
   "mimetype": "text/x-python",
   "name": "python",
   "nbconvert_exporter": "python",
   "pygments_lexer": "ipython3",
   "version": "3.6.5"
  }
 },
 "nbformat": 4,
 "nbformat_minor": 2
}
